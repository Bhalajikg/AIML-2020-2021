{
 "cells": [
  {
   "cell_type": "markdown",
   "metadata": {},
   "source": [
    "# Loading The Dataset"
   ]
  },
  {
   "cell_type": "code",
   "execution_count": 1,
   "metadata": {},
   "outputs": [],
   "source": [
    "import  numpy as np\n",
    "import pandas as pd\n",
    "import matplotlib.pyplot as plt\n",
    "import seaborn as sns\n",
    "from sklearn.model_selection import train_test_split"
   ]
  },
  {
   "cell_type": "code",
   "execution_count": 12,
   "metadata": {},
   "outputs": [],
   "source": [
    "data = pd.read_csv(\"Electronic_dataset.csv\")"
   ]
  },
  {
   "cell_type": "code",
   "execution_count": 13,
   "metadata": {},
   "outputs": [
    {
     "data": {
      "text/plain": [
       "(500000, 4)"
      ]
     },
     "execution_count": 13,
     "metadata": {},
     "output_type": "execute_result"
    }
   ],
   "source": [
    "data.shape"
   ]
  },
  {
   "cell_type": "code",
   "execution_count": 14,
   "metadata": {},
   "outputs": [
    {
     "data": {
      "text/html": [
       "<div>\n",
       "<style scoped>\n",
       "    .dataframe tbody tr th:only-of-type {\n",
       "        vertical-align: middle;\n",
       "    }\n",
       "\n",
       "    .dataframe tbody tr th {\n",
       "        vertical-align: top;\n",
       "    }\n",
       "\n",
       "    .dataframe thead th {\n",
       "        text-align: right;\n",
       "    }\n",
       "</style>\n",
       "<table border=\"1\" class=\"dataframe\">\n",
       "  <thead>\n",
       "    <tr style=\"text-align: right;\">\n",
       "      <th></th>\n",
       "      <th>user_id</th>\n",
       "      <th>prod_id</th>\n",
       "      <th>ratings</th>\n",
       "      <th>timestamp</th>\n",
       "    </tr>\n",
       "  </thead>\n",
       "  <tbody>\n",
       "    <tr>\n",
       "      <td>499995</td>\n",
       "      <td>AT1DOX4N48TXJ</td>\n",
       "      <td>B000P3X7RK</td>\n",
       "      <td>2.0</td>\n",
       "      <td>1210291200</td>\n",
       "    </tr>\n",
       "    <tr>\n",
       "      <td>499996</td>\n",
       "      <td>A224J6BHKCLMJM</td>\n",
       "      <td>B005CPGHAA</td>\n",
       "      <td>4.0</td>\n",
       "      <td>1359244800</td>\n",
       "    </tr>\n",
       "    <tr>\n",
       "      <td>499997</td>\n",
       "      <td>A23WSQC26QEFLC</td>\n",
       "      <td>B006FLK1IE</td>\n",
       "      <td>5.0</td>\n",
       "      <td>1323302400</td>\n",
       "    </tr>\n",
       "    <tr>\n",
       "      <td>499998</td>\n",
       "      <td>ARHZCDAH1UTPN</td>\n",
       "      <td>B006W5FHI2</td>\n",
       "      <td>5.0</td>\n",
       "      <td>1361577600</td>\n",
       "    </tr>\n",
       "    <tr>\n",
       "      <td>499999</td>\n",
       "      <td>A9XU2MMIWGZBT</td>\n",
       "      <td>B001JJRBU8</td>\n",
       "      <td>4.0</td>\n",
       "      <td>1237420800</td>\n",
       "    </tr>\n",
       "  </tbody>\n",
       "</table>\n",
       "</div>"
      ],
      "text/plain": [
       "               user_id     prod_id  ratings   timestamp\n",
       "499995   AT1DOX4N48TXJ  B000P3X7RK      2.0  1210291200\n",
       "499996  A224J6BHKCLMJM  B005CPGHAA      4.0  1359244800\n",
       "499997  A23WSQC26QEFLC  B006FLK1IE      5.0  1323302400\n",
       "499998   ARHZCDAH1UTPN  B006W5FHI2      5.0  1361577600\n",
       "499999   A9XU2MMIWGZBT  B001JJRBU8      4.0  1237420800"
      ]
     },
     "execution_count": 14,
     "metadata": {},
     "output_type": "execute_result"
    }
   ],
   "source": [
    "data.tail()"
   ]
  },
  {
   "cell_type": "markdown",
   "metadata": {},
   "source": [
    "Tried with 10% data with 50000 but its still very heavy fro my system, so considering 25000 count of data"
   ]
  },
  {
   "cell_type": "code",
   "execution_count": 15,
   "metadata": {},
   "outputs": [],
   "source": [
    "sub_data = data.head(25000)"
   ]
  },
  {
   "cell_type": "code",
   "execution_count": 16,
   "metadata": {},
   "outputs": [
    {
     "data": {
      "text/html": [
       "<div>\n",
       "<style scoped>\n",
       "    .dataframe tbody tr th:only-of-type {\n",
       "        vertical-align: middle;\n",
       "    }\n",
       "\n",
       "    .dataframe tbody tr th {\n",
       "        vertical-align: top;\n",
       "    }\n",
       "\n",
       "    .dataframe thead th {\n",
       "        text-align: right;\n",
       "    }\n",
       "</style>\n",
       "<table border=\"1\" class=\"dataframe\">\n",
       "  <thead>\n",
       "    <tr style=\"text-align: right;\">\n",
       "      <th></th>\n",
       "      <th>user_id</th>\n",
       "      <th>prod_id</th>\n",
       "      <th>ratings</th>\n",
       "      <th>timestamp</th>\n",
       "    </tr>\n",
       "  </thead>\n",
       "  <tbody>\n",
       "    <tr>\n",
       "      <td>0</td>\n",
       "      <td>A3L1GVWVJKWZZS</td>\n",
       "      <td>B0058UUR6E</td>\n",
       "      <td>5.0</td>\n",
       "      <td>1364774400</td>\n",
       "    </tr>\n",
       "    <tr>\n",
       "      <td>1</td>\n",
       "      <td>A08831071BVKZMKNCPI5S</td>\n",
       "      <td>B009ID0VVS</td>\n",
       "      <td>5.0</td>\n",
       "      <td>1357257600</td>\n",
       "    </tr>\n",
       "    <tr>\n",
       "      <td>2</td>\n",
       "      <td>A1SINU2I4IOPNU</td>\n",
       "      <td>B000GBO9IM</td>\n",
       "      <td>4.0</td>\n",
       "      <td>1358121600</td>\n",
       "    </tr>\n",
       "    <tr>\n",
       "      <td>3</td>\n",
       "      <td>A3P3P31EEOX2BD</td>\n",
       "      <td>B00CDCIOHO</td>\n",
       "      <td>3.0</td>\n",
       "      <td>1404950400</td>\n",
       "    </tr>\n",
       "    <tr>\n",
       "      <td>4</td>\n",
       "      <td>A3DBLJ3MPBJQMN</td>\n",
       "      <td>B000MS3VGA</td>\n",
       "      <td>5.0</td>\n",
       "      <td>1294444800</td>\n",
       "    </tr>\n",
       "  </tbody>\n",
       "</table>\n",
       "</div>"
      ],
      "text/plain": [
       "                 user_id     prod_id  ratings   timestamp\n",
       "0         A3L1GVWVJKWZZS  B0058UUR6E      5.0  1364774400\n",
       "1  A08831071BVKZMKNCPI5S  B009ID0VVS      5.0  1357257600\n",
       "2         A1SINU2I4IOPNU  B000GBO9IM      4.0  1358121600\n",
       "3         A3P3P31EEOX2BD  B00CDCIOHO      3.0  1404950400\n",
       "4         A3DBLJ3MPBJQMN  B000MS3VGA      5.0  1294444800"
      ]
     },
     "execution_count": 16,
     "metadata": {},
     "output_type": "execute_result"
    }
   ],
   "source": [
    "sub_data.head()"
   ]
  },
  {
   "cell_type": "code",
   "execution_count": 17,
   "metadata": {},
   "outputs": [
    {
     "data": {
      "text/plain": [
       "(25000, 4)"
      ]
     },
     "execution_count": 17,
     "metadata": {},
     "output_type": "execute_result"
    }
   ],
   "source": [
    "sub_data.shape"
   ]
  },
  {
   "cell_type": "code",
   "execution_count": 18,
   "metadata": {},
   "outputs": [
    {
     "data": {
      "text/html": [
       "<div>\n",
       "<style scoped>\n",
       "    .dataframe tbody tr th:only-of-type {\n",
       "        vertical-align: middle;\n",
       "    }\n",
       "\n",
       "    .dataframe tbody tr th {\n",
       "        vertical-align: top;\n",
       "    }\n",
       "\n",
       "    .dataframe thead th {\n",
       "        text-align: right;\n",
       "    }\n",
       "</style>\n",
       "<table border=\"1\" class=\"dataframe\">\n",
       "  <thead>\n",
       "    <tr style=\"text-align: right;\">\n",
       "      <th></th>\n",
       "      <th>count</th>\n",
       "      <th>mean</th>\n",
       "      <th>std</th>\n",
       "      <th>min</th>\n",
       "      <th>25%</th>\n",
       "      <th>50%</th>\n",
       "      <th>75%</th>\n",
       "      <th>max</th>\n",
       "    </tr>\n",
       "  </thead>\n",
       "  <tbody>\n",
       "    <tr>\n",
       "      <td>ratings</td>\n",
       "      <td>25000.0</td>\n",
       "      <td>4.009960e+00</td>\n",
       "      <td>1.386022e+00</td>\n",
       "      <td>1.0</td>\n",
       "      <td>3.000000e+00</td>\n",
       "      <td>5.000000e+00</td>\n",
       "      <td>5.000000e+00</td>\n",
       "      <td>5.000000e+00</td>\n",
       "    </tr>\n",
       "    <tr>\n",
       "      <td>timestamp</td>\n",
       "      <td>25000.0</td>\n",
       "      <td>1.338547e+09</td>\n",
       "      <td>6.882918e+07</td>\n",
       "      <td>944611200.0</td>\n",
       "      <td>1.316131e+09</td>\n",
       "      <td>1.361146e+09</td>\n",
       "      <td>1.386288e+09</td>\n",
       "      <td>1.406074e+09</td>\n",
       "    </tr>\n",
       "  </tbody>\n",
       "</table>\n",
       "</div>"
      ],
      "text/plain": [
       "             count          mean           std          min           25%  \\\n",
       "ratings    25000.0  4.009960e+00  1.386022e+00          1.0  3.000000e+00   \n",
       "timestamp  25000.0  1.338547e+09  6.882918e+07  944611200.0  1.316131e+09   \n",
       "\n",
       "                    50%           75%           max  \n",
       "ratings    5.000000e+00  5.000000e+00  5.000000e+00  \n",
       "timestamp  1.361146e+09  1.386288e+09  1.406074e+09  "
      ]
     },
     "execution_count": 18,
     "metadata": {},
     "output_type": "execute_result"
    }
   ],
   "source": [
    "sub_data.describe().T"
   ]
  },
  {
   "cell_type": "code",
   "execution_count": 19,
   "metadata": {},
   "outputs": [
    {
     "name": "stdout",
     "output_type": "stream",
     "text": [
      "<class 'pandas.core.frame.DataFrame'>\n",
      "RangeIndex: 25000 entries, 0 to 24999\n",
      "Data columns (total 4 columns):\n",
      "user_id      25000 non-null object\n",
      "prod_id      25000 non-null object\n",
      "ratings      25000 non-null float64\n",
      "timestamp    25000 non-null int64\n",
      "dtypes: float64(1), int64(1), object(2)\n",
      "memory usage: 781.4+ KB\n"
     ]
    }
   ],
   "source": [
    "sub_data.info()"
   ]
  },
  {
   "cell_type": "code",
   "execution_count": 20,
   "metadata": {},
   "outputs": [],
   "source": [
    "sub_data.drop(columns='timestamp',inplace=True)"
   ]
  },
  {
   "cell_type": "code",
   "execution_count": 21,
   "metadata": {},
   "outputs": [
    {
     "data": {
      "text/html": [
       "<div>\n",
       "<style scoped>\n",
       "    .dataframe tbody tr th:only-of-type {\n",
       "        vertical-align: middle;\n",
       "    }\n",
       "\n",
       "    .dataframe tbody tr th {\n",
       "        vertical-align: top;\n",
       "    }\n",
       "\n",
       "    .dataframe thead th {\n",
       "        text-align: right;\n",
       "    }\n",
       "</style>\n",
       "<table border=\"1\" class=\"dataframe\">\n",
       "  <thead>\n",
       "    <tr style=\"text-align: right;\">\n",
       "      <th></th>\n",
       "      <th>user_id</th>\n",
       "      <th>prod_id</th>\n",
       "      <th>ratings</th>\n",
       "    </tr>\n",
       "  </thead>\n",
       "  <tbody>\n",
       "    <tr>\n",
       "      <td>0</td>\n",
       "      <td>A3L1GVWVJKWZZS</td>\n",
       "      <td>B0058UUR6E</td>\n",
       "      <td>5.0</td>\n",
       "    </tr>\n",
       "    <tr>\n",
       "      <td>1</td>\n",
       "      <td>A08831071BVKZMKNCPI5S</td>\n",
       "      <td>B009ID0VVS</td>\n",
       "      <td>5.0</td>\n",
       "    </tr>\n",
       "    <tr>\n",
       "      <td>2</td>\n",
       "      <td>A1SINU2I4IOPNU</td>\n",
       "      <td>B000GBO9IM</td>\n",
       "      <td>4.0</td>\n",
       "    </tr>\n",
       "    <tr>\n",
       "      <td>3</td>\n",
       "      <td>A3P3P31EEOX2BD</td>\n",
       "      <td>B00CDCIOHO</td>\n",
       "      <td>3.0</td>\n",
       "    </tr>\n",
       "    <tr>\n",
       "      <td>4</td>\n",
       "      <td>A3DBLJ3MPBJQMN</td>\n",
       "      <td>B000MS3VGA</td>\n",
       "      <td>5.0</td>\n",
       "    </tr>\n",
       "  </tbody>\n",
       "</table>\n",
       "</div>"
      ],
      "text/plain": [
       "                 user_id     prod_id  ratings\n",
       "0         A3L1GVWVJKWZZS  B0058UUR6E      5.0\n",
       "1  A08831071BVKZMKNCPI5S  B009ID0VVS      5.0\n",
       "2         A1SINU2I4IOPNU  B000GBO9IM      4.0\n",
       "3         A3P3P31EEOX2BD  B00CDCIOHO      3.0\n",
       "4         A3DBLJ3MPBJQMN  B000MS3VGA      5.0"
      ]
     },
     "execution_count": 21,
     "metadata": {},
     "output_type": "execute_result"
    }
   ],
   "source": [
    "sub_data.head()"
   ]
  },
  {
   "cell_type": "code",
   "execution_count": 22,
   "metadata": {},
   "outputs": [
    {
     "name": "stderr",
     "output_type": "stream",
     "text": [
      "C:\\Users\\sridhar\\Anaconda3\\lib\\site-packages\\pandas\\core\\frame.py:4223: SettingWithCopyWarning: \n",
      "A value is trying to be set on a copy of a slice from a DataFrame\n",
      "\n",
      "See the caveats in the documentation: http://pandas.pydata.org/pandas-docs/stable/user_guide/indexing.html#returning-a-view-versus-a-copy\n",
      "  return super().rename(**kwargs)\n"
     ]
    }
   ],
   "source": [
    "sub_data.rename(columns={'user_id' : 'User_ID','prod_id' : 'Product_ID','ratings' : 'Ratings'},inplace=True)"
   ]
  },
  {
   "cell_type": "code",
   "execution_count": 23,
   "metadata": {},
   "outputs": [
    {
     "data": {
      "text/plain": [
       "(array([ 2923.,     0.,  1470.,     0.,     0.,  1941.,     0.,  4767.,\n",
       "            0., 13899.]),\n",
       " array([1. , 1.4, 1.8, 2.2, 2.6, 3. , 3.4, 3.8, 4.2, 4.6, 5. ]),\n",
       " <a list of 10 Patch objects>)"
      ]
     },
     "execution_count": 23,
     "metadata": {},
     "output_type": "execute_result"
    },
    {
     "data": {
      "image/png": "[encoded data removed]",
      "text/plain": [
       "<Figure size 432x288 with 1 Axes>"
      ]
     },
     "metadata": {
      "needs_background": "light"
     },
     "output_type": "display_data"
    }
   ],
   "source": [
    "plt.hist(x=sub_data['Ratings'])"
   ]
  },
  {
   "cell_type": "code",
   "execution_count": 24,
   "metadata": {},
   "outputs": [
    {
     "data": {
      "text/plain": [
       "<matplotlib.axes._subplots.AxesSubplot at 0x226d73df288>"
      ]
     },
     "execution_count": 24,
     "metadata": {},
     "output_type": "execute_result"
    },
    {
     "data": {
      "image/png": "[encoded data removed]",
      "text/plain": [
       "<Figure size 432x288 with 1 Axes>"
      ]
     },
     "metadata": {
      "needs_background": "light"
     },
     "output_type": "display_data"
    }
   ],
   "source": [
    "sns.boxplot(x='Ratings',data = sub_data)"
   ]
  },
  {
   "cell_type": "code",
   "execution_count": 25,
   "metadata": {},
   "outputs": [
    {
     "data": {
      "text/plain": [
       "Product_ID\n",
       "0972683275    5.0\n",
       "1400501466    1.0\n",
       "1400501520    5.0\n",
       "1400501776    3.0\n",
       "1400532620    1.0\n",
       "Name: Ratings, dtype: float64"
      ]
     },
     "execution_count": 25,
     "metadata": {},
     "output_type": "execute_result"
    }
   ],
   "source": [
    "sub_data.groupby('Product_ID')['Ratings'].mean().head()"
   ]
  },
  {
   "cell_type": "code",
   "execution_count": 26,
   "metadata": {},
   "outputs": [
    {
     "data": {
      "text/plain": [
       "Product_ID\n",
       "B00LMOH8DU    5.0\n",
       "B003S5SOLG    5.0\n",
       "B003SSCEW8    5.0\n",
       "B003SRVQQY    5.0\n",
       "B003SQS7XU    5.0\n",
       "Name: Ratings, dtype: float64"
      ]
     },
     "execution_count": 26,
     "metadata": {},
     "output_type": "execute_result"
    }
   ],
   "source": [
    "sub_data.groupby('Product_ID')['Ratings'].mean().sort_values(ascending=False).head()  "
   ]
  },
  {
   "cell_type": "code",
   "execution_count": 27,
   "metadata": {},
   "outputs": [
    {
     "data": {
      "text/plain": [
       "Product_ID\n",
       "B00DR0PDNE    54\n",
       "B007WTAJTO    51\n",
       "B0074BW614    47\n",
       "B006GWO5WK    43\n",
       "B003ES5ZUU    41\n",
       "Name: Ratings, dtype: int64"
      ]
     },
     "execution_count": 27,
     "metadata": {},
     "output_type": "execute_result"
    }
   ],
   "source": [
    "sub_data.groupby('Product_ID')['Ratings'].count().sort_values(ascending=False).head()  "
   ]
  },
  {
   "cell_type": "code",
   "execution_count": 28,
   "metadata": {},
   "outputs": [],
   "source": [
    "ratings_mean_count = pd.DataFrame(sub_data.groupby('Product_ID')['Ratings'].mean().sort_values(ascending=False)) "
   ]
  },
  {
   "cell_type": "code",
   "execution_count": 29,
   "metadata": {},
   "outputs": [
    {
     "data": {
      "text/html": [
       "<div>\n",
       "<style scoped>\n",
       "    .dataframe tbody tr th:only-of-type {\n",
       "        vertical-align: middle;\n",
       "    }\n",
       "\n",
       "    .dataframe tbody tr th {\n",
       "        vertical-align: top;\n",
       "    }\n",
       "\n",
       "    .dataframe thead th {\n",
       "        text-align: right;\n",
       "    }\n",
       "</style>\n",
       "<table border=\"1\" class=\"dataframe\">\n",
       "  <thead>\n",
       "    <tr style=\"text-align: right;\">\n",
       "      <th></th>\n",
       "      <th>Ratings</th>\n",
       "    </tr>\n",
       "    <tr>\n",
       "      <th>Product_ID</th>\n",
       "      <th></th>\n",
       "    </tr>\n",
       "  </thead>\n",
       "  <tbody>\n",
       "    <tr>\n",
       "      <td>B00LMOH8DU</td>\n",
       "      <td>5.0</td>\n",
       "    </tr>\n",
       "    <tr>\n",
       "      <td>B003S5SOLG</td>\n",
       "      <td>5.0</td>\n",
       "    </tr>\n",
       "    <tr>\n",
       "      <td>B003SSCEW8</td>\n",
       "      <td>5.0</td>\n",
       "    </tr>\n",
       "    <tr>\n",
       "      <td>B003SRVQQY</td>\n",
       "      <td>5.0</td>\n",
       "    </tr>\n",
       "    <tr>\n",
       "      <td>B003SQS7XU</td>\n",
       "      <td>5.0</td>\n",
       "    </tr>\n",
       "  </tbody>\n",
       "</table>\n",
       "</div>"
      ],
      "text/plain": [
       "            Ratings\n",
       "Product_ID         \n",
       "B00LMOH8DU      5.0\n",
       "B003S5SOLG      5.0\n",
       "B003SSCEW8      5.0\n",
       "B003SRVQQY      5.0\n",
       "B003SQS7XU      5.0"
      ]
     },
     "execution_count": 29,
     "metadata": {},
     "output_type": "execute_result"
    }
   ],
   "source": [
    "ratings_mean_count.head()"
   ]
  },
  {
   "cell_type": "code",
   "execution_count": 30,
   "metadata": {},
   "outputs": [],
   "source": [
    "ratings_mean_count['Rating_counts'] = pd.DataFrame(sub_data.groupby('Product_ID')['Ratings'].count())  "
   ]
  },
  {
   "cell_type": "markdown",
   "metadata": {},
   "source": [
    "The Popularity Based recommendations can be found in below DataFrame"
   ]
  },
  {
   "cell_type": "code",
   "execution_count": 31,
   "metadata": {},
   "outputs": [
    {
     "data": {
      "text/html": [
       "<div>\n",
       "<style scoped>\n",
       "    .dataframe tbody tr th:only-of-type {\n",
       "        vertical-align: middle;\n",
       "    }\n",
       "\n",
       "    .dataframe tbody tr th {\n",
       "        vertical-align: top;\n",
       "    }\n",
       "\n",
       "    .dataframe thead th {\n",
       "        text-align: right;\n",
       "    }\n",
       "</style>\n",
       "<table border=\"1\" class=\"dataframe\">\n",
       "  <thead>\n",
       "    <tr style=\"text-align: right;\">\n",
       "      <th></th>\n",
       "      <th>Ratings</th>\n",
       "      <th>Rating_counts</th>\n",
       "    </tr>\n",
       "    <tr>\n",
       "      <th>Product_ID</th>\n",
       "      <th></th>\n",
       "      <th></th>\n",
       "    </tr>\n",
       "  </thead>\n",
       "  <tbody>\n",
       "    <tr>\n",
       "      <td>B00LMOH8DU</td>\n",
       "      <td>5.0</td>\n",
       "      <td>1</td>\n",
       "    </tr>\n",
       "    <tr>\n",
       "      <td>B003S5SOLG</td>\n",
       "      <td>5.0</td>\n",
       "      <td>4</td>\n",
       "    </tr>\n",
       "    <tr>\n",
       "      <td>B003SSCEW8</td>\n",
       "      <td>5.0</td>\n",
       "      <td>1</td>\n",
       "    </tr>\n",
       "    <tr>\n",
       "      <td>B003SRVQQY</td>\n",
       "      <td>5.0</td>\n",
       "      <td>1</td>\n",
       "    </tr>\n",
       "    <tr>\n",
       "      <td>B003SQS7XU</td>\n",
       "      <td>5.0</td>\n",
       "      <td>1</td>\n",
       "    </tr>\n",
       "  </tbody>\n",
       "</table>\n",
       "</div>"
      ],
      "text/plain": [
       "            Ratings  Rating_counts\n",
       "Product_ID                        \n",
       "B00LMOH8DU      5.0              1\n",
       "B003S5SOLG      5.0              4\n",
       "B003SSCEW8      5.0              1\n",
       "B003SRVQQY      5.0              1\n",
       "B003SQS7XU      5.0              1"
      ]
     },
     "execution_count": 31,
     "metadata": {},
     "output_type": "execute_result"
    }
   ],
   "source": [
    "ratings_mean_count.head()  "
   ]
  },
  {
   "cell_type": "markdown",
   "metadata": {},
   "source": [
    "# Observations:\n",
    "- Since all the Products(ASINs:Amazon Standard Identification Number) are Unique so the rating count is 1.\n",
    "- Lets try to build the model with the Products which is rated more than 10 times by the customers and compare"
   ]
  },
  {
   "cell_type": "code",
   "execution_count": 32,
   "metadata": {},
   "outputs": [
    {
     "data": {
      "text/html": [
       "<div>\n",
       "<style scoped>\n",
       "    .dataframe tbody tr th:only-of-type {\n",
       "        vertical-align: middle;\n",
       "    }\n",
       "\n",
       "    .dataframe tbody tr th {\n",
       "        vertical-align: top;\n",
       "    }\n",
       "\n",
       "    .dataframe thead th {\n",
       "        text-align: right;\n",
       "    }\n",
       "</style>\n",
       "<table border=\"1\" class=\"dataframe\">\n",
       "  <thead>\n",
       "    <tr style=\"text-align: right;\">\n",
       "      <th></th>\n",
       "      <th>user_id</th>\n",
       "      <th>prod_id</th>\n",
       "      <th>ratings</th>\n",
       "      <th>timestamp</th>\n",
       "    </tr>\n",
       "  </thead>\n",
       "  <tbody>\n",
       "    <tr>\n",
       "      <td>264</td>\n",
       "      <td>A1YEPFLLH42OU1</td>\n",
       "      <td>B00E3W15P0</td>\n",
       "      <td>5.0</td>\n",
       "      <td>1404086400</td>\n",
       "    </tr>\n",
       "    <tr>\n",
       "      <td>413</td>\n",
       "      <td>A10Y058K7B96C6</td>\n",
       "      <td>B005HSG3VK</td>\n",
       "      <td>5.0</td>\n",
       "      <td>1325030400</td>\n",
       "    </tr>\n",
       "    <tr>\n",
       "      <td>526</td>\n",
       "      <td>A3EZEP0FX5BC1P</td>\n",
       "      <td>B0044DHU84</td>\n",
       "      <td>4.0</td>\n",
       "      <td>1296086400</td>\n",
       "    </tr>\n",
       "    <tr>\n",
       "      <td>719</td>\n",
       "      <td>A17HMM1M7T9PJ1</td>\n",
       "      <td>B00ESKS0KU</td>\n",
       "      <td>4.0</td>\n",
       "      <td>1394496000</td>\n",
       "    </tr>\n",
       "    <tr>\n",
       "      <td>913</td>\n",
       "      <td>A15CL28ALB7MTZ</td>\n",
       "      <td>B001QFYCXO</td>\n",
       "      <td>4.0</td>\n",
       "      <td>1245283200</td>\n",
       "    </tr>\n",
       "  </tbody>\n",
       "</table>\n",
       "</div>"
      ],
      "text/plain": [
       "            user_id     prod_id  ratings   timestamp\n",
       "264  A1YEPFLLH42OU1  B00E3W15P0      5.0  1404086400\n",
       "413  A10Y058K7B96C6  B005HSG3VK      5.0  1325030400\n",
       "526  A3EZEP0FX5BC1P  B0044DHU84      4.0  1296086400\n",
       "719  A17HMM1M7T9PJ1  B00ESKS0KU      4.0  1394496000\n",
       "913  A15CL28ALB7MTZ  B001QFYCXO      4.0  1245283200"
      ]
     },
     "execution_count": 32,
     "metadata": {},
     "output_type": "execute_result"
    }
   ],
   "source": [
    "filtered_data = data.groupby('user_id').filter(lambda x:len(x)>10)\n",
    "filtered_data.head() "
   ]
  },
  {
   "cell_type": "code",
   "execution_count": 34,
   "metadata": {},
   "outputs": [
    {
     "data": {
      "text/plain": [
       "(1595, 4)"
      ]
     },
     "execution_count": 34,
     "metadata": {},
     "output_type": "execute_result"
    }
   ],
   "source": [
    "filtered_data.shape"
   ]
  },
  {
   "cell_type": "code",
   "execution_count": 35,
   "metadata": {},
   "outputs": [
    {
     "name": "stdout",
     "output_type": "stream",
     "text": [
      "<class 'pandas.core.frame.DataFrame'>\n",
      "Int64Index: 1595 entries, 264 to 499916\n",
      "Data columns (total 4 columns):\n",
      "user_id      1595 non-null object\n",
      "prod_id      1595 non-null object\n",
      "ratings      1595 non-null float64\n",
      "timestamp    1595 non-null int64\n",
      "dtypes: float64(1), int64(1), object(2)\n",
      "memory usage: 62.3+ KB\n"
     ]
    }
   ],
   "source": [
    "filtered_data.info()"
   ]
  },
  {
   "cell_type": "code",
   "execution_count": 36,
   "metadata": {},
   "outputs": [
    {
     "name": "stderr",
     "output_type": "stream",
     "text": [
      "C:\\Users\\sridhar\\Anaconda3\\lib\\site-packages\\pandas\\core\\frame.py:4102: SettingWithCopyWarning: \n",
      "A value is trying to be set on a copy of a slice from a DataFrame\n",
      "\n",
      "See the caveats in the documentation: http://pandas.pydata.org/pandas-docs/stable/user_guide/indexing.html#returning-a-view-versus-a-copy\n",
      "  errors=errors,\n"
     ]
    }
   ],
   "source": [
    "filtered_data.drop(columns='timestamp',inplace=True)"
   ]
  },
  {
   "cell_type": "code",
   "execution_count": 37,
   "metadata": {},
   "outputs": [
    {
     "data": {
      "text/html": [
       "<div>\n",
       "<style scoped>\n",
       "    .dataframe tbody tr th:only-of-type {\n",
       "        vertical-align: middle;\n",
       "    }\n",
       "\n",
       "    .dataframe tbody tr th {\n",
       "        vertical-align: top;\n",
       "    }\n",
       "\n",
       "    .dataframe thead th {\n",
       "        text-align: right;\n",
       "    }\n",
       "</style>\n",
       "<table border=\"1\" class=\"dataframe\">\n",
       "  <thead>\n",
       "    <tr style=\"text-align: right;\">\n",
       "      <th></th>\n",
       "      <th>user_id</th>\n",
       "      <th>prod_id</th>\n",
       "      <th>ratings</th>\n",
       "    </tr>\n",
       "  </thead>\n",
       "  <tbody>\n",
       "    <tr>\n",
       "      <td>264</td>\n",
       "      <td>A1YEPFLLH42OU1</td>\n",
       "      <td>B00E3W15P0</td>\n",
       "      <td>5.0</td>\n",
       "    </tr>\n",
       "    <tr>\n",
       "      <td>413</td>\n",
       "      <td>A10Y058K7B96C6</td>\n",
       "      <td>B005HSG3VK</td>\n",
       "      <td>5.0</td>\n",
       "    </tr>\n",
       "    <tr>\n",
       "      <td>526</td>\n",
       "      <td>A3EZEP0FX5BC1P</td>\n",
       "      <td>B0044DHU84</td>\n",
       "      <td>4.0</td>\n",
       "    </tr>\n",
       "    <tr>\n",
       "      <td>719</td>\n",
       "      <td>A17HMM1M7T9PJ1</td>\n",
       "      <td>B00ESKS0KU</td>\n",
       "      <td>4.0</td>\n",
       "    </tr>\n",
       "    <tr>\n",
       "      <td>913</td>\n",
       "      <td>A15CL28ALB7MTZ</td>\n",
       "      <td>B001QFYCXO</td>\n",
       "      <td>4.0</td>\n",
       "    </tr>\n",
       "  </tbody>\n",
       "</table>\n",
       "</div>"
      ],
      "text/plain": [
       "            user_id     prod_id  ratings\n",
       "264  A1YEPFLLH42OU1  B00E3W15P0      5.0\n",
       "413  A10Y058K7B96C6  B005HSG3VK      5.0\n",
       "526  A3EZEP0FX5BC1P  B0044DHU84      4.0\n",
       "719  A17HMM1M7T9PJ1  B00ESKS0KU      4.0\n",
       "913  A15CL28ALB7MTZ  B001QFYCXO      4.0"
      ]
     },
     "execution_count": 37,
     "metadata": {},
     "output_type": "execute_result"
    }
   ],
   "source": [
    "filtered_data.head()"
   ]
  },
  {
   "cell_type": "code",
   "execution_count": 38,
   "metadata": {},
   "outputs": [
    {
     "name": "stderr",
     "output_type": "stream",
     "text": [
      "C:\\Users\\sridhar\\Anaconda3\\lib\\site-packages\\pandas\\core\\frame.py:4223: SettingWithCopyWarning: \n",
      "A value is trying to be set on a copy of a slice from a DataFrame\n",
      "\n",
      "See the caveats in the documentation: http://pandas.pydata.org/pandas-docs/stable/user_guide/indexing.html#returning-a-view-versus-a-copy\n",
      "  return super().rename(**kwargs)\n"
     ]
    }
   ],
   "source": [
    "filtered_data.rename(columns={'user_id' : 'User_ID','prod_id' : 'Product_ID','ratings' : 'Ratings'},inplace=True)"
   ]
  },
  {
   "cell_type": "markdown",
   "metadata": {},
   "source": [
    "# Data Analysis"
   ]
  },
  {
   "cell_type": "code",
   "execution_count": 39,
   "metadata": {},
   "outputs": [
    {
     "data": {
      "text/plain": [
       "A680RUE1FDO8B     36\n",
       "A3OXHLG6DIBRW8    34\n",
       "ADLVFFE4VBT8      30\n",
       "A5JLAU2ARJ0BO     29\n",
       "A2NOW4U7W3F7RI    28\n",
       "                  ..\n",
       "A2KYRPDKVBI2R4    11\n",
       "A6VXZ1EEPRTLV     11\n",
       "A1MEISNED4NP7U    11\n",
       "A34BZM6S9L7QI4    11\n",
       "A2QDOJFFLFGF18    11\n",
       "Name: User_ID, Length: 108, dtype: int64"
      ]
     },
     "execution_count": 39,
     "metadata": {},
     "output_type": "execute_result"
    }
   ],
   "source": [
    "filtered_data['User_ID'].value_counts()"
   ]
  },
  {
   "cell_type": "code",
   "execution_count": 40,
   "metadata": {},
   "outputs": [
    {
     "data": {
      "text/plain": [
       "B0088CJT4U    5\n",
       "B007WTAJTO    4\n",
       "B001E1Y5O6    4\n",
       "B004T9RR6I    4\n",
       "B006GWO5WK    4\n",
       "             ..\n",
       "B001CE5LNY    1\n",
       "B00F9Q5E5G    1\n",
       "B001QGT1CA    1\n",
       "B006CFU61U    1\n",
       "B00ADM79N6    1\n",
       "Name: Product_ID, Length: 1479, dtype: int64"
      ]
     },
     "execution_count": 40,
     "metadata": {},
     "output_type": "execute_result"
    }
   ],
   "source": [
    "filtered_data['Product_ID'].value_counts()"
   ]
  },
  {
   "cell_type": "code",
   "execution_count": 41,
   "metadata": {},
   "outputs": [
    {
     "data": {
      "text/plain": [
       "<matplotlib.axes._subplots.AxesSubplot at 0x226d7e372c8>"
      ]
     },
     "execution_count": 41,
     "metadata": {},
     "output_type": "execute_result"
    },
    {
     "data": {
      "image/png": "[encoded data removed]",
      "text/plain": [
       "<Figure size 432x288 with 1 Axes>"
      ]
     },
     "metadata": {
      "needs_background": "light"
     },
     "output_type": "display_data"
    }
   ],
   "source": [
    "sns.distplot(filtered_data['Ratings'])"
   ]
  },
  {
   "cell_type": "code",
   "execution_count": 42,
   "metadata": {},
   "outputs": [
    {
     "name": "stdout",
     "output_type": "stream",
     "text": [
      "The number of unique products in the data is: 1479\n",
      "The number of unique customers in the data is: 108\n"
     ]
    }
   ],
   "source": [
    "###Checking unique customers and products\n",
    "print(\"The number of unique products in the data is:\", len(filtered_data['Product_ID'].unique()))\n",
    "print(\"The number of unique customers in the data is:\", len(filtered_data['User_ID'].unique()))"
   ]
  },
  {
   "cell_type": "code",
   "execution_count": 43,
   "metadata": {},
   "outputs": [
    {
     "data": {
      "text/plain": [
       "<matplotlib.axes._subplots.AxesSubplot at 0x226d7ee1708>"
      ]
     },
     "execution_count": 43,
     "metadata": {},
     "output_type": "execute_result"
    },
    {
     "data": {
      "image/png": "[encoded data removed]",
      "text/plain": [
       "<Figure size 432x288 with 1 Axes>"
      ]
     },
     "metadata": {
      "needs_background": "light"
     },
     "output_type": "display_data"
    }
   ],
   "source": [
    "sns.boxplot(filtered_data['Ratings'])"
   ]
  },
  {
   "cell_type": "code",
   "execution_count": 44,
   "metadata": {},
   "outputs": [
    {
     "data": {
      "text/plain": [
       "Product_ID\n",
       "B00000DM9M    5.0\n",
       "B00000J1US    5.0\n",
       "B00000K0JC    5.0\n",
       "B000028F42    2.0\n",
       "B00004R8VC    5.0\n",
       "Name: Ratings, dtype: float64"
      ]
     },
     "execution_count": 44,
     "metadata": {},
     "output_type": "execute_result"
    }
   ],
   "source": [
    "filtered_data.groupby('Product_ID')['Ratings'].mean().head()  "
   ]
  },
  {
   "cell_type": "code",
   "execution_count": 45,
   "metadata": {},
   "outputs": [
    {
     "data": {
      "text/plain": [
       "Product_ID\n",
       "B00L2442H0    5.0\n",
       "B002TMRZOQ    5.0\n",
       "B0032ANC8M    5.0\n",
       "B0031AQ302    5.0\n",
       "B00310V8IY    5.0\n",
       "Name: Ratings, dtype: float64"
      ]
     },
     "execution_count": 45,
     "metadata": {},
     "output_type": "execute_result"
    }
   ],
   "source": [
    "filtered_data.groupby('Product_ID')['Ratings'].mean().sort_values(ascending=False).head()"
   ]
  },
  {
   "cell_type": "code",
   "execution_count": 46,
   "metadata": {},
   "outputs": [
    {
     "data": {
      "text/plain": [
       "Product_ID\n",
       "B0088CJT4U    5\n",
       "B006GWO5WK    4\n",
       "B007WTAJTO    4\n",
       "B004T9RR6I    4\n",
       "B001E1Y5O6    4\n",
       "Name: Ratings, dtype: int64"
      ]
     },
     "execution_count": 46,
     "metadata": {},
     "output_type": "execute_result"
    }
   ],
   "source": [
    "filtered_data.groupby('Product_ID')['Ratings'].count().sort_values(ascending=False).head()"
   ]
  },
  {
   "cell_type": "code",
   "execution_count": 47,
   "metadata": {},
   "outputs": [],
   "source": [
    "ratings_mean_count = pd.DataFrame(filtered_data.groupby('Product_ID')['Ratings'].mean()) "
   ]
  },
  {
   "cell_type": "code",
   "execution_count": 48,
   "metadata": {},
   "outputs": [],
   "source": [
    "ratings_mean_count['rating_counts'] = pd.DataFrame(filtered_data.groupby('Product_ID')['Ratings'].count())  "
   ]
  },
  {
   "cell_type": "code",
   "execution_count": 49,
   "metadata": {},
   "outputs": [
    {
     "data": {
      "text/html": [
       "<div>\n",
       "<style scoped>\n",
       "    .dataframe tbody tr th:only-of-type {\n",
       "        vertical-align: middle;\n",
       "    }\n",
       "\n",
       "    .dataframe tbody tr th {\n",
       "        vertical-align: top;\n",
       "    }\n",
       "\n",
       "    .dataframe thead th {\n",
       "        text-align: right;\n",
       "    }\n",
       "</style>\n",
       "<table border=\"1\" class=\"dataframe\">\n",
       "  <thead>\n",
       "    <tr style=\"text-align: right;\">\n",
       "      <th></th>\n",
       "      <th>Ratings</th>\n",
       "      <th>rating_counts</th>\n",
       "    </tr>\n",
       "    <tr>\n",
       "      <th>Product_ID</th>\n",
       "      <th></th>\n",
       "      <th></th>\n",
       "    </tr>\n",
       "  </thead>\n",
       "  <tbody>\n",
       "    <tr>\n",
       "      <td>B00000DM9M</td>\n",
       "      <td>5.0</td>\n",
       "      <td>1</td>\n",
       "    </tr>\n",
       "    <tr>\n",
       "      <td>B00000J1US</td>\n",
       "      <td>5.0</td>\n",
       "      <td>1</td>\n",
       "    </tr>\n",
       "    <tr>\n",
       "      <td>B00000K0JC</td>\n",
       "      <td>5.0</td>\n",
       "      <td>1</td>\n",
       "    </tr>\n",
       "    <tr>\n",
       "      <td>B000028F42</td>\n",
       "      <td>2.0</td>\n",
       "      <td>1</td>\n",
       "    </tr>\n",
       "    <tr>\n",
       "      <td>B00004R8VC</td>\n",
       "      <td>5.0</td>\n",
       "      <td>1</td>\n",
       "    </tr>\n",
       "  </tbody>\n",
       "</table>\n",
       "</div>"
      ],
      "text/plain": [
       "            Ratings  rating_counts\n",
       "Product_ID                        \n",
       "B00000DM9M      5.0              1\n",
       "B00000J1US      5.0              1\n",
       "B00000K0JC      5.0              1\n",
       "B000028F42      2.0              1\n",
       "B00004R8VC      5.0              1"
      ]
     },
     "execution_count": 49,
     "metadata": {},
     "output_type": "execute_result"
    }
   ],
   "source": [
    "ratings_mean_count.head()"
   ]
  },
  {
   "cell_type": "markdown",
   "metadata": {},
   "source": [
    "Below are the top 5 product ids that can be recommended as part of the popularity based recommendation model"
   ]
  },
  {
   "cell_type": "code",
   "execution_count": 50,
   "metadata": {},
   "outputs": [
    {
     "data": {
      "text/html": [
       "<div>\n",
       "<style scoped>\n",
       "    .dataframe tbody tr th:only-of-type {\n",
       "        vertical-align: middle;\n",
       "    }\n",
       "\n",
       "    .dataframe tbody tr th {\n",
       "        vertical-align: top;\n",
       "    }\n",
       "\n",
       "    .dataframe thead th {\n",
       "        text-align: right;\n",
       "    }\n",
       "</style>\n",
       "<table border=\"1\" class=\"dataframe\">\n",
       "  <thead>\n",
       "    <tr style=\"text-align: right;\">\n",
       "      <th></th>\n",
       "      <th>Ratings</th>\n",
       "    </tr>\n",
       "    <tr>\n",
       "      <th>Product_ID</th>\n",
       "      <th></th>\n",
       "    </tr>\n",
       "  </thead>\n",
       "  <tbody>\n",
       "    <tr>\n",
       "      <td>B00000DM9M</td>\n",
       "      <td>5.0</td>\n",
       "    </tr>\n",
       "    <tr>\n",
       "      <td>B00000J1US</td>\n",
       "      <td>5.0</td>\n",
       "    </tr>\n",
       "    <tr>\n",
       "      <td>B00000K0JC</td>\n",
       "      <td>5.0</td>\n",
       "    </tr>\n",
       "    <tr>\n",
       "      <td>B000028F42</td>\n",
       "      <td>2.0</td>\n",
       "    </tr>\n",
       "    <tr>\n",
       "      <td>B00004R8VC</td>\n",
       "      <td>5.0</td>\n",
       "    </tr>\n",
       "  </tbody>\n",
       "</table>\n",
       "</div>"
      ],
      "text/plain": [
       "            Ratings\n",
       "Product_ID         \n",
       "B00000DM9M      5.0\n",
       "B00000J1US      5.0\n",
       "B00000K0JC      5.0\n",
       "B000028F42      2.0\n",
       "B00004R8VC      5.0"
      ]
     },
     "execution_count": 50,
     "metadata": {},
     "output_type": "execute_result"
    }
   ],
   "source": [
    "ratings = pd.DataFrame(filtered_data.groupby('Product_ID')['Ratings'].mean())\n",
    "ratings.head()"
   ]
  },
  {
   "cell_type": "code",
   "execution_count": 51,
   "metadata": {},
   "outputs": [
    {
     "data": {
      "text/html": [
       "<div>\n",
       "<style scoped>\n",
       "    .dataframe tbody tr th:only-of-type {\n",
       "        vertical-align: middle;\n",
       "    }\n",
       "\n",
       "    .dataframe tbody tr th {\n",
       "        vertical-align: top;\n",
       "    }\n",
       "\n",
       "    .dataframe thead th {\n",
       "        text-align: right;\n",
       "    }\n",
       "</style>\n",
       "<table border=\"1\" class=\"dataframe\">\n",
       "  <thead>\n",
       "    <tr style=\"text-align: right;\">\n",
       "      <th></th>\n",
       "      <th>Ratings</th>\n",
       "      <th>number_of_ratings</th>\n",
       "    </tr>\n",
       "    <tr>\n",
       "      <th>Product_ID</th>\n",
       "      <th></th>\n",
       "      <th></th>\n",
       "    </tr>\n",
       "  </thead>\n",
       "  <tbody>\n",
       "    <tr>\n",
       "      <td>B00000DM9M</td>\n",
       "      <td>5.0</td>\n",
       "      <td>1</td>\n",
       "    </tr>\n",
       "    <tr>\n",
       "      <td>B00000J1US</td>\n",
       "      <td>5.0</td>\n",
       "      <td>1</td>\n",
       "    </tr>\n",
       "    <tr>\n",
       "      <td>B00000K0JC</td>\n",
       "      <td>5.0</td>\n",
       "      <td>1</td>\n",
       "    </tr>\n",
       "    <tr>\n",
       "      <td>B000028F42</td>\n",
       "      <td>2.0</td>\n",
       "      <td>1</td>\n",
       "    </tr>\n",
       "    <tr>\n",
       "      <td>B00004R8VC</td>\n",
       "      <td>5.0</td>\n",
       "      <td>1</td>\n",
       "    </tr>\n",
       "  </tbody>\n",
       "</table>\n",
       "</div>"
      ],
      "text/plain": [
       "            Ratings  number_of_ratings\n",
       "Product_ID                            \n",
       "B00000DM9M      5.0                  1\n",
       "B00000J1US      5.0                  1\n",
       "B00000K0JC      5.0                  1\n",
       "B000028F42      2.0                  1\n",
       "B00004R8VC      5.0                  1"
      ]
     },
     "execution_count": 51,
     "metadata": {},
     "output_type": "execute_result"
    }
   ],
   "source": [
    "ratings['number_of_ratings'] = filtered_data.groupby('Product_ID')['Ratings'].count()\n",
    "ratings.head()"
   ]
  },
  {
   "cell_type": "code",
   "execution_count": 52,
   "metadata": {},
   "outputs": [
    {
     "data": {
      "text/plain": [
       "<matplotlib.axes._subplots.AxesSubplot at 0x226d7f51fc8>"
      ]
     },
     "execution_count": 52,
     "metadata": {},
     "output_type": "execute_result"
    },
    {
     "data": {
      "image/png": "[encoded data removed]",
      "text/plain": [
       "<Figure size 432x288 with 1 Axes>"
      ]
     },
     "metadata": {
      "needs_background": "light"
     },
     "output_type": "display_data"
    }
   ],
   "source": [
    "ratings['Ratings'].hist(bins=50)"
   ]
  },
  {
   "cell_type": "code",
   "execution_count": 53,
   "metadata": {},
   "outputs": [
    {
     "data": {
      "text/plain": [
       "<seaborn.axisgrid.JointGrid at 0x226d8047348>"
      ]
     },
     "execution_count": 53,
     "metadata": {},
     "output_type": "execute_result"
    },
    {
     "data": {
      "image/png": "[encoded data removed]",
      "text/plain": [
       "<Figure size 432x432 with 3 Axes>"
      ]
     },
     "metadata": {
      "needs_background": "light"
     },
     "output_type": "display_data"
    }
   ],
   "source": [
    "sns.jointplot(x='Ratings', y='number_of_ratings', data=ratings)"
   ]
  },
  {
   "cell_type": "markdown",
   "metadata": {},
   "source": [
    "# User-User Collaborative Filtering model"
   ]
  },
  {
   "cell_type": "code",
   "execution_count": 54,
   "metadata": {},
   "outputs": [],
   "source": [
    "from surprise import KNNWithMeans\n",
    "from surprise import accuracy\n",
    "from surprise.model_selection import train_test_split"
   ]
  },
  {
   "cell_type": "code",
   "execution_count": 55,
   "metadata": {},
   "outputs": [],
   "source": [
    "from surprise import Reader\n",
    "from surprise import Dataset\n"
   ]
  },
  {
   "cell_type": "code",
   "execution_count": 56,
   "metadata": {},
   "outputs": [],
   "source": [
    "reader = Reader(rating_scale=(1, 5))"
   ]
  },
  {
   "cell_type": "code",
   "execution_count": 57,
   "metadata": {},
   "outputs": [],
   "source": [
    "data_s = Dataset.load_from_df(filtered_data[['User_ID', 'Product_ID', 'Ratings']], reader)"
   ]
  },
  {
   "cell_type": "code",
   "execution_count": 58,
   "metadata": {},
   "outputs": [],
   "source": [
    "train, test = train_test_split(data_s, test_size=.30,random_state = 1)"
   ]
  },
  {
   "cell_type": "code",
   "execution_count": 59,
   "metadata": {},
   "outputs": [
    {
     "name": "stdout",
     "output_type": "stream",
     "text": [
      "Estimating biases using als...\n",
      "Computing the pearson_baseline similarity matrix...\n",
      "Done computing similarity matrix.\n"
     ]
    },
    {
     "data": {
      "text/plain": [
       "<surprise.prediction_algorithms.knns.KNNWithMeans at 0x226d85bb208>"
      ]
     },
     "execution_count": 59,
     "metadata": {},
     "output_type": "execute_result"
    }
   ],
   "source": [
    "algo = KNNWithMeans(k=10, sim_options={'name': 'pearson_baseline', 'user_based': True})\n",
    "algo.fit(train)"
   ]
  },
  {
   "cell_type": "code",
   "execution_count": 60,
   "metadata": {},
   "outputs": [],
   "source": [
    "#First Predicting for a User's rating for a random Product\n",
    "uid1 = str('A1JZQ2OUL5863V')  \n",
    "iid1 = str('B004VM0SE6')"
   ]
  },
  {
   "cell_type": "code",
   "execution_count": 61,
   "metadata": {},
   "outputs": [
    {
     "name": "stdout",
     "output_type": "stream",
     "text": [
      "user: A1JZQ2OUL5863V item: B004VM0SE6 r_ui = None   est = 4.30   {'was_impossible': True, 'reason': 'User and/or item is unkown.'}\n"
     ]
    }
   ],
   "source": [
    "pred1 = algo.predict(uid1, iid1, verbose=True)"
   ]
  },
  {
   "cell_type": "code",
   "execution_count": 62,
   "metadata": {},
   "outputs": [],
   "source": [
    "#Second Predicting for a User's rating for a random Product\n",
    "\n",
    "uid2 = str('AGXRXRF58OH6H')  \n",
    "iid2 = str('B001QWU1R8')"
   ]
  },
  {
   "cell_type": "code",
   "execution_count": 63,
   "metadata": {},
   "outputs": [
    {
     "name": "stdout",
     "output_type": "stream",
     "text": [
      "user: AGXRXRF58OH6H item: B001QWU1R8 r_ui = None   est = 4.30   {'was_impossible': True, 'reason': 'User and/or item is unkown.'}\n"
     ]
    }
   ],
   "source": [
    "pred2 = algo.predict(uid2, iid2, verbose=True)"
   ]
  },
  {
   "cell_type": "code",
   "execution_count": 64,
   "metadata": {},
   "outputs": [],
   "source": [
    "test_pred = algo.test(test)"
   ]
  },
  {
   "cell_type": "code",
   "execution_count": 65,
   "metadata": {},
   "outputs": [
    {
     "data": {
      "text/plain": [
       "[Prediction(uid='ARBKYIVNYWK3C', iid='B009A6CZYY', r_ui=4.0, est=4.0, details={'actual_k': 0, 'was_impossible': False}),\n",
       " Prediction(uid='A11KZ906QD08C5', iid='B003ASUEP0', r_ui=5.0, est=4.303763440860215, details={'was_impossible': True, 'reason': 'User and/or item is unkown.'}),\n",
       " Prediction(uid='A3NHUQ33CFH3VM', iid='B00EHDTQQ0', r_ui=5.0, est=4.303763440860215, details={'was_impossible': True, 'reason': 'User and/or item is unkown.'}),\n",
       " Prediction(uid='A11KZ906QD08C5', iid='B00HPM1FZ0', r_ui=3.0, est=4.303763440860215, details={'was_impossible': True, 'reason': 'User and/or item is unkown.'}),\n",
       " Prediction(uid='ALDAF4VVLFRHP', iid='B000HEW0KW', r_ui=5.0, est=4.303763440860215, details={'was_impossible': True, 'reason': 'User and/or item is unkown.'}),\n",
       " Prediction(uid='A4WEZJOIZIV4U', iid='B0042KFLJ4', r_ui=5.0, est=4.303763440860215, details={'was_impossible': True, 'reason': 'User and/or item is unkown.'}),\n",
       " Prediction(uid='A15QYHQH80W30L', iid='B00419V4L0', r_ui=5.0, est=4.303763440860215, details={'was_impossible': True, 'reason': 'User and/or item is unkown.'}),\n",
       " Prediction(uid='A1RL1OTV8IJMVD', iid='B005KSQHLS', r_ui=3.0, est=4.303763440860215, details={'was_impossible': True, 'reason': 'User and/or item is unkown.'}),\n",
       " Prediction(uid='A231WM2Z2JL0U3', iid='B0000691IO', r_ui=5.0, est=4.303763440860215, details={'was_impossible': True, 'reason': 'User and/or item is unkown.'}),\n",
       " Prediction(uid='A6FIAB28IS79', iid='B0012UKOV2', r_ui=5.0, est=4.303763440860215, details={'was_impossible': True, 'reason': 'User and/or item is unkown.'}),\n",
       " Prediction(uid='A3EZEP0FX5BC1P', iid='B002OS1J6A', r_ui=1.0, est=4.303763440860215, details={'was_impossible': True, 'reason': 'User and/or item is unkown.'}),\n",
       " Prediction(uid='A1UQBFCERIP7VJ', iid='B004CLYEFK', r_ui=4.0, est=4.615384615384615, details={'actual_k': 0, 'was_impossible': False}),\n",
       " Prediction(uid='A15CL28ALB7MTZ', iid='B001BN6G8A', r_ui=4.0, est=4.303763440860215, details={'was_impossible': True, 'reason': 'User and/or item is unkown.'}),\n",
       " Prediction(uid='ADLVFFE4VBT8', iid='B000OH56ZS', r_ui=4.0, est=4.303763440860215, details={'was_impossible': True, 'reason': 'User and/or item is unkown.'}),\n",
       " Prediction(uid='A2NOW4U7W3F7RI', iid='B0040QE998', r_ui=5.0, est=4.303763440860215, details={'was_impossible': True, 'reason': 'User and/or item is unkown.'}),\n",
       " Prediction(uid='A3LGT6UZL99IW1', iid='B004DBD4TG', r_ui=5.0, est=4.303763440860215, details={'was_impossible': True, 'reason': 'User and/or item is unkown.'}),\n",
       " Prediction(uid='A3EXWV8FNSSFL6', iid='B00HDW9MU2', r_ui=5.0, est=4.303763440860215, details={'was_impossible': True, 'reason': 'User and/or item is unkown.'}),\n",
       " Prediction(uid='A18HE80910BTZI', iid='B008DWCRQW', r_ui=3.0, est=4.125, details={'actual_k': 0, 'was_impossible': False}),\n",
       " Prediction(uid='A2KYRPDKVBI2R4', iid='B001OORMVQ', r_ui=5.0, est=4.303763440860215, details={'was_impossible': True, 'reason': 'User and/or item is unkown.'}),\n",
       " Prediction(uid='A231WM2Z2JL0U3', iid='B00004SD9Q', r_ui=5.0, est=4.303763440860215, details={'was_impossible': True, 'reason': 'User and/or item is unkown.'}),\n",
       " Prediction(uid='A1F9Z42CFF9IAY', iid='B00009RUCH', r_ui=5.0, est=4.303763440860215, details={'was_impossible': True, 'reason': 'User and/or item is unkown.'}),\n",
       " Prediction(uid='A1L64KDYO5BOJA', iid='B0036AZA6A', r_ui=5.0, est=4.303763440860215, details={'was_impossible': True, 'reason': 'User and/or item is unkown.'}),\n",
       " Prediction(uid='A2WLNSZ9U0T1S3', iid='B001RNGEV8', r_ui=5.0, est=4.303763440860215, details={'was_impossible': True, 'reason': 'User and/or item is unkown.'}),\n",
       " Prediction(uid='A3AYSYSLHU26U9', iid='B00HHRP11C', r_ui=5.0, est=4.2727272727272725, details={'actual_k': 0, 'was_impossible': False}),\n",
       " Prediction(uid='A15CL28ALB7MTZ', iid='B001QFYCXO', r_ui=4.0, est=4.303763440860215, details={'was_impossible': True, 'reason': 'User and/or item is unkown.'}),\n",
       " Prediction(uid='A25C2M3QF9G7OQ', iid='B00IL7B2YM', r_ui=2.0, est=4.303763440860215, details={'was_impossible': True, 'reason': 'User and/or item is unkown.'}),\n",
       " Prediction(uid='A197T2N6RU7K56', iid='B000H02B6O', r_ui=5.0, est=4.714285714285714, details={'actual_k': 0, 'was_impossible': False}),\n",
       " Prediction(uid='A3CG93783LP0FO', iid='B005HY4U5A', r_ui=3.0, est=4.303763440860215, details={'was_impossible': True, 'reason': 'User and/or item is unkown.'}),\n",
       " Prediction(uid='A9Y5O2R4D6EH5', iid='B00004WCG6', r_ui=4.0, est=3.5, details={'actual_k': 0, 'was_impossible': False}),\n",
       " Prediction(uid='A2L42QEWR77PKZ', iid='B007NDJ2J2', r_ui=5.0, est=4.303763440860215, details={'was_impossible': True, 'reason': 'User and/or item is unkown.'}),\n",
       " Prediction(uid='A12DQZKRKTNF5E', iid='B003GSLFVG', r_ui=4.0, est=4.303763440860215, details={'was_impossible': True, 'reason': 'User and/or item is unkown.'}),\n",
       " Prediction(uid='A680RUE1FDO8B', iid='B0019EHU8G', r_ui=5.0, est=4.303763440860215, details={'was_impossible': True, 'reason': 'User and/or item is unkown.'}),\n",
       " Prediction(uid='A1RL1OTV8IJMVD', iid='B00EMB4LU8', r_ui=3.0, est=4.0, details={'actual_k': 0, 'was_impossible': False}),\n",
       " Prediction(uid='A2WLNSZ9U0T1S3', iid='B000EVSLRO', r_ui=5.0, est=4.303763440860215, details={'was_impossible': True, 'reason': 'User and/or item is unkown.'}),\n",
       " Prediction(uid='A2NOW4U7W3F7RI', iid='B00H6XDT7K', r_ui=5.0, est=4.303763440860215, details={'was_impossible': True, 'reason': 'User and/or item is unkown.'}),\n",
       " Prediction(uid='A2QDOJFFLFGF18', iid='B00DQZOD8Q', r_ui=5.0, est=4.8, details={'actual_k': 0, 'was_impossible': False}),\n",
       " Prediction(uid='A1QVFHPY8418HC', iid='B00005LB8P', r_ui=5.0, est=4.303763440860215, details={'was_impossible': True, 'reason': 'User and/or item is unkown.'}),\n",
       " Prediction(uid='A15QYHQH80W30L', iid='B0014Z5XMK', r_ui=3.0, est=4.303763440860215, details={'was_impossible': True, 'reason': 'User and/or item is unkown.'}),\n",
       " Prediction(uid='AGOH8N902URMW', iid='B00EPZEU70', r_ui=5.0, est=4.303763440860215, details={'was_impossible': True, 'reason': 'User and/or item is unkown.'}),\n",
       " Prediction(uid='A2QDOJFFLFGF18', iid='B00DEQLDDU', r_ui=5.0, est=4.303763440860215, details={'was_impossible': True, 'reason': 'User and/or item is unkown.'}),\n",
       " Prediction(uid='A1F9Z42CFF9IAY', iid='B000H4CLXS', r_ui=5.0, est=4.303763440860215, details={'was_impossible': True, 'reason': 'User and/or item is unkown.'}),\n",
       " Prediction(uid='A1E1LEVQ9VQNK', iid='B003ZBZ64Q', r_ui=5.0, est=4.303763440860215, details={'was_impossible': True, 'reason': 'User and/or item is unkown.'}),\n",
       " Prediction(uid='A1F1A0QQP2XVH5', iid='B0009YDP7W', r_ui=5.0, est=4.303763440860215, details={'was_impossible': True, 'reason': 'User and/or item is unkown.'}),\n",
       " Prediction(uid='A1UQBFCERIP7VJ', iid='B00IGD54BS', r_ui=5.0, est=4.303763440860215, details={'was_impossible': True, 'reason': 'User and/or item is unkown.'}),\n",
       " Prediction(uid='A2WLNSZ9U0T1S3', iid='B004T9RR6I', r_ui=3.0, est=4.303763440860215, details={'was_impossible': True, 'reason': 'User and/or item is unkown.'}),\n",
       " Prediction(uid='A2WB7LZ595CR50', iid='B001EKABK4', r_ui=1.0, est=4.303763440860215, details={'was_impossible': True, 'reason': 'User and/or item is unkown.'}),\n",
       " Prediction(uid='A1MEISNED4NP7U', iid='B009NHAEXE', r_ui=5.0, est=4.303763440860215, details={'was_impossible': True, 'reason': 'User and/or item is unkown.'}),\n",
       " Prediction(uid='AOEAD7DPLZE53', iid='B001D06BZY', r_ui=2.0, est=4.303763440860215, details={'was_impossible': True, 'reason': 'User and/or item is unkown.'}),\n",
       " Prediction(uid='A3OXHLG6DIBRW8', iid='B003Y74AX4', r_ui=4.0, est=4.303763440860215, details={'was_impossible': True, 'reason': 'User and/or item is unkown.'}),\n",
       " Prediction(uid='A3OA4DV4L81N1D', iid='B004OI79XU', r_ui=4.0, est=4.303763440860215, details={'was_impossible': True, 'reason': 'User and/or item is unkown.'}),\n",
       " Prediction(uid='A3NHUQ33CFH3VM', iid='B008VD4BYE', r_ui=5.0, est=4.303763440860215, details={'was_impossible': True, 'reason': 'User and/or item is unkown.'}),\n",
       " Prediction(uid='ALDAF4VVLFRHP', iid='B003CVLTCW', r_ui=5.0, est=4.303763440860215, details={'was_impossible': True, 'reason': 'User and/or item is unkown.'}),\n",
       " Prediction(uid='A2NB2E5DXE319Z', iid='B007PRHNHO', r_ui=5.0, est=4.303763440860215, details={'was_impossible': True, 'reason': 'User and/or item is unkown.'}),\n",
       " Prediction(uid='AOEDWQLH2WKKW', iid='B0007876PC', r_ui=4.0, est=4.303763440860215, details={'was_impossible': True, 'reason': 'User and/or item is unkown.'}),\n",
       " Prediction(uid='A1CPRP3VFJRS1R', iid='B0002I7288', r_ui=1.0, est=4.303763440860215, details={'was_impossible': True, 'reason': 'User and/or item is unkown.'}),\n",
       " Prediction(uid='A1F9Z42CFF9IAY', iid='B0033A7JG2', r_ui=5.0, est=4.303763440860215, details={'was_impossible': True, 'reason': 'User and/or item is unkown.'}),\n",
       " Prediction(uid='A3PD8JD9L4WEII', iid='B009PK2MNY', r_ui=4.0, est=4.303763440860215, details={'was_impossible': True, 'reason': 'User and/or item is unkown.'}),\n",
       " Prediction(uid='A1ODOGXEYECQQ8', iid='B002TOJXNU', r_ui=4.0, est=4.303763440860215, details={'was_impossible': True, 'reason': 'User and/or item is unkown.'}),\n",
       " Prediction(uid='AGOH8N902URMW', iid='B0014KKV7W', r_ui=5.0, est=4.303763440860215, details={'was_impossible': True, 'reason': 'User and/or item is unkown.'}),\n",
       " Prediction(uid='A3OXHLG6DIBRW8', iid='B000X5ZVS8', r_ui=5.0, est=4.303763440860215, details={'was_impossible': True, 'reason': 'User and/or item is unkown.'}),\n",
       " Prediction(uid='A3NHUQ33CFH3VM', iid='B00CIY0KOM', r_ui=5.0, est=4.303763440860215, details={'was_impossible': True, 'reason': 'User and/or item is unkown.'}),\n",
       " Prediction(uid='AEJAGHLC675A7', iid='B000IF51UQ', r_ui=4.0, est=4.303763440860215, details={'was_impossible': True, 'reason': 'User and/or item is unkown.'}),\n",
       " Prediction(uid='A6FIAB28IS79', iid='B00176TEGM', r_ui=5.0, est=4.303763440860215, details={'was_impossible': True, 'reason': 'User and/or item is unkown.'}),\n",
       " Prediction(uid='A1EKSETIBS9ETQ', iid='B00AEEDRFM', r_ui=5.0, est=4.303763440860215, details={'was_impossible': True, 'reason': 'User and/or item is unkown.'}),\n",
       " Prediction(uid='AEWYUPCNDV7HY', iid='B003BEDQRG', r_ui=4.0, est=4.303763440860215, details={'was_impossible': True, 'reason': 'User and/or item is unkown.'}),\n",
       " Prediction(uid='AOEAD7DPLZE53', iid='B00DYH6HEY', r_ui=5.0, est=4.303763440860215, details={'was_impossible': True, 'reason': 'User and/or item is unkown.'}),\n",
       " Prediction(uid='A3T7V207KRDE2O', iid='B006TF3746', r_ui=3.0, est=4.303763440860215, details={'was_impossible': True, 'reason': 'User and/or item is unkown.'}),\n",
       " Prediction(uid='A203OCQQ12MAVT', iid='B008BMLW6K', r_ui=5.0, est=4.303763440860215, details={'was_impossible': True, 'reason': 'User and/or item is unkown.'}),\n",
       " Prediction(uid='A1F9Z42CFF9IAY', iid='B004TJ6JH6', r_ui=3.0, est=4.303763440860215, details={'was_impossible': True, 'reason': 'User and/or item is unkown.'}),\n",
       " Prediction(uid='A3NHUQ33CFH3VM', iid='B004NY9UZ0', r_ui=5.0, est=4.303763440860215, details={'was_impossible': True, 'reason': 'User and/or item is unkown.'}),\n",
       " Prediction(uid='A680RUE1FDO8B', iid='B000LFZ6OE', r_ui=5.0, est=4.407407407407407, details={'actual_k': 0, 'was_impossible': False}),\n",
       " Prediction(uid='A28UMA3GW9L124', iid='B001E1Y5O6', r_ui=4.0, est=3.888888888888889, details={'actual_k': 0, 'was_impossible': False}),\n",
       " Prediction(uid='A1E1LEVQ9VQNK', iid='B000EOSHGQ', r_ui=5.0, est=4.303763440860215, details={'was_impossible': True, 'reason': 'User and/or item is unkown.'}),\n",
       " Prediction(uid='AOEDWQLH2WKKW', iid='B005LSS1D4', r_ui=4.0, est=4.303763440860215, details={'was_impossible': True, 'reason': 'User and/or item is unkown.'}),\n",
       " Prediction(uid='A18S2VGUH9SCV5', iid='B001UJK66I', r_ui=2.0, est=4.303763440860215, details={'was_impossible': True, 'reason': 'User and/or item is unkown.'}),\n",
       " Prediction(uid='A250AXLRBVYKB4', iid='B001TH7GSW', r_ui=5.0, est=4.303763440860215, details={'was_impossible': True, 'reason': 'User and/or item is unkown.'}),\n",
       " Prediction(uid='A1E1LEVQ9VQNK', iid='B003Z9LBDS', r_ui=5.0, est=4.303763440860215, details={'was_impossible': True, 'reason': 'User and/or item is unkown.'}),\n",
       " Prediction(uid='A1L64KDYO5BOJA', iid='B001BO2LBK', r_ui=1.0, est=4.303763440860215, details={'was_impossible': True, 'reason': 'User and/or item is unkown.'}),\n",
       " Prediction(uid='A19XMHRB3G4DIR', iid='B005VAORH6', r_ui=5.0, est=4.303763440860215, details={'was_impossible': True, 'reason': 'User and/or item is unkown.'}),\n",
       " Prediction(uid='AEJAGHLC675A7', iid='B00CHRID4Y', r_ui=5.0, est=4.303763440860215, details={'was_impossible': True, 'reason': 'User and/or item is unkown.'}),\n",
       " Prediction(uid='A2NB2E5DXE319Z', iid='B007FPIO2E', r_ui=3.0, est=4.303763440860215, details={'was_impossible': True, 'reason': 'User and/or item is unkown.'}),\n",
       " Prediction(uid='A2XRMQA6PJ5ZJ8', iid='B00FXYTLIK', r_ui=5.0, est=4.303763440860215, details={'was_impossible': True, 'reason': 'User and/or item is unkown.'}),\n",
       " Prediction(uid='A12DQZKRKTNF5E', iid='B0090J652Y', r_ui=4.0, est=4.303763440860215, details={'was_impossible': True, 'reason': 'User and/or item is unkown.'}),\n",
       " Prediction(uid='A1XXMNLOLKNO0I', iid='B008NF8BKK', r_ui=5.0, est=4.303763440860215, details={'was_impossible': True, 'reason': 'User and/or item is unkown.'}),\n",
       " Prediction(uid='A231WM2Z2JL0U3', iid='B00008SB1D', r_ui=2.0, est=4.303763440860215, details={'was_impossible': True, 'reason': 'User and/or item is unkown.'}),\n",
       " Prediction(uid='A3LGT6UZL99IW1', iid='B0046A8MQO', r_ui=4.0, est=4.303763440860215, details={'was_impossible': True, 'reason': 'User and/or item is unkown.'}),\n",
       " Prediction(uid='A3OA4DV4L81N1D', iid='B00009R6FV', r_ui=5.0, est=4.303763440860215, details={'was_impossible': True, 'reason': 'User and/or item is unkown.'}),\n",
       " Prediction(uid='A2V1J3JT5OOZFO', iid='B0021LVW8K', r_ui=4.0, est=4.303763440860215, details={'was_impossible': True, 'reason': 'User and/or item is unkown.'}),\n",
       " Prediction(uid='A1435P5AMCPB3X', iid='B000TAQ7MG', r_ui=5.0, est=4.303763440860215, details={'was_impossible': True, 'reason': 'User and/or item is unkown.'}),\n",
       " Prediction(uid='A3CG93783LP0FO', iid='B001E1Y5O6', r_ui=5.0, est=4.666666666666667, details={'actual_k': 0, 'was_impossible': False}),\n",
       " Prediction(uid='A1VQHH85U7PX0', iid='B008ULPAT2', r_ui=5.0, est=4.333333333333333, details={'actual_k': 0, 'was_impossible': False}),\n",
       " Prediction(uid='AT6CZDCP4TRGA', iid='B0047741BG', r_ui=5.0, est=4.303763440860215, details={'was_impossible': True, 'reason': 'User and/or item is unkown.'}),\n",
       " Prediction(uid='A250AXLRBVYKB4', iid='B009VV56TY', r_ui=5.0, est=4.303763440860215, details={'was_impossible': True, 'reason': 'User and/or item is unkown.'}),\n",
       " Prediction(uid='A1143YEAZYMYHJ', iid='B00005T3GK', r_ui=5.0, est=4.303763440860215, details={'was_impossible': True, 'reason': 'User and/or item is unkown.'}),\n",
       " Prediction(uid='A3CG93783LP0FO', iid='B002W7RHOG', r_ui=2.0, est=4.303763440860215, details={'was_impossible': True, 'reason': 'User and/or item is unkown.'}),\n",
       " Prediction(uid='A20DZX38KRBIT8', iid='B001JU9NZ8', r_ui=1.0, est=4.303763440860215, details={'was_impossible': True, 'reason': 'User and/or item is unkown.'}),\n",
       " Prediction(uid='A231WM2Z2JL0U3', iid='B00000J1US', r_ui=5.0, est=4.303763440860215, details={'was_impossible': True, 'reason': 'User and/or item is unkown.'}),\n",
       " Prediction(uid='A2WB7LZ595CR50', iid='B00CXADBRY', r_ui=3.0, est=4.0, details={'actual_k': 0, 'was_impossible': False}),\n",
       " Prediction(uid='A1RL1OTV8IJMVD', iid='B004SD2562', r_ui=3.0, est=4.303763440860215, details={'was_impossible': True, 'reason': 'User and/or item is unkown.'}),\n",
       " Prediction(uid='A231WM2Z2JL0U3', iid='B00007LAYN', r_ui=4.0, est=4.303763440860215, details={'was_impossible': True, 'reason': 'User and/or item is unkown.'}),\n",
       " Prediction(uid='A2NYK9KWFMJV4Y', iid='B0065B44AU', r_ui=5.0, est=4.303763440860215, details={'was_impossible': True, 'reason': 'User and/or item is unkown.'}),\n",
       " Prediction(uid='A3AYSYSLHU26U9', iid='B007VL8Y5E', r_ui=5.0, est=4.303763440860215, details={'was_impossible': True, 'reason': 'User and/or item is unkown.'}),\n",
       " Prediction(uid='A34BZM6S9L7QI4', iid='B007PZYBTY', r_ui=5.0, est=4.303763440860215, details={'was_impossible': True, 'reason': 'User and/or item is unkown.'}),\n",
       " Prediction(uid='ARBKYIVNYWK3C', iid='B002MMY4WY', r_ui=4.0, est=4.303763440860215, details={'was_impossible': True, 'reason': 'User and/or item is unkown.'}),\n",
       " Prediction(uid='A3OXHLG6DIBRW8', iid='B003LZB8RU', r_ui=5.0, est=4.303763440860215, details={'was_impossible': True, 'reason': 'User and/or item is unkown.'}),\n",
       " Prediction(uid='A3NEAETOSXDBOM', iid='B00DU6RX60', r_ui=1.0, est=4.303763440860215, details={'was_impossible': True, 'reason': 'User and/or item is unkown.'}),\n",
       " Prediction(uid='A19W47CXJJP1MI', iid='B00834SJSK', r_ui=5.0, est=4.303763440860215, details={'was_impossible': True, 'reason': 'User and/or item is unkown.'}),\n",
       " Prediction(uid='ABQWMANK4AR63', iid='B00FQ6CJ0W', r_ui=4.0, est=4.303763440860215, details={'was_impossible': True, 'reason': 'User and/or item is unkown.'}),\n",
       " Prediction(uid='A5JLAU2ARJ0BO', iid='B00015GYU4', r_ui=5.0, est=4.303763440860215, details={'was_impossible': True, 'reason': 'User and/or item is unkown.'}),\n",
       " Prediction(uid='A12DQZKRKTNF5E', iid='B00ETH7ERM', r_ui=4.0, est=4.303763440860215, details={'was_impossible': True, 'reason': 'User and/or item is unkown.'}),\n",
       " Prediction(uid='A22CW0ZHY3NJH8', iid='B00BB6LTI4', r_ui=5.0, est=4.303763440860215, details={'was_impossible': True, 'reason': 'User and/or item is unkown.'}),\n",
       " Prediction(uid='A3EZEP0FX5BC1P', iid='B00B5Q79D4', r_ui=3.0, est=4.303763440860215, details={'was_impossible': True, 'reason': 'User and/or item is unkown.'}),\n",
       " Prediction(uid='A1F9Z42CFF9IAY', iid='B00008OTDY', r_ui=5.0, est=4.303763440860215, details={'was_impossible': True, 'reason': 'User and/or item is unkown.'}),\n",
       " Prediction(uid='A2XIOXRRYX0KZY', iid='B00EYTI0TG', r_ui=4.0, est=4.303763440860215, details={'was_impossible': True, 'reason': 'User and/or item is unkown.'}),\n",
       " Prediction(uid='A23GFTVIETX7DS', iid='B004U3JM84', r_ui=3.0, est=4.303763440860215, details={'was_impossible': True, 'reason': 'User and/or item is unkown.'}),\n",
       " Prediction(uid='AOEDWQLH2WKKW', iid='B003725D32', r_ui=3.0, est=4.303763440860215, details={'was_impossible': True, 'reason': 'User and/or item is unkown.'}),\n",
       " Prediction(uid='AOEDWQLH2WKKW', iid='B007F7G6WW', r_ui=4.0, est=4.303763440860215, details={'was_impossible': True, 'reason': 'User and/or item is unkown.'}),\n",
       " Prediction(uid='A3OXHLG6DIBRW8', iid='B002ALV9VQ', r_ui=5.0, est=4.303763440860215, details={'was_impossible': True, 'reason': 'User and/or item is unkown.'}),\n",
       " Prediction(uid='A2WB7LZ595CR50', iid='B001TZWNF0', r_ui=4.0, est=4.303763440860215, details={'was_impossible': True, 'reason': 'User and/or item is unkown.'}),\n",
       " Prediction(uid='A6FIAB28IS79', iid='B000BVV2IC', r_ui=4.0, est=4.303763440860215, details={'was_impossible': True, 'reason': 'User and/or item is unkown.'}),\n",
       " Prediction(uid='ARBKYIVNYWK3C', iid='B004T9RR6I', r_ui=4.0, est=4.303763440860215, details={'was_impossible': True, 'reason': 'User and/or item is unkown.'}),\n",
       " Prediction(uid='AGOH8N902URMW', iid='B000WGB3XK', r_ui=5.0, est=4.303763440860215, details={'was_impossible': True, 'reason': 'User and/or item is unkown.'}),\n",
       " Prediction(uid='AYB4ELCS5AM8P', iid='B000BYH8EQ', r_ui=5.0, est=4.303763440860215, details={'was_impossible': True, 'reason': 'User and/or item is unkown.'}),\n",
       " Prediction(uid='ADLVFFE4VBT8', iid='B000M4XMGI', r_ui=5.0, est=4.303763440860215, details={'was_impossible': True, 'reason': 'User and/or item is unkown.'}),\n",
       " Prediction(uid='A2QDOJFFLFGF18', iid='B00DQZSAXU', r_ui=5.0, est=4.303763440860215, details={'was_impossible': True, 'reason': 'User and/or item is unkown.'}),\n",
       " Prediction(uid='AWPODHOB4GFWL', iid='B001TH7GSW', r_ui=5.0, est=4.303763440860215, details={'was_impossible': True, 'reason': 'User and/or item is unkown.'}),\n",
       " Prediction(uid='A680RUE1FDO8B', iid='B00GNRFWZW', r_ui=5.0, est=4.303763440860215, details={'was_impossible': True, 'reason': 'User and/or item is unkown.'}),\n",
       " Prediction(uid='A2WLNSZ9U0T1S3', iid='B004SBBDD0', r_ui=4.0, est=4.303763440860215, details={'was_impossible': True, 'reason': 'User and/or item is unkown.'}),\n",
       " Prediction(uid='A1L64KDYO5BOJA', iid='B0007VPFI4', r_ui=5.0, est=4.166666666666667, details={'actual_k': 0, 'was_impossible': False}),\n",
       " Prediction(uid='A5JLAU2ARJ0BO', iid='B00009MDBY', r_ui=5.0, est=4.303763440860215, details={'was_impossible': True, 'reason': 'User and/or item is unkown.'}),\n",
       " Prediction(uid='A25C2M3QF9G7OQ', iid='B00609P9CY', r_ui=5.0, est=4.303763440860215, details={'was_impossible': True, 'reason': 'User and/or item is unkown.'}),\n",
       " Prediction(uid='AOEDWQLH2WKKW', iid='B00HNJWV1W', r_ui=5.0, est=4.303763440860215, details={'was_impossible': True, 'reason': 'User and/or item is unkown.'}),\n",
       " Prediction(uid='A3CG93783LP0FO', iid='B00ADGXXJ6', r_ui=4.0, est=4.303763440860215, details={'was_impossible': True, 'reason': 'User and/or item is unkown.'}),\n",
       " Prediction(uid='A1435P5AMCPB3X', iid='B000GIQR0S', r_ui=3.0, est=4.303763440860215, details={'was_impossible': True, 'reason': 'User and/or item is unkown.'}),\n",
       " Prediction(uid='A3AYSYSLHU26U9', iid='B0091UX3QI', r_ui=5.0, est=4.303763440860215, details={'was_impossible': True, 'reason': 'User and/or item is unkown.'}),\n",
       " Prediction(uid='ADLVFFE4VBT8', iid='B001XURP7W', r_ui=5.0, est=4.303763440860215, details={'was_impossible': True, 'reason': 'User and/or item is unkown.'}),\n",
       " Prediction(uid='A34BZM6S9L7QI4', iid='B00IX6D0EQ', r_ui=5.0, est=4.303763440860215, details={'was_impossible': True, 'reason': 'User and/or item is unkown.'}),\n",
       " Prediction(uid='A15QYHQH80W30L', iid='B00009R8DD', r_ui=5.0, est=4.303763440860215, details={'was_impossible': True, 'reason': 'User and/or item is unkown.'}),\n",
       " Prediction(uid='A19XMHRB3G4DIR', iid='B000WU2FAQ', r_ui=5.0, est=4.303763440860215, details={'was_impossible': True, 'reason': 'User and/or item is unkown.'}),\n",
       " Prediction(uid='A3OA4DV4L81N1D', iid='B00A2BWAAK', r_ui=4.0, est=4.303763440860215, details={'was_impossible': True, 'reason': 'User and/or item is unkown.'}),\n",
       " Prediction(uid='A3LGT6UZL99IW1', iid='B007G5NNOW', r_ui=5.0, est=4.303763440860215, details={'was_impossible': True, 'reason': 'User and/or item is unkown.'}),\n",
       " Prediction(uid='AEL6CQNQXONBX', iid='B00EZL1IQA', r_ui=4.0, est=4.303763440860215, details={'was_impossible': True, 'reason': 'User and/or item is unkown.'}),\n",
       " Prediction(uid='A1X1CEGHTHMBL1', iid='B004HEE8EO', r_ui=5.0, est=4.303763440860215, details={'was_impossible': True, 'reason': 'User and/or item is unkown.'}),\n",
       " Prediction(uid='A2WLNSZ9U0T1S3', iid='B004Z9XZHM', r_ui=5.0, est=4.303763440860215, details={'was_impossible': True, 'reason': 'User and/or item is unkown.'}),\n",
       " Prediction(uid='A17BUUBOU0598B', iid='B001IYS1QM', r_ui=4.0, est=4.303763440860215, details={'was_impossible': True, 'reason': 'User and/or item is unkown.'}),\n",
       " Prediction(uid='ADLVFFE4VBT8', iid='B00ECERI32', r_ui=4.0, est=4.303763440860215, details={'was_impossible': True, 'reason': 'User and/or item is unkown.'}),\n",
       " Prediction(uid='A1CPRP3VFJRS1R', iid='B0001YFZ46', r_ui=2.0, est=4.303763440860215, details={'was_impossible': True, 'reason': 'User and/or item is unkown.'}),\n",
       " Prediction(uid='A1ODOGXEYECQQ8', iid='B00BIFNTMC', r_ui=5.0, est=4.303763440860215, details={'was_impossible': True, 'reason': 'User and/or item is unkown.'}),\n",
       " Prediction(uid='A34BZM6S9L7QI4', iid='B0097CXWUW', r_ui=5.0, est=4.833333333333333, details={'actual_k': 0, 'was_impossible': False}),\n",
       " Prediction(uid='A1F7YU6O5RU432', iid='B00009X6PH', r_ui=5.0, est=4.303763440860215, details={'was_impossible': True, 'reason': 'User and/or item is unkown.'}),\n",
       " Prediction(uid='A3PD8JD9L4WEII', iid='B001IUQB2W', r_ui=1.0, est=4.303763440860215, details={'was_impossible': True, 'reason': 'User and/or item is unkown.'}),\n",
       " Prediction(uid='ADLVFFE4VBT8', iid='B003TNMABW', r_ui=5.0, est=4.303763440860215, details={'was_impossible': True, 'reason': 'User and/or item is unkown.'}),\n",
       " Prediction(uid='A1XXMNLOLKNO0I', iid='B00GBLO0DU', r_ui=5.0, est=4.303763440860215, details={'was_impossible': True, 'reason': 'User and/or item is unkown.'}),\n",
       " Prediction(uid='A1RL1OTV8IJMVD', iid='B005DQG636', r_ui=5.0, est=4.303763440860215, details={'was_impossible': True, 'reason': 'User and/or item is unkown.'}),\n",
       " Prediction(uid='AEL6CQNQXONBX', iid='B00G500AE0', r_ui=4.0, est=4.303763440860215, details={'was_impossible': True, 'reason': 'User and/or item is unkown.'}),\n",
       " Prediction(uid='A1X1CEGHTHMBL1', iid='B005ITOUE0', r_ui=5.0, est=4.303763440860215, details={'was_impossible': True, 'reason': 'User and/or item is unkown.'}),\n",
       " Prediction(uid='A2NB2E5DXE319Z', iid='B001E40O98', r_ui=5.0, est=4.303763440860215, details={'was_impossible': True, 'reason': 'User and/or item is unkown.'}),\n",
       " Prediction(uid='A3CG93783LP0FO', iid='B002SZEOLG', r_ui=1.0, est=4.666666666666667, details={'actual_k': 0, 'was_impossible': False}),\n",
       " Prediction(uid='A197T2N6RU7K56', iid='B003VPABRS', r_ui=5.0, est=4.303763440860215, details={'was_impossible': True, 'reason': 'User and/or item is unkown.'}),\n",
       " Prediction(uid='A23ONMGKEWDG4M', iid='B006UMM2BW', r_ui=5.0, est=4.303763440860215, details={'was_impossible': True, 'reason': 'User and/or item is unkown.'}),\n",
       " Prediction(uid='A2WLNSZ9U0T1S3', iid='B003B48UQ8', r_ui=2.0, est=4.303763440860215, details={'was_impossible': True, 'reason': 'User and/or item is unkown.'}),\n",
       " Prediction(uid='A30X750M8V1XXW', iid='B0019Y8AAI', r_ui=2.0, est=4.303763440860215, details={'was_impossible': True, 'reason': 'User and/or item is unkown.'}),\n",
       " Prediction(uid='AVPNQUVZWMDSX', iid='B001CHHVCU', r_ui=5.0, est=4.303763440860215, details={'was_impossible': True, 'reason': 'User and/or item is unkown.'}),\n",
       " Prediction(uid='A1VQHH85U7PX0', iid='B008RW6RGE', r_ui=3.0, est=4.303763440860215, details={'was_impossible': True, 'reason': 'User and/or item is unkown.'}),\n",
       " Prediction(uid='A3A4ZAIBQWKOZS', iid='B006OM75I8', r_ui=5.0, est=4.303763440860215, details={'was_impossible': True, 'reason': 'User and/or item is unkown.'}),\n",
       " Prediction(uid='AWPODHOB4GFWL', iid='B000092OWG', r_ui=5.0, est=4.303763440860215, details={'was_impossible': True, 'reason': 'User and/or item is unkown.'}),\n",
       " Prediction(uid='A3A4ZAIBQWKOZS', iid='B002MY8ENM', r_ui=4.0, est=4.303763440860215, details={'was_impossible': True, 'reason': 'User and/or item is unkown.'}),\n",
       " Prediction(uid='A2NOW4U7W3F7RI', iid='B00I9V8D92', r_ui=5.0, est=4.303763440860215, details={'was_impossible': True, 'reason': 'User and/or item is unkown.'}),\n",
       " Prediction(uid='A30XZK10EZN9V4', iid='B006W3ZWXE', r_ui=5.0, est=4.303763440860215, details={'was_impossible': True, 'reason': 'User and/or item is unkown.'}),\n",
       " Prediction(uid='A3T7V207KRDE2O', iid='B000N7VPRW', r_ui=5.0, est=4.303763440860215, details={'was_impossible': True, 'reason': 'User and/or item is unkown.'}),\n",
       " Prediction(uid='A5JLAU2ARJ0BO', iid='B000083K9F', r_ui=5.0, est=4.303763440860215, details={'was_impossible': True, 'reason': 'User and/or item is unkown.'}),\n",
       " Prediction(uid='A2ZY49IDE6TY5I', iid='B008JBRHJ4', r_ui=4.0, est=4.303763440860215, details={'was_impossible': True, 'reason': 'User and/or item is unkown.'}),\n",
       " Prediction(uid='A1EKSETIBS9ETQ', iid='B005C31F2M', r_ui=4.0, est=4.303763440860215, details={'was_impossible': True, 'reason': 'User and/or item is unkown.'}),\n",
       " Prediction(uid='A2QDOJFFLFGF18', iid='B009YQ8BTI', r_ui=5.0, est=4.303763440860215, details={'was_impossible': True, 'reason': 'User and/or item is unkown.'}),\n",
       " Prediction(uid='A2NOW4U7W3F7RI', iid='B00K6B7KJM', r_ui=5.0, est=4.303763440860215, details={'was_impossible': True, 'reason': 'User and/or item is unkown.'}),\n",
       " Prediction(uid='A1EKSETIBS9ETQ', iid='B003VGJ2LI', r_ui=1.0, est=4.303763440860215, details={'was_impossible': True, 'reason': 'User and/or item is unkown.'}),\n",
       " Prediction(uid='A2WLNSZ9U0T1S3', iid='B001U0O5QO', r_ui=5.0, est=4.303763440860215, details={'was_impossible': True, 'reason': 'User and/or item is unkown.'}),\n",
       " Prediction(uid='A1RL1OTV8IJMVD', iid='B00C8OT7FK', r_ui=3.0, est=4.303763440860215, details={'was_impossible': True, 'reason': 'User and/or item is unkown.'}),\n",
       " Prediction(uid='A1RL1OTV8IJMVD', iid='B0018KTCIM', r_ui=4.0, est=4.303763440860215, details={'was_impossible': True, 'reason': 'User and/or item is unkown.'}),\n",
       " Prediction(uid='A1X1CEGHTHMBL1', iid='B0057QETGS', r_ui=5.0, est=4.303763440860215, details={'was_impossible': True, 'reason': 'User and/or item is unkown.'}),\n",
       " Prediction(uid='A1ODOGXEYECQQ8', iid='B00JGGUBPI', r_ui=4.0, est=4.303763440860215, details={'was_impossible': True, 'reason': 'User and/or item is unkown.'}),\n",
       " Prediction(uid='A1VHCO8RQFIGQJ', iid='B0046RE60I', r_ui=4.0, est=4.375, details={'actual_k': 0, 'was_impossible': False}),\n",
       " Prediction(uid='A3T7V207KRDE2O', iid='B000092TS9', r_ui=5.0, est=4.461538461538462, details={'actual_k': 0, 'was_impossible': False}),\n",
       " Prediction(uid='A2ZY49IDE6TY5I', iid='B007Q8GOHM', r_ui=4.0, est=4.303763440860215, details={'was_impossible': True, 'reason': 'User and/or item is unkown.'}),\n",
       " Prediction(uid='A1ODOGXEYECQQ8', iid='B0009RKL5S', r_ui=5.0, est=4.303763440860215, details={'was_impossible': True, 'reason': 'User and/or item is unkown.'}),\n",
       " Prediction(uid='A23ONMGKEWDG4M', iid='B000I1ZWRC', r_ui=5.0, est=4.303763440860215, details={'was_impossible': True, 'reason': 'User and/or item is unkown.'}),\n",
       " Prediction(uid='A18HE80910BTZI', iid='B001XURGTO', r_ui=5.0, est=4.303763440860215, details={'was_impossible': True, 'reason': 'User and/or item is unkown.'}),\n",
       " Prediction(uid='A3REK3OFONWB1Q', iid='B005ZLOW8K', r_ui=5.0, est=4.303763440860215, details={'was_impossible': True, 'reason': 'User and/or item is unkown.'}),\n",
       " Prediction(uid='A18S2VGUH9SCV5', iid='B00064C53K', r_ui=5.0, est=4.303763440860215, details={'was_impossible': True, 'reason': 'User and/or item is unkown.'}),\n",
       " Prediction(uid='A1PN2U0AWXGVML', iid='B0047DVVVI', r_ui=5.0, est=4.303763440860215, details={'was_impossible': True, 'reason': 'User and/or item is unkown.'}),\n",
       " Prediction(uid='A36K2N527TXXJN', iid='B00IGU7FS6', r_ui=4.0, est=4.303763440860215, details={'was_impossible': True, 'reason': 'User and/or item is unkown.'}),\n",
       " Prediction(uid='ARBKYIVNYWK3C', iid='B00IQ92L4K', r_ui=5.0, est=4.303763440860215, details={'was_impossible': True, 'reason': 'User and/or item is unkown.'}),\n",
       " Prediction(uid='A32O5FZH994CNY', iid='B00BI4JX2I', r_ui=4.0, est=4.303763440860215, details={'was_impossible': True, 'reason': 'User and/or item is unkown.'}),\n",
       " Prediction(uid='A17BUUBOU0598B', iid='B0012JNQYK', r_ui=4.0, est=4.303763440860215, details={'was_impossible': True, 'reason': 'User and/or item is unkown.'}),\n",
       " Prediction(uid='A680RUE1FDO8B', iid='B000AA2IC8', r_ui=4.0, est=4.303763440860215, details={'was_impossible': True, 'reason': 'User and/or item is unkown.'}),\n",
       " Prediction(uid='AN81JUYW2SL24', iid='B0032UWTGI', r_ui=4.0, est=4.303763440860215, details={'was_impossible': True, 'reason': 'User and/or item is unkown.'}),\n",
       " Prediction(uid='A1L64KDYO5BOJA', iid='B0015C4Y0Y', r_ui=5.0, est=4.303763440860215, details={'was_impossible': True, 'reason': 'User and/or item is unkown.'}),\n",
       " Prediction(uid='A11KZ906QD08C5', iid='B0057CL3D4', r_ui=5.0, est=4.303763440860215, details={'was_impossible': True, 'reason': 'User and/or item is unkown.'}),\n",
       " Prediction(uid='A6FIAB28IS79', iid='B0043TB7OC', r_ui=4.0, est=4.303763440860215, details={'was_impossible': True, 'reason': 'User and/or item is unkown.'}),\n",
       " Prediction(uid='A11KZ906QD08C5', iid='B00HY8P89E', r_ui=5.0, est=4.303763440860215, details={'was_impossible': True, 'reason': 'User and/or item is unkown.'}),\n",
       " Prediction(uid='A1CPRP3VFJRS1R', iid='B00014M2U6', r_ui=5.0, est=4.303763440860215, details={'was_impossible': True, 'reason': 'User and/or item is unkown.'}),\n",
       " Prediction(uid='A3OA4DV4L81N1D', iid='B00DIEQ3E2', r_ui=5.0, est=4.303763440860215, details={'was_impossible': True, 'reason': 'User and/or item is unkown.'}),\n",
       " Prediction(uid='A28UMA3GW9L124', iid='B000E44BY8', r_ui=1.0, est=4.303763440860215, details={'was_impossible': True, 'reason': 'User and/or item is unkown.'}),\n",
       " Prediction(uid='AAA0TUKS5VBSA', iid='B00DY2Y28M', r_ui=5.0, est=4.303763440860215, details={'was_impossible': True, 'reason': 'User and/or item is unkown.'}),\n",
       " Prediction(uid='A3R4794K2RVU1S', iid='B006JGXOSY', r_ui=4.0, est=4.303763440860215, details={'was_impossible': True, 'reason': 'User and/or item is unkown.'}),\n",
       " Prediction(uid='A3R4794K2RVU1S', iid='B003IWG6HI', r_ui=5.0, est=4.303763440860215, details={'was_impossible': True, 'reason': 'User and/or item is unkown.'}),\n",
       " Prediction(uid='A34BZM6S9L7QI4', iid='B00AQ2BRXQ', r_ui=4.0, est=4.303763440860215, details={'was_impossible': True, 'reason': 'User and/or item is unkown.'}),\n",
       " Prediction(uid='ADLVFFE4VBT8', iid='B0002L5R78', r_ui=5.0, est=4.303763440860215, details={'was_impossible': True, 'reason': 'User and/or item is unkown.'}),\n",
       " Prediction(uid='AT6CZDCP4TRGA', iid='B0039NLS4C', r_ui=5.0, est=3.7777777777777777, details={'actual_k': 0, 'was_impossible': False}),\n",
       " Prediction(uid='A3A4ZAIBQWKOZS', iid='B003NYSZUW', r_ui=5.0, est=4.303763440860215, details={'was_impossible': True, 'reason': 'User and/or item is unkown.'}),\n",
       " Prediction(uid='A3CG93783LP0FO', iid='B003XE3X8Q', r_ui=4.0, est=4.303763440860215, details={'was_impossible': True, 'reason': 'User and/or item is unkown.'}),\n",
       " Prediction(uid='A5JLAU2ARJ0BO', iid='B000VB5MZG', r_ui=4.0, est=4.303763440860215, details={'was_impossible': True, 'reason': 'User and/or item is unkown.'}),\n",
       " Prediction(uid='A1F7YU6O5RU432', iid='B008YQR8IY', r_ui=5.0, est=4.888888888888889, details={'actual_k': 0, 'was_impossible': False}),\n",
       " Prediction(uid='A1EH2S92FHWZRP', iid='B00006SG3V', r_ui=2.0, est=4.303763440860215, details={'was_impossible': True, 'reason': 'User and/or item is unkown.'}),\n",
       " Prediction(uid='A1MEISNED4NP7U', iid='B0035KDK72', r_ui=5.0, est=4.303763440860215, details={'was_impossible': True, 'reason': 'User and/or item is unkown.'}),\n",
       " Prediction(uid='A2V1J3JT5OOZFO', iid='B002LPV6LY', r_ui=5.0, est=4.303763440860215, details={'was_impossible': True, 'reason': 'User and/or item is unkown.'}),\n",
       " Prediction(uid='A1EKSETIBS9ETQ', iid='B000M17AVO', r_ui=4.0, est=4.303763440860215, details={'was_impossible': True, 'reason': 'User and/or item is unkown.'}),\n",
       " Prediction(uid='A20OBCQWBKCGZT', iid='B004CJ8DKE', r_ui=2.0, est=4.303763440860215, details={'was_impossible': True, 'reason': 'User and/or item is unkown.'}),\n",
       " Prediction(uid='A2AY4YUOX2N1BQ', iid='B00009R7BD', r_ui=5.0, est=4.303763440860215, details={'was_impossible': True, 'reason': 'User and/or item is unkown.'}),\n",
       " Prediction(uid='A1F7YU6O5RU432', iid='B002IO2UM2', r_ui=5.0, est=4.303763440860215, details={'was_impossible': True, 'reason': 'User and/or item is unkown.'}),\n",
       " Prediction(uid='A3FEGTOLCWXSV4', iid='B005J31BCO', r_ui=4.0, est=4.303763440860215, details={'was_impossible': True, 'reason': 'User and/or item is unkown.'}),\n",
       " Prediction(uid='A2L42QEWR77PKZ', iid='B004I45QBW', r_ui=5.0, est=4.303763440860215, details={'was_impossible': True, 'reason': 'User and/or item is unkown.'}),\n",
       " Prediction(uid='AGVWTYW0ULXHT', iid='B007471PZQ', r_ui=4.0, est=4.303763440860215, details={'was_impossible': True, 'reason': 'User and/or item is unkown.'}),\n",
       " Prediction(uid='A9Y5O2R4D6EH5', iid='B002HK0UQK', r_ui=4.0, est=4.303763440860215, details={'was_impossible': True, 'reason': 'User and/or item is unkown.'}),\n",
       " Prediction(uid='A10Y058K7B96C6', iid='B00BZC31WQ', r_ui=5.0, est=4.303763440860215, details={'was_impossible': True, 'reason': 'User and/or item is unkown.'}),\n",
       " Prediction(uid='A1VHCO8RQFIGQJ', iid='B008MCZJXG', r_ui=5.0, est=4.303763440860215, details={'was_impossible': True, 'reason': 'User and/or item is unkown.'}),\n",
       " Prediction(uid='A4WEZJOIZIV4U', iid='B00884WH74', r_ui=5.0, est=4.303763440860215, details={'was_impossible': True, 'reason': 'User and/or item is unkown.'}),\n",
       " Prediction(uid='A32O5FZH994CNY', iid='B004UHWZDY', r_ui=4.0, est=4.303763440860215, details={'was_impossible': True, 'reason': 'User and/or item is unkown.'}),\n",
       " Prediction(uid='A1MEISNED4NP7U', iid='B000QUUFRW', r_ui=5.0, est=4.303763440860215, details={'was_impossible': True, 'reason': 'User and/or item is unkown.'}),\n",
       " Prediction(uid='A2XRMQA6PJ5ZJ8', iid='B007WTAJTO', r_ui=5.0, est=4.25, details={'actual_k': 0, 'was_impossible': False}),\n",
       " Prediction(uid='A259MPG6SOL02P', iid='B008DCBS94', r_ui=3.0, est=4.303763440860215, details={'was_impossible': True, 'reason': 'User and/or item is unkown.'}),\n",
       " Prediction(uid='A1QVFHPY8418HC', iid='B0054CFKR2', r_ui=4.0, est=4.303763440860215, details={'was_impossible': True, 'reason': 'User and/or item is unkown.'}),\n",
       " Prediction(uid='A6FIAB28IS79', iid='B002OUCSBI', r_ui=5.0, est=4.303763440860215, details={'was_impossible': True, 'reason': 'User and/or item is unkown.'}),\n",
       " Prediction(uid='A23ONMGKEWDG4M', iid='B001LK8PUK', r_ui=4.0, est=4.303763440860215, details={'was_impossible': True, 'reason': 'User and/or item is unkown.'}),\n",
       " Prediction(uid='A2KYRPDKVBI2R4', iid='B009K62HQ0', r_ui=5.0, est=4.303763440860215, details={'was_impossible': True, 'reason': 'User and/or item is unkown.'}),\n",
       " Prediction(uid='A1VQHH85U7PX0', iid='B00181C9LS', r_ui=3.0, est=4.303763440860215, details={'was_impossible': True, 'reason': 'User and/or item is unkown.'}),\n",
       " Prediction(uid='A2NOW4U7W3F7RI', iid='B00JA4VO9S', r_ui=5.0, est=4.303763440860215, details={'was_impossible': True, 'reason': 'User and/or item is unkown.'}),\n",
       " Prediction(uid='A3EZEP0FX5BC1P', iid='B002VPDM2A', r_ui=4.0, est=4.571428571428571, details={'actual_k': 0, 'was_impossible': False}),\n",
       " Prediction(uid='A23ONMGKEWDG4M', iid='B000HKGK8Y', r_ui=3.0, est=4.303763440860215, details={'was_impossible': True, 'reason': 'User and/or item is unkown.'}),\n",
       " Prediction(uid='A34BZM6S9L7QI4', iid='B0079UAT0A', r_ui=5.0, est=4.303763440860215, details={'was_impossible': True, 'reason': 'User and/or item is unkown.'}),\n",
       " Prediction(uid='A3AYSYSLHU26U9', iid='B0093YV4R2', r_ui=5.0, est=4.303763440860215, details={'was_impossible': True, 'reason': 'User and/or item is unkown.'}),\n",
       " Prediction(uid='A203OCQQ12MAVT', iid='B0009KF9BQ', r_ui=1.0, est=4.303763440860215, details={'was_impossible': True, 'reason': 'User and/or item is unkown.'}),\n",
       " Prediction(uid='ADLVFFE4VBT8', iid='B001V9LPT4', r_ui=5.0, est=4.303763440860215, details={'was_impossible': True, 'reason': 'User and/or item is unkown.'}),\n",
       " Prediction(uid='A1YEPFLLH42OU1', iid='B00G024X32', r_ui=4.0, est=4.555555555555555, details={'actual_k': 0, 'was_impossible': False}),\n",
       " Prediction(uid='A2WB7LZ595CR50', iid='B001G5ZTPY', r_ui=5.0, est=4.303763440860215, details={'was_impossible': True, 'reason': 'User and/or item is unkown.'}),\n",
       " Prediction(uid='A18S2VGUH9SCV5', iid='B004YIZW16', r_ui=2.0, est=4.0, details={'actual_k': 0, 'was_impossible': False}),\n",
       " Prediction(uid='A1UQBFCERIP7VJ', iid='B00BB6DCUC', r_ui=5.0, est=4.303763440860215, details={'was_impossible': True, 'reason': 'User and/or item is unkown.'}),\n",
       " Prediction(uid='A23GFTVIETX7DS', iid='B00AR95FOU', r_ui=5.0, est=4.303763440860215, details={'was_impossible': True, 'reason': 'User and/or item is unkown.'}),\n",
       " Prediction(uid='A3OXHLG6DIBRW8', iid='B00004VVGH', r_ui=5.0, est=4.303763440860215, details={'was_impossible': True, 'reason': 'User and/or item is unkown.'}),\n",
       " Prediction(uid='A3LGT6UZL99IW1', iid='B0058OQ3H2', r_ui=5.0, est=4.303763440860215, details={'was_impossible': True, 'reason': 'User and/or item is unkown.'}),\n",
       " Prediction(uid='A17BUUBOU0598B', iid='B00176IJFO', r_ui=5.0, est=4.303763440860215, details={'was_impossible': True, 'reason': 'User and/or item is unkown.'}),\n",
       " Prediction(uid='ADLVFFE4VBT8', iid='B000VMU9VC', r_ui=5.0, est=4.303763440860215, details={'was_impossible': True, 'reason': 'User and/or item is unkown.'}),\n",
       " Prediction(uid='A680RUE1FDO8B', iid='B0016D9URO', r_ui=5.0, est=4.303763440860215, details={'was_impossible': True, 'reason': 'User and/or item is unkown.'}),\n",
       " Prediction(uid='A9Y5O2R4D6EH5', iid='B006NNWZSI', r_ui=5.0, est=4.303763440860215, details={'was_impossible': True, 'reason': 'User and/or item is unkown.'}),\n",
       " Prediction(uid='A19W47CXJJP1MI', iid='B005FYNSPK', r_ui=5.0, est=4.083333333333333, details={'actual_k': 0, 'was_impossible': False}),\n",
       " Prediction(uid='A1MEISNED4NP7U', iid='B007R5YDYA', r_ui=5.0, est=4.857142857142857, details={'actual_k': 0, 'was_impossible': False}),\n",
       " Prediction(uid='A1EH2S92FHWZRP', iid='B000KI81XK', r_ui=2.0, est=4.303763440860215, details={'was_impossible': True, 'reason': 'User and/or item is unkown.'}),\n",
       " Prediction(uid='A28UMA3GW9L124', iid='B0001XGQCC', r_ui=5.0, est=4.303763440860215, details={'was_impossible': True, 'reason': 'User and/or item is unkown.'}),\n",
       " Prediction(uid='A2B7BUH8834Y6M', iid='B0079TOEQQ', r_ui=4.0, est=4.303763440860215, details={'was_impossible': True, 'reason': 'User and/or item is unkown.'}),\n",
       " Prediction(uid='AWPODHOB4GFWL', iid='B004K1EOCA', r_ui=5.0, est=4.303763440860215, details={'was_impossible': True, 'reason': 'User and/or item is unkown.'}),\n",
       " Prediction(uid='A2NYK9KWFMJV4Y', iid='B00I9H9B7Y', r_ui=5.0, est=4.303763440860215, details={'was_impossible': True, 'reason': 'User and/or item is unkown.'}),\n",
       " Prediction(uid='ADLVFFE4VBT8', iid='B003UE52ME', r_ui=5.0, est=4.303763440860215, details={'was_impossible': True, 'reason': 'User and/or item is unkown.'}),\n",
       " Prediction(uid='A1VQHH85U7PX0', iid='B0019RGQVU', r_ui=5.0, est=4.303763440860215, details={'was_impossible': True, 'reason': 'User and/or item is unkown.'}),\n",
       " Prediction(uid='AT6CZDCP4TRGA', iid='B000222YSM', r_ui=4.0, est=4.303763440860215, details={'was_impossible': True, 'reason': 'User and/or item is unkown.'}),\n",
       " Prediction(uid='A2XRMQA6PJ5ZJ8', iid='B000W66HZY', r_ui=5.0, est=4.303763440860215, details={'was_impossible': True, 'reason': 'User and/or item is unkown.'}),\n",
       " Prediction(uid='A30XZK10EZN9V4', iid='B0054RJ870', r_ui=5.0, est=4.303763440860215, details={'was_impossible': True, 'reason': 'User and/or item is unkown.'}),\n",
       " Prediction(uid='A9Y5O2R4D6EH5', iid='B004K1EOAC', r_ui=5.0, est=4.303763440860215, details={'was_impossible': True, 'reason': 'User and/or item is unkown.'}),\n",
       " Prediction(uid='A1CMD08Z49PGKQ', iid='B007WTAJTO', r_ui=5.0, est=4.866666666666666, details={'actual_k': 0, 'was_impossible': False}),\n",
       " Prediction(uid='A680RUE1FDO8B', iid='B005GTNZUM', r_ui=5.0, est=4.407407407407407, details={'actual_k': 0, 'was_impossible': False}),\n",
       " Prediction(uid='A2NOW4U7W3F7RI', iid='B00HJ1NQLS', r_ui=5.0, est=4.303763440860215, details={'was_impossible': True, 'reason': 'User and/or item is unkown.'}),\n",
       " Prediction(uid='A3NHUQ33CFH3VM', iid='B00H6XLJ5Y', r_ui=5.0, est=4.303763440860215, details={'was_impossible': True, 'reason': 'User and/or item is unkown.'}),\n",
       " Prediction(uid='A3REK3OFONWB1Q', iid='B001KBZ3SC', r_ui=5.0, est=4.303763440860215, details={'was_impossible': True, 'reason': 'User and/or item is unkown.'}),\n",
       " Prediction(uid='A1435P5AMCPB3X', iid='B000HJBERC', r_ui=4.0, est=4.303763440860215, details={'was_impossible': True, 'reason': 'User and/or item is unkown.'}),\n",
       " Prediction(uid='A1RL1OTV8IJMVD', iid='B004YIZWYI', r_ui=3.0, est=4.303763440860215, details={'was_impossible': True, 'reason': 'User and/or item is unkown.'}),\n",
       " Prediction(uid='A1QVFHPY8418HC', iid='B001S0RUFY', r_ui=5.0, est=4.303763440860215, details={'was_impossible': True, 'reason': 'User and/or item is unkown.'}),\n",
       " Prediction(uid='A680RUE1FDO8B', iid='B002K8M9HC', r_ui=3.0, est=4.303763440860215, details={'was_impossible': True, 'reason': 'User and/or item is unkown.'}),\n",
       " Prediction(uid='A3FEGTOLCWXSV4', iid='B002OEBILK', r_ui=5.0, est=4.303763440860215, details={'was_impossible': True, 'reason': 'User and/or item is unkown.'}),\n",
       " Prediction(uid='A23ONMGKEWDG4M', iid='B002CMAW20', r_ui=1.0, est=4.303763440860215, details={'was_impossible': True, 'reason': 'User and/or item is unkown.'}),\n",
       " Prediction(uid='A1PN2U0AWXGVML', iid='B0011ZK6OS', r_ui=5.0, est=4.303763440860215, details={'was_impossible': True, 'reason': 'User and/or item is unkown.'}),\n",
       " Prediction(uid='A2NOW4U7W3F7RI', iid='B00B7C06C2', r_ui=2.0, est=4.303763440860215, details={'was_impossible': True, 'reason': 'User and/or item is unkown.'}),\n",
       " Prediction(uid='A3CW0ZLUO5X2B1', iid='B005VTIMEQ', r_ui=2.0, est=4.1875, details={'actual_k': 0, 'was_impossible': False}),\n",
       " Prediction(uid='A22CW0ZHY3NJH8', iid='B000071NY3', r_ui=4.0, est=4.303763440860215, details={'was_impossible': True, 'reason': 'User and/or item is unkown.'}),\n",
       " Prediction(uid='A2V1J3JT5OOZFO', iid='B001L5SN70', r_ui=5.0, est=4.303763440860215, details={'was_impossible': True, 'reason': 'User and/or item is unkown.'}),\n",
       " Prediction(uid='A3LGT6UZL99IW1', iid='B00006I53X', r_ui=5.0, est=4.303763440860215, details={'was_impossible': True, 'reason': 'User and/or item is unkown.'}),\n",
       " Prediction(uid='A1XXMNLOLKNO0I', iid='B00508ZURU', r_ui=5.0, est=4.303763440860215, details={'was_impossible': True, 'reason': 'User and/or item is unkown.'}),\n",
       " Prediction(uid='A2XIOXRRYX0KZY', iid='B007P4VOWC', r_ui=4.0, est=3.875, details={'actual_k': 0, 'was_impossible': False}),\n",
       " Prediction(uid='A2XIOXRRYX0KZY', iid='B00EMHVVLY', r_ui=5.0, est=3.875, details={'actual_k': 0, 'was_impossible': False}),\n",
       " Prediction(uid='A1YEPFLLH42OU1', iid='B0056TYRMW', r_ui=5.0, est=4.303763440860215, details={'was_impossible': True, 'reason': 'User and/or item is unkown.'}),\n",
       " Prediction(uid='A10Y058K7B96C6', iid='B00A5TXSCI', r_ui=5.0, est=4.303763440860215, details={'was_impossible': True, 'reason': 'User and/or item is unkown.'}),\n",
       " Prediction(uid='A23GFTVIETX7DS', iid='B0000AAAPF', r_ui=3.0, est=4.230769230769231, details={'actual_k': 0, 'was_impossible': False}),\n",
       " Prediction(uid='A2KYRPDKVBI2R4', iid='B000FI2EAG', r_ui=4.0, est=4.303763440860215, details={'was_impossible': True, 'reason': 'User and/or item is unkown.'}),\n",
       " Prediction(uid='A28UMA3GW9L124', iid='B0041RSHWG', r_ui=2.0, est=4.303763440860215, details={'was_impossible': True, 'reason': 'User and/or item is unkown.'}),\n",
       " Prediction(uid='A11KZ906QD08C5', iid='B00A2L3J1Y', r_ui=5.0, est=4.303763440860215, details={'was_impossible': True, 'reason': 'User and/or item is unkown.'}),\n",
       " Prediction(uid='A3AYSYSLHU26U9', iid='B00EAXRVLY', r_ui=3.0, est=4.303763440860215, details={'was_impossible': True, 'reason': 'User and/or item is unkown.'}),\n",
       " Prediction(uid='A2AX2UGB167J31', iid='B004XXMUCQ', r_ui=5.0, est=4.303763440860215, details={'was_impossible': True, 'reason': 'User and/or item is unkown.'}),\n",
       " Prediction(uid='A4WEZJOIZIV4U', iid='B002IRPA2G', r_ui=4.0, est=4.303763440860215, details={'was_impossible': True, 'reason': 'User and/or item is unkown.'}),\n",
       " Prediction(uid='A680RUE1FDO8B', iid='B000Q8623U', r_ui=5.0, est=4.303763440860215, details={'was_impossible': True, 'reason': 'User and/or item is unkown.'}),\n",
       " Prediction(uid='AGVWTYW0ULXHT', iid='B00BEGS4R0', r_ui=4.0, est=4.303763440860215, details={'was_impossible': True, 'reason': 'User and/or item is unkown.'}),\n",
       " Prediction(uid='A3LGT6UZL99IW1', iid='B005DMBUZY', r_ui=5.0, est=4.303763440860215, details={'was_impossible': True, 'reason': 'User and/or item is unkown.'}),\n",
       " Prediction(uid='AN81JUYW2SL24', iid='B000VE2RP6', r_ui=4.0, est=4.303763440860215, details={'was_impossible': True, 'reason': 'User and/or item is unkown.'}),\n",
       " Prediction(uid='A38KK0SZYEH5UD', iid='B0013A1XDY', r_ui=5.0, est=4.303763440860215, details={'was_impossible': True, 'reason': 'User and/or item is unkown.'}),\n",
       " Prediction(uid='A1F1A0QQP2XVH5', iid='B0063705PE', r_ui=4.0, est=4.303763440860215, details={'was_impossible': True, 'reason': 'User and/or item is unkown.'}),\n",
       " Prediction(uid='A5JLAU2ARJ0BO', iid='B000095SB4', r_ui=3.0, est=4.303763440860215, details={'was_impossible': True, 'reason': 'User and/or item is unkown.'}),\n",
       " Prediction(uid='A22CW0ZHY3NJH8', iid='B00L2442H0', r_ui=5.0, est=4.230769230769231, details={'actual_k': 0, 'was_impossible': False}),\n",
       " Prediction(uid='A3FEGTOLCWXSV4', iid='B000YG81NS', r_ui=4.0, est=4.303763440860215, details={'was_impossible': True, 'reason': 'User and/or item is unkown.'}),\n",
       " Prediction(uid='A1F9Z42CFF9IAY', iid='B001IKEX8G', r_ui=5.0, est=4.303763440860215, details={'was_impossible': True, 'reason': 'User and/or item is unkown.'}),\n",
       " Prediction(uid='AWPODHOB4GFWL', iid='B000WS204Y', r_ui=5.0, est=4.303763440860215, details={'was_impossible': True, 'reason': 'User and/or item is unkown.'}),\n",
       " Prediction(uid='A2NYK9KWFMJV4Y', iid='B00A1A1LQ6', r_ui=5.0, est=4.303763440860215, details={'was_impossible': True, 'reason': 'User and/or item is unkown.'}),\n",
       " Prediction(uid='A2ZY49IDE6TY5I', iid='B009T0NM0M', r_ui=4.0, est=4.303763440860215, details={'was_impossible': True, 'reason': 'User and/or item is unkown.'}),\n",
       " Prediction(uid='A1F7YU6O5RU432', iid='B00CRGJJHU', r_ui=5.0, est=4.303763440860215, details={'was_impossible': True, 'reason': 'User and/or item is unkown.'}),\n",
       " Prediction(uid='A1F9Z42CFF9IAY', iid='B007M52EXM', r_ui=3.0, est=4.303763440860215, details={'was_impossible': True, 'reason': 'User and/or item is unkown.'}),\n",
       " Prediction(uid='A3NHUQ33CFH3VM', iid='B004M8SCHO', r_ui=5.0, est=4.303763440860215, details={'was_impossible': True, 'reason': 'User and/or item is unkown.'}),\n",
       " Prediction(uid='AGVWTYW0ULXHT', iid='B001ASU1QO', r_ui=4.0, est=4.303763440860215, details={'was_impossible': True, 'reason': 'User and/or item is unkown.'}),\n",
       " Prediction(uid='A3CW0ZLUO5X2B1', iid='B004HYG9V4', r_ui=5.0, est=4.303763440860215, details={'was_impossible': True, 'reason': 'User and/or item is unkown.'}),\n",
       " Prediction(uid='A1EXGL6L0QQ0M5', iid='B009HB2USI', r_ui=3.0, est=4.303763440860215, details={'was_impossible': True, 'reason': 'User and/or item is unkown.'}),\n",
       " Prediction(uid='AEJAGHLC675A7', iid='B0001Y0OZ6', r_ui=5.0, est=4.303763440860215, details={'was_impossible': True, 'reason': 'User and/or item is unkown.'}),\n",
       " Prediction(uid='A36K2N527TXXJN', iid='B00HGLOQ24', r_ui=4.0, est=4.303763440860215, details={'was_impossible': True, 'reason': 'User and/or item is unkown.'}),\n",
       " Prediction(uid='A30X750M8V1XXW', iid='B001KUL012', r_ui=5.0, est=4.303763440860215, details={'was_impossible': True, 'reason': 'User and/or item is unkown.'}),\n",
       " Prediction(uid='A2NB2E5DXE319Z', iid='B001RQ2YF0', r_ui=4.0, est=4.303763440860215, details={'was_impossible': True, 'reason': 'User and/or item is unkown.'}),\n",
       " Prediction(uid='A5JLAU2ARJ0BO', iid='B000FCHTCK', r_ui=4.0, est=4.303763440860215, details={'was_impossible': True, 'reason': 'User and/or item is unkown.'}),\n",
       " Prediction(uid='A10Y058K7B96C6', iid='B001I45T9O', r_ui=5.0, est=4.303763440860215, details={'was_impossible': True, 'reason': 'User and/or item is unkown.'}),\n",
       " Prediction(uid='A23GFTVIETX7DS', iid='B004T9RR6I', r_ui=5.0, est=4.303763440860215, details={'was_impossible': True, 'reason': 'User and/or item is unkown.'}),\n",
       " Prediction(uid='A3EZEP0FX5BC1P', iid='B0028Y4CWI', r_ui=4.0, est=4.303763440860215, details={'was_impossible': True, 'reason': 'User and/or item is unkown.'}),\n",
       " Prediction(uid='ALDAF4VVLFRHP', iid='B0032O6S70', r_ui=5.0, est=4.303763440860215, details={'was_impossible': True, 'reason': 'User and/or item is unkown.'}),\n",
       " Prediction(uid='AVPNQUVZWMDSX', iid='B004N6259G', r_ui=2.0, est=4.303763440860215, details={'was_impossible': True, 'reason': 'User and/or item is unkown.'}),\n",
       " Prediction(uid='ARBKYIVNYWK3C', iid='B005B1032I', r_ui=5.0, est=4.303763440860215, details={'was_impossible': True, 'reason': 'User and/or item is unkown.'}),\n",
       " Prediction(uid='A23GFTVIETX7DS', iid='B001TH7GVE', r_ui=5.0, est=4.303763440860215, details={'was_impossible': True, 'reason': 'User and/or item is unkown.'}),\n",
       " Prediction(uid='A1EKSETIBS9ETQ', iid='B00D02AG7C', r_ui=3.0, est=4.303763440860215, details={'was_impossible': True, 'reason': 'User and/or item is unkown.'}),\n",
       " Prediction(uid='A2B7BUH8834Y6M', iid='B0002ILKNQ', r_ui=5.0, est=4.303763440860215, details={'was_impossible': True, 'reason': 'User and/or item is unkown.'}),\n",
       " Prediction(uid='A4WEZJOIZIV4U', iid='B00EFILVQU', r_ui=5.0, est=4.303763440860215, details={'was_impossible': True, 'reason': 'User and/or item is unkown.'}),\n",
       " Prediction(uid='A1F9Z42CFF9IAY', iid='B000I1YIDQ', r_ui=4.0, est=4.303763440860215, details={'was_impossible': True, 'reason': 'User and/or item is unkown.'}),\n",
       " Prediction(uid='A2NB2E5DXE319Z', iid='B00B5I9282', r_ui=4.0, est=4.303763440860215, details={'was_impossible': True, 'reason': 'User and/or item is unkown.'}),\n",
       " Prediction(uid='A17HMM1M7T9PJ1', iid='B005KTIX50', r_ui=5.0, est=4.303763440860215, details={'was_impossible': True, 'reason': 'User and/or item is unkown.'}),\n",
       " Prediction(uid='A197T2N6RU7K56', iid='B002DQW7BY', r_ui=1.0, est=4.303763440860215, details={'was_impossible': True, 'reason': 'User and/or item is unkown.'}),\n",
       " Prediction(uid='A18S2VGUH9SCV5', iid='B00318CG5U', r_ui=1.0, est=4.303763440860215, details={'was_impossible': True, 'reason': 'User and/or item is unkown.'}),\n",
       " Prediction(uid='A38KK0SZYEH5UD', iid='B000AMLXHW', r_ui=1.0, est=4.303763440860215, details={'was_impossible': True, 'reason': 'User and/or item is unkown.'}),\n",
       " Prediction(uid='A3PD8JD9L4WEII', iid='B001U3ZH7W', r_ui=4.0, est=4.303763440860215, details={'was_impossible': True, 'reason': 'User and/or item is unkown.'}),\n",
       " Prediction(uid='A3A4ZAIBQWKOZS', iid='B003XE3X8Q', r_ui=5.0, est=4.303763440860215, details={'was_impossible': True, 'reason': 'User and/or item is unkown.'}),\n",
       " Prediction(uid='A3LGT6UZL99IW1', iid='B0085KAGJC', r_ui=1.0, est=4.303763440860215, details={'was_impossible': True, 'reason': 'User and/or item is unkown.'}),\n",
       " Prediction(uid='AGVWTYW0ULXHT', iid='B00FC2R7ZC', r_ui=4.0, est=4.303763440860215, details={'was_impossible': True, 'reason': 'User and/or item is unkown.'}),\n",
       " Prediction(uid='A1143YEAZYMYHJ', iid='B00008WMBT', r_ui=5.0, est=4.303763440860215, details={'was_impossible': True, 'reason': 'User and/or item is unkown.'}),\n",
       " Prediction(uid='A25C2M3QF9G7OQ', iid='B00CYX54C0', r_ui=3.0, est=4.303763440860215, details={'was_impossible': True, 'reason': 'User and/or item is unkown.'}),\n",
       " Prediction(uid='A1L64KDYO5BOJA', iid='B0010CKE7G', r_ui=5.0, est=4.303763440860215, details={'was_impossible': True, 'reason': 'User and/or item is unkown.'}),\n",
       " Prediction(uid='A2WB7LZ595CR50', iid='B005N130Y4', r_ui=4.0, est=4.303763440860215, details={'was_impossible': True, 'reason': 'User and/or item is unkown.'}),\n",
       " Prediction(uid='A20OBCQWBKCGZT', iid='B007C0Y7RI', r_ui=3.0, est=4.303763440860215, details={'was_impossible': True, 'reason': 'User and/or item is unkown.'}),\n",
       " Prediction(uid='AGOH8N902URMW', iid='B00BBXTUA6', r_ui=5.0, est=4.303763440860215, details={'was_impossible': True, 'reason': 'User and/or item is unkown.'}),\n",
       " Prediction(uid='A12DQZKRKTNF5E', iid='B00DJGPV88', r_ui=5.0, est=4.303763440860215, details={'was_impossible': True, 'reason': 'User and/or item is unkown.'}),\n",
       " Prediction(uid='A32O5FZH994CNY', iid='B00B7MZCUI', r_ui=5.0, est=4.303763440860215, details={'was_impossible': True, 'reason': 'User and/or item is unkown.'}),\n",
       " Prediction(uid='A23ONMGKEWDG4M', iid='B007WTAJTO', r_ui=4.0, est=4.0, details={'actual_k': 0, 'was_impossible': False}),\n",
       " Prediction(uid='A9Y5O2R4D6EH5', iid='B00829THEG', r_ui=5.0, est=4.303763440860215, details={'was_impossible': True, 'reason': 'User and/or item is unkown.'}),\n",
       " Prediction(uid='A3CG93783LP0FO', iid='B00EXK14S0', r_ui=4.0, est=4.303763440860215, details={'was_impossible': True, 'reason': 'User and/or item is unkown.'}),\n",
       " Prediction(uid='A1T1YSCDW0PD25', iid='B00DVFLJDS', r_ui=5.0, est=4.303763440860215, details={'was_impossible': True, 'reason': 'User and/or item is unkown.'}),\n",
       " Prediction(uid='A1QVFHPY8418HC', iid='B0007MXZB2', r_ui=5.0, est=4.303763440860215, details={'was_impossible': True, 'reason': 'User and/or item is unkown.'}),\n",
       " Prediction(uid='A1F9Z42CFF9IAY', iid='B00300TCVU', r_ui=4.0, est=4.303763440860215, details={'was_impossible': True, 'reason': 'User and/or item is unkown.'}),\n",
       " Prediction(uid='A3LGT6UZL99IW1', iid='B00F3F0EIU', r_ui=4.0, est=4.303763440860215, details={'was_impossible': True, 'reason': 'User and/or item is unkown.'}),\n",
       " Prediction(uid='A3AYSYSLHU26U9', iid='B0024G48VA', r_ui=4.0, est=4.303763440860215, details={'was_impossible': True, 'reason': 'User and/or item is unkown.'}),\n",
       " Prediction(uid='A231WM2Z2JL0U3', iid='B00004S9AK', r_ui=5.0, est=4.303763440860215, details={'was_impossible': True, 'reason': 'User and/or item is unkown.'}),\n",
       " Prediction(uid='A197T2N6RU7K56', iid='B001BYB620', r_ui=5.0, est=4.303763440860215, details={'was_impossible': True, 'reason': 'User and/or item is unkown.'}),\n",
       " Prediction(uid='A1E1LEVQ9VQNK', iid='B0035HOW0E', r_ui=5.0, est=4.303763440860215, details={'was_impossible': True, 'reason': 'User and/or item is unkown.'}),\n",
       " Prediction(uid='A2AX2UGB167J31', iid='B00CJGLBOW', r_ui=5.0, est=4.303763440860215, details={'was_impossible': True, 'reason': 'User and/or item is unkown.'}),\n",
       " Prediction(uid='A36K2N527TXXJN', iid='B008X9Z7N0', r_ui=3.0, est=4.3, details={'actual_k': 0, 'was_impossible': False}),\n",
       " Prediction(uid='A2QDOJFFLFGF18', iid='B0079UAT0A', r_ui=5.0, est=4.303763440860215, details={'was_impossible': True, 'reason': 'User and/or item is unkown.'}),\n",
       " Prediction(uid='A25C2M3QF9G7OQ', iid='B002B3YCQM', r_ui=5.0, est=4.303763440860215, details={'was_impossible': True, 'reason': 'User and/or item is unkown.'}),\n",
       " Prediction(uid='A203OCQQ12MAVT', iid='B005CQQLNM', r_ui=5.0, est=4.303763440860215, details={'was_impossible': True, 'reason': 'User and/or item is unkown.'}),\n",
       " Prediction(uid='A3OXHLG6DIBRW8', iid='B000JKUOIY', r_ui=5.0, est=4.303763440860215, details={'was_impossible': True, 'reason': 'User and/or item is unkown.'}),\n",
       " Prediction(uid='ADLVFFE4VBT8', iid='B0049MOJ2U', r_ui=5.0, est=4.303763440860215, details={'was_impossible': True, 'reason': 'User and/or item is unkown.'}),\n",
       " Prediction(uid='AT6CZDCP4TRGA', iid='B0000D1E04', r_ui=2.0, est=4.303763440860215, details={'was_impossible': True, 'reason': 'User and/or item is unkown.'}),\n",
       " Prediction(uid='A18S2VGUH9SCV5', iid='B005CLPP8E', r_ui=4.0, est=4.303763440860215, details={'was_impossible': True, 'reason': 'User and/or item is unkown.'}),\n",
       " Prediction(uid='A17HMM1M7T9PJ1', iid='B001AYW91I', r_ui=4.0, est=4.454545454545454, details={'actual_k': 0, 'was_impossible': False}),\n",
       " Prediction(uid='A3EZEP0FX5BC1P', iid='B00008I9K8', r_ui=5.0, est=4.303763440860215, details={'was_impossible': True, 'reason': 'User and/or item is unkown.'}),\n",
       " Prediction(uid='A2NOW4U7W3F7RI', iid='B0097BEDOC', r_ui=2.0, est=4.303763440860215, details={'was_impossible': True, 'reason': 'User and/or item is unkown.'}),\n",
       " Prediction(uid='A1EH2S92FHWZRP', iid='B0090Z3QD4', r_ui=4.0, est=4.303763440860215, details={'was_impossible': True, 'reason': 'User and/or item is unkown.'}),\n",
       " Prediction(uid='AGVWTYW0ULXHT', iid='B006MVX5B2', r_ui=4.0, est=4.303763440860215, details={'was_impossible': True, 'reason': 'User and/or item is unkown.'}),\n",
       " Prediction(uid='A2NOW4U7W3F7RI', iid='B00H8O8D96', r_ui=5.0, est=4.303763440860215, details={'was_impossible': True, 'reason': 'User and/or item is unkown.'}),\n",
       " Prediction(uid='A15QYHQH80W30L', iid='B001HX44A6', r_ui=2.0, est=4.303763440860215, details={'was_impossible': True, 'reason': 'User and/or item is unkown.'}),\n",
       " Prediction(uid='A250AXLRBVYKB4', iid='B001RB1XVQ', r_ui=1.0, est=4.303763440860215, details={'was_impossible': True, 'reason': 'User and/or item is unkown.'}),\n",
       " Prediction(uid='A2NB2E5DXE319Z', iid='B0015YTYKM', r_ui=4.0, est=4.303763440860215, details={'was_impossible': True, 'reason': 'User and/or item is unkown.'}),\n",
       " Prediction(uid='A28UMA3GW9L124', iid='B0054U6CEE', r_ui=4.0, est=4.303763440860215, details={'was_impossible': True, 'reason': 'User and/or item is unkown.'}),\n",
       " Prediction(uid='A1UQBFCERIP7VJ', iid='B00GO4GMAI', r_ui=5.0, est=4.303763440860215, details={'was_impossible': True, 'reason': 'User and/or item is unkown.'}),\n",
       " Prediction(uid='A3EZEP0FX5BC1P', iid='B001D7REIK', r_ui=4.0, est=4.303763440860215, details={'was_impossible': True, 'reason': 'User and/or item is unkown.'}),\n",
       " Prediction(uid='A2NYK9KWFMJV4Y', iid='B00JBJZFLU', r_ui=5.0, est=4.303763440860215, details={'was_impossible': True, 'reason': 'User and/or item is unkown.'}),\n",
       " Prediction(uid='A11KZ906QD08C5', iid='B003XATM94', r_ui=5.0, est=4.303763440860215, details={'was_impossible': True, 'reason': 'User and/or item is unkown.'}),\n",
       " Prediction(uid='A3EZEP0FX5BC1P', iid='B00BR3ZYIW', r_ui=5.0, est=4.303763440860215, details={'was_impossible': True, 'reason': 'User and/or item is unkown.'}),\n",
       " Prediction(uid='A15CL28ALB7MTZ', iid='B002OOWCA6', r_ui=4.0, est=4.303763440860215, details={'was_impossible': True, 'reason': 'User and/or item is unkown.'}),\n",
       " Prediction(uid='A203OCQQ12MAVT', iid='B001J8BAYW', r_ui=5.0, est=4.303763440860215, details={'was_impossible': True, 'reason': 'User and/or item is unkown.'}),\n",
       " Prediction(uid='A3NEAETOSXDBOM', iid='B003E7W8LU', r_ui=5.0, est=4.303763440860215, details={'was_impossible': True, 'reason': 'User and/or item is unkown.'}),\n",
       " Prediction(uid='A4WEZJOIZIV4U', iid='B00ITI04YM', r_ui=3.0, est=4.303763440860215, details={'was_impossible': True, 'reason': 'User and/or item is unkown.'}),\n",
       " Prediction(uid='AOEDWQLH2WKKW', iid='B00D5Q75RC', r_ui=5.0, est=4.303763440860215, details={'was_impossible': True, 'reason': 'User and/or item is unkown.'}),\n",
       " Prediction(uid='A3AYSYSLHU26U9', iid='B00AVWKUXE', r_ui=2.0, est=4.303763440860215, details={'was_impossible': True, 'reason': 'User and/or item is unkown.'}),\n",
       " Prediction(uid='A1CPRP3VFJRS1R', iid='B0001CVBRI', r_ui=4.0, est=4.303763440860215, details={'was_impossible': True, 'reason': 'User and/or item is unkown.'}),\n",
       " Prediction(uid='AGVWTYW0ULXHT', iid='B001SJVU6K', r_ui=5.0, est=4.083333333333333, details={'actual_k': 0, 'was_impossible': False}),\n",
       " Prediction(uid='A38KK0SZYEH5UD', iid='B004M8ST1S', r_ui=4.0, est=4.303763440860215, details={'was_impossible': True, 'reason': 'User and/or item is unkown.'}),\n",
       " Prediction(uid='A38KK0SZYEH5UD', iid='B004L5W6R0', r_ui=4.0, est=4.303763440860215, details={'was_impossible': True, 'reason': 'User and/or item is unkown.'}),\n",
       " Prediction(uid='A2L42QEWR77PKZ', iid='B007Q4VCDM', r_ui=1.0, est=4.303763440860215, details={'was_impossible': True, 'reason': 'User and/or item is unkown.'}),\n",
       " Prediction(uid='A250AXLRBVYKB4', iid='B001P9KF14', r_ui=5.0, est=4.303763440860215, details={'was_impossible': True, 'reason': 'User and/or item is unkown.'}),\n",
       " Prediction(uid='A5JLAU2ARJ0BO', iid='B0000D17BF', r_ui=3.0, est=4.303763440860215, details={'was_impossible': True, 'reason': 'User and/or item is unkown.'}),\n",
       " Prediction(uid='A1435P5AMCPB3X', iid='B0015EA3P2', r_ui=4.0, est=4.303763440860215, details={'was_impossible': True, 'reason': 'User and/or item is unkown.'}),\n",
       " Prediction(uid='A3NHUQ33CFH3VM', iid='B00F705VHU', r_ui=5.0, est=4.303763440860215, details={'was_impossible': True, 'reason': 'User and/or item is unkown.'}),\n",
       " Prediction(uid='A3AYSYSLHU26U9', iid='B003UVCSZ6', r_ui=5.0, est=4.303763440860215, details={'was_impossible': True, 'reason': 'User and/or item is unkown.'}),\n",
       " Prediction(uid='A3REK3OFONWB1Q', iid='B002BOX230', r_ui=5.0, est=4.303763440860215, details={'was_impossible': True, 'reason': 'User and/or item is unkown.'}),\n",
       " Prediction(uid='A38KK0SZYEH5UD', iid='B000VDF5RO', r_ui=5.0, est=4.303763440860215, details={'was_impossible': True, 'reason': 'User and/or item is unkown.'}),\n",
       " Prediction(uid='A3CW0ZLUO5X2B1', iid='B007RMAS1K', r_ui=5.0, est=4.303763440860215, details={'was_impossible': True, 'reason': 'User and/or item is unkown.'}),\n",
       " Prediction(uid='A2KYRPDKVBI2R4', iid='B001IF252M', r_ui=4.0, est=4.303763440860215, details={'was_impossible': True, 'reason': 'User and/or item is unkown.'}),\n",
       " Prediction(uid='A2ZY49IDE6TY5I', iid='B0013FRNKG', r_ui=5.0, est=4.303763440860215, details={'was_impossible': True, 'reason': 'User and/or item is unkown.'}),\n",
       " Prediction(uid='A10Y058K7B96C6', iid='B001N85NMI', r_ui=5.0, est=4.303763440860215, details={'was_impossible': True, 'reason': 'User and/or item is unkown.'}),\n",
       " Prediction(uid='A3NHUQ33CFH3VM', iid='B00F3F0EIU', r_ui=5.0, est=4.303763440860215, details={'was_impossible': True, 'reason': 'User and/or item is unkown.'}),\n",
       " Prediction(uid='A11KZ906QD08C5', iid='B003FWHTTA', r_ui=4.0, est=4.303763440860215, details={'was_impossible': True, 'reason': 'User and/or item is unkown.'}),\n",
       " Prediction(uid='A2NOW4U7W3F7RI', iid='B00KMRGB7C', r_ui=5.0, est=4.303763440860215, details={'was_impossible': True, 'reason': 'User and/or item is unkown.'}),\n",
       " Prediction(uid='A2V1J3JT5OOZFO', iid='B0011Z2402', r_ui=5.0, est=4.303763440860215, details={'was_impossible': True, 'reason': 'User and/or item is unkown.'}),\n",
       " Prediction(uid='A1F1A0QQP2XVH5', iid='B001M4HXB2', r_ui=5.0, est=4.303763440860215, details={'was_impossible': True, 'reason': 'User and/or item is unkown.'}),\n",
       " Prediction(uid='A6FIAB28IS79', iid='B000EVMK5S', r_ui=3.0, est=4.303763440860215, details={'was_impossible': True, 'reason': 'User and/or item is unkown.'}),\n",
       " Prediction(uid='A2B7BUH8834Y6M', iid='B0000507JI', r_ui=4.0, est=4.303763440860215, details={'was_impossible': True, 'reason': 'User and/or item is unkown.'}),\n",
       " Prediction(uid='A5JLAU2ARJ0BO', iid='B0001FV35U', r_ui=5.0, est=4.303763440860215, details={'was_impossible': True, 'reason': 'User and/or item is unkown.'}),\n",
       " Prediction(uid='A1F9Z42CFF9IAY', iid='B0002ZW5W4', r_ui=1.0, est=4.303763440860215, details={'was_impossible': True, 'reason': 'User and/or item is unkown.'}),\n",
       " Prediction(uid='A38KK0SZYEH5UD', iid='B00AMAJF0Y', r_ui=5.0, est=4.303763440860215, details={'was_impossible': True, 'reason': 'User and/or item is unkown.'}),\n",
       " Prediction(uid='A1CMD08Z49PGKQ', iid='B003ES5ZSW', r_ui=5.0, est=4.866666666666666, details={'actual_k': 0, 'was_impossible': False}),\n",
       " Prediction(uid='A3EXWV8FNSSFL6', iid='B003BYRGJ0', r_ui=5.0, est=4.303763440860215, details={'was_impossible': True, 'reason': 'User and/or item is unkown.'}),\n",
       " Prediction(uid='A6FIAB28IS79', iid='B004GV0HS4', r_ui=3.0, est=4.303763440860215, details={'was_impossible': True, 'reason': 'User and/or item is unkown.'}),\n",
       " Prediction(uid='ALDAF4VVLFRHP', iid='B0061HMPWM', r_ui=3.0, est=4.303763440860215, details={'was_impossible': True, 'reason': 'User and/or item is unkown.'}),\n",
       " Prediction(uid='A1EH2S92FHWZRP', iid='B003ES5ZUU', r_ui=5.0, est=4.303763440860215, details={'was_impossible': True, 'reason': 'User and/or item is unkown.'}),\n",
       " Prediction(uid='A1QVFHPY8418HC', iid='B005QCDY50', r_ui=5.0, est=4.428571428571429, details={'actual_k': 0, 'was_impossible': False}),\n",
       " Prediction(uid='A1YEPFLLH42OU1', iid='B007P4VOWC', r_ui=5.0, est=4.555555555555555, details={'actual_k': 0, 'was_impossible': False}),\n",
       " Prediction(uid='A1L64KDYO5BOJA', iid='B003NRHAH8', r_ui=5.0, est=4.303763440860215, details={'was_impossible': True, 'reason': 'User and/or item is unkown.'}),\n",
       " Prediction(uid='A1XXMNLOLKNO0I', iid='B008Y2SPH6', r_ui=5.0, est=4.303763440860215, details={'was_impossible': True, 'reason': 'User and/or item is unkown.'}),\n",
       " Prediction(uid='A2WLNSZ9U0T1S3', iid='B001TRM4K2', r_ui=5.0, est=4.303763440860215, details={'was_impossible': True, 'reason': 'User and/or item is unkown.'}),\n",
       " Prediction(uid='A1VHCO8RQFIGQJ', iid='B000YHGAMG', r_ui=5.0, est=4.303763440860215, details={'was_impossible': True, 'reason': 'User and/or item is unkown.'}),\n",
       " Prediction(uid='A1435P5AMCPB3X', iid='B000FNJYZO', r_ui=5.0, est=4.303763440860215, details={'was_impossible': True, 'reason': 'User and/or item is unkown.'}),\n",
       " Prediction(uid='ADLVFFE4VBT8', iid='B001CCGYJG', r_ui=4.0, est=4.303763440860215, details={'was_impossible': True, 'reason': 'User and/or item is unkown.'}),\n",
       " Prediction(uid='A12DQZKRKTNF5E', iid='B003N8GVUY', r_ui=5.0, est=4.303763440860215, details={'was_impossible': True, 'reason': 'User and/or item is unkown.'}),\n",
       " Prediction(uid='A4WEZJOIZIV4U', iid='B004CLYEDC', r_ui=5.0, est=4.5, details={'actual_k': 0, 'was_impossible': False}),\n",
       " Prediction(uid='A3OXHLG6DIBRW8', iid='B000V4TMWC', r_ui=4.0, est=4.303763440860215, details={'was_impossible': True, 'reason': 'User and/or item is unkown.'}),\n",
       " Prediction(uid='A1EKSETIBS9ETQ', iid='B003IVZVDO', r_ui=2.0, est=4.303763440860215, details={'was_impossible': True, 'reason': 'User and/or item is unkown.'}),\n",
       " Prediction(uid='A250AXLRBVYKB4', iid='B001UI2FPE', r_ui=5.0, est=4.303763440860215, details={'was_impossible': True, 'reason': 'User and/or item is unkown.'}),\n",
       " Prediction(uid='A3REK3OFONWB1Q', iid='B00091UOCY', r_ui=5.0, est=4.303763440860215, details={'was_impossible': True, 'reason': 'User and/or item is unkown.'}),\n",
       " Prediction(uid='A19W47CXJJP1MI', iid='B00004T8R2', r_ui=5.0, est=4.303763440860215, details={'was_impossible': True, 'reason': 'User and/or item is unkown.'}),\n",
       " Prediction(uid='A19XMHRB3G4DIR', iid='B001DWI1F0', r_ui=4.0, est=4.303763440860215, details={'was_impossible': True, 'reason': 'User and/or item is unkown.'}),\n",
       " Prediction(uid='A1T1YSCDW0PD25', iid='B004WYA852', r_ui=2.0, est=4.303763440860215, details={'was_impossible': True, 'reason': 'User and/or item is unkown.'}),\n",
       " Prediction(uid='A3EXWV8FNSSFL6', iid='B001TUYQT6', r_ui=4.0, est=4.303763440860215, details={'was_impossible': True, 'reason': 'User and/or item is unkown.'}),\n",
       " Prediction(uid='A30X750M8V1XXW', iid='B00006B7DA', r_ui=5.0, est=4.303763440860215, details={'was_impossible': True, 'reason': 'User and/or item is unkown.'}),\n",
       " Prediction(uid='A19XMHRB3G4DIR', iid='B00155RGYM', r_ui=5.0, est=4.303763440860215, details={'was_impossible': True, 'reason': 'User and/or item is unkown.'}),\n",
       " Prediction(uid='A1RL1OTV8IJMVD', iid='B00BQ5RY1G', r_ui=5.0, est=4.303763440860215, details={'was_impossible': True, 'reason': 'User and/or item is unkown.'}),\n",
       " Prediction(uid='A30XZK10EZN9V4', iid='B002YWCO7O', r_ui=5.0, est=4.303763440860215, details={'was_impossible': True, 'reason': 'User and/or item is unkown.'}),\n",
       " Prediction(uid='A1143YEAZYMYHJ', iid='B004T9RR6I', r_ui=3.0, est=4.303763440860215, details={'was_impossible': True, 'reason': 'User and/or item is unkown.'}),\n",
       " Prediction(uid='A30X750M8V1XXW', iid='B001UI4EQC', r_ui=4.0, est=4.303763440860215, details={'was_impossible': True, 'reason': 'User and/or item is unkown.'}),\n",
       " Prediction(uid='A1T1YSCDW0PD25', iid='B007MJURAA', r_ui=2.0, est=4.303763440860215, details={'was_impossible': True, 'reason': 'User and/or item is unkown.'}),\n",
       " Prediction(uid='AYB4ELCS5AM8P', iid='B00JEOC1LO', r_ui=5.0, est=4.303763440860215, details={'was_impossible': True, 'reason': 'User and/or item is unkown.'}),\n",
       " Prediction(uid='A1CMD08Z49PGKQ', iid='B007R5YDYA', r_ui=5.0, est=4.866666666666666, details={'actual_k': 0, 'was_impossible': False}),\n",
       " Prediction(uid='AN81JUYW2SL24', iid='B0002CPBWI', r_ui=5.0, est=4.222222222222222, details={'actual_k': 0, 'was_impossible': False}),\n",
       " Prediction(uid='A3PD8JD9L4WEII', iid='B000GR3XYM', r_ui=2.0, est=4.303763440860215, details={'was_impossible': True, 'reason': 'User and/or item is unkown.'}),\n",
       " Prediction(uid='A18HE80910BTZI', iid='B007KZQMO6', r_ui=4.0, est=4.303763440860215, details={'was_impossible': True, 'reason': 'User and/or item is unkown.'}),\n",
       " Prediction(uid='AVPNQUVZWMDSX', iid='B003FGF2MC', r_ui=4.0, est=4.303763440860215, details={'was_impossible': True, 'reason': 'User and/or item is unkown.'}),\n",
       " Prediction(uid='A2AX2UGB167J31', iid='B000Q9UFKU', r_ui=5.0, est=4.303763440860215, details={'was_impossible': True, 'reason': 'User and/or item is unkown.'}),\n",
       " Prediction(uid='A3FEGTOLCWXSV4', iid='B001OI2Z4Q', r_ui=5.0, est=4.333333333333333, details={'actual_k': 0, 'was_impossible': False}),\n",
       " Prediction(uid='A23GFTVIETX7DS', iid='B009T65WXG', r_ui=4.0, est=4.303763440860215, details={'was_impossible': True, 'reason': 'User and/or item is unkown.'}),\n",
       " Prediction(uid='A2ZY49IDE6TY5I', iid='B004TESXU2', r_ui=5.0, est=4.303763440860215, details={'was_impossible': True, 'reason': 'User and/or item is unkown.'}),\n",
       " Prediction(uid='A2QDOJFFLFGF18', iid='B00EUFP39E', r_ui=5.0, est=4.303763440860215, details={'was_impossible': True, 'reason': 'User and/or item is unkown.'}),\n",
       " Prediction(uid='A20OBCQWBKCGZT', iid='B00CIRLJPI', r_ui=5.0, est=4.303763440860215, details={'was_impossible': True, 'reason': 'User and/or item is unkown.'}),\n",
       " Prediction(uid='AEWYUPCNDV7HY', iid='B001TZUS98', r_ui=4.0, est=4.303763440860215, details={'was_impossible': True, 'reason': 'User and/or item is unkown.'}),\n",
       " Prediction(uid='AYB4ELCS5AM8P', iid='B000BQ7GW8', r_ui=5.0, est=4.303763440860215, details={'was_impossible': True, 'reason': 'User and/or item is unkown.'}),\n",
       " Prediction(uid='A1UQBFCERIP7VJ', iid='B00JXLGE70', r_ui=4.0, est=4.615384615384615, details={'actual_k': 0, 'was_impossible': False}),\n",
       " Prediction(uid='A1T1YSCDW0PD25', iid='B001E1Y5O6', r_ui=5.0, est=5, details={'actual_k': 0, 'was_impossible': False}),\n",
       " Prediction(uid='A1RL1OTV8IJMVD', iid='B003ZUM5LE', r_ui=5.0, est=4.303763440860215, details={'was_impossible': True, 'reason': 'User and/or item is unkown.'}),\n",
       " Prediction(uid='A5JLAU2ARJ0BO', iid='B000065BPC', r_ui=5.0, est=4.303763440860215, details={'was_impossible': True, 'reason': 'User and/or item is unkown.'}),\n",
       " Prediction(uid='A2ZY49IDE6TY5I', iid='B008DBI5RI', r_ui=4.0, est=4.303763440860215, details={'was_impossible': True, 'reason': 'User and/or item is unkown.'}),\n",
       " Prediction(uid='A17BUUBOU0598B', iid='B00142V7QY', r_ui=3.0, est=4.303763440860215, details={'was_impossible': True, 'reason': 'User and/or item is unkown.'}),\n",
       " Prediction(uid='A680RUE1FDO8B', iid='B00428N9OK', r_ui=4.0, est=4.303763440860215, details={'was_impossible': True, 'reason': 'User and/or item is unkown.'}),\n",
       " Prediction(uid='A2XRMQA6PJ5ZJ8', iid='B003D8GAA0', r_ui=5.0, est=4.303763440860215, details={'was_impossible': True, 'reason': 'User and/or item is unkown.'}),\n",
       " Prediction(uid='A20DZX38KRBIT8', iid='B000VZCEU8', r_ui=2.0, est=4.303763440860215, details={'was_impossible': True, 'reason': 'User and/or item is unkown.'}),\n",
       " Prediction(uid='A1CPRP3VFJRS1R', iid='B003N3GRCQ', r_ui=5.0, est=4.303763440860215, details={'was_impossible': True, 'reason': 'User and/or item is unkown.'}),\n",
       " Prediction(uid='A15QYHQH80W30L', iid='B004E9SGO0', r_ui=4.0, est=4.303763440860215, details={'was_impossible': True, 'reason': 'User and/or item is unkown.'}),\n",
       " Prediction(uid='A2L42QEWR77PKZ', iid='B002XITVCK', r_ui=5.0, est=4.303763440860215, details={'was_impossible': True, 'reason': 'User and/or item is unkown.'}),\n",
       " Prediction(uid='A18HE80910BTZI', iid='B0007UQNKO', r_ui=3.0, est=4.303763440860215, details={'was_impossible': True, 'reason': 'User and/or item is unkown.'}),\n",
       " Prediction(uid='A231WM2Z2JL0U3', iid='B00005AC8J', r_ui=5.0, est=4.303763440860215, details={'was_impossible': True, 'reason': 'User and/or item is unkown.'}),\n",
       " Prediction(uid='AOEAD7DPLZE53', iid='B00CR6TAJ2', r_ui=3.0, est=4.303763440860215, details={'was_impossible': True, 'reason': 'User and/or item is unkown.'}),\n",
       " Prediction(uid='A3A4ZAIBQWKOZS', iid='B00834SJNA', r_ui=5.0, est=4.303763440860215, details={'was_impossible': True, 'reason': 'User and/or item is unkown.'}),\n",
       " Prediction(uid='A30XZK10EZN9V4', iid='B003Y2ILES', r_ui=5.0, est=4.303763440860215, details={'was_impossible': True, 'reason': 'User and/or item is unkown.'}),\n",
       " Prediction(uid='A17BUUBOU0598B', iid='B006CFU61U', r_ui=4.0, est=4.303763440860215, details={'was_impossible': True, 'reason': 'User and/or item is unkown.'}),\n",
       " Prediction(uid='AT6CZDCP4TRGA', iid='B0006TIEZS', r_ui=4.0, est=4.303763440860215, details={'was_impossible': True, 'reason': 'User and/or item is unkown.'}),\n",
       " Prediction(uid='A3OXHLG6DIBRW8', iid='B001F7FMUA', r_ui=4.0, est=4.303763440860215, details={'was_impossible': True, 'reason': 'User and/or item is unkown.'})]"
      ]
     },
     "execution_count": 65,
     "metadata": {},
     "output_type": "execute_result"
    }
   ],
   "source": [
    "test_pred"
   ]
  },
  {
   "cell_type": "code",
   "execution_count": 66,
   "metadata": {},
   "outputs": [
    {
     "name": "stdout",
     "output_type": "stream",
     "text": [
      "User-based Model : Test Set\n",
      "RMSE: 1.0726\n"
     ]
    },
    {
     "data": {
      "text/plain": [
       "1.0725781309937685"
      ]
     },
     "execution_count": 66,
     "metadata": {},
     "output_type": "execute_result"
    }
   ],
   "source": [
    "# get RMSE\n",
    "print(\"User-based Model : Test Set\")\n",
    "accuracy.rmse(test_pred, verbose=True)"
   ]
  },
  {
   "cell_type": "code",
   "execution_count": 67,
   "metadata": {},
   "outputs": [
    {
     "data": {
      "text/plain": [
       "Prediction(uid='ARBKYIVNYWK3C', iid='B002MMY4WY', r_ui=4.0, est=4.303763440860215, details={'was_impossible': True, 'reason': 'User and/or item is unkown.'})"
      ]
     },
     "execution_count": 67,
     "metadata": {},
     "output_type": "execute_result"
    }
   ],
   "source": [
    "test_pred[103]"
   ]
  },
  {
   "cell_type": "code",
   "execution_count": 68,
   "metadata": {},
   "outputs": [
    {
     "data": {
      "text/plain": [
       "Prediction(uid='AGOH8N902URMW', iid='B0014KKV7W', r_ui=5.0, est=4.303763440860215, details={'was_impossible': True, 'reason': 'User and/or item is unkown.'})"
      ]
     },
     "execution_count": 68,
     "metadata": {},
     "output_type": "execute_result"
    }
   ],
   "source": [
    "test_pred[58]"
   ]
  },
  {
   "cell_type": "code",
   "execution_count": 69,
   "metadata": {},
   "outputs": [
    {
     "data": {
      "text/html": [
       "<div>\n",
       "<style scoped>\n",
       "    .dataframe tbody tr th:only-of-type {\n",
       "        vertical-align: middle;\n",
       "    }\n",
       "\n",
       "    .dataframe tbody tr th {\n",
       "        vertical-align: top;\n",
       "    }\n",
       "\n",
       "    .dataframe thead th {\n",
       "        text-align: right;\n",
       "    }\n",
       "</style>\n",
       "<table border=\"1\" class=\"dataframe\">\n",
       "  <thead>\n",
       "    <tr style=\"text-align: right;\">\n",
       "      <th></th>\n",
       "      <th>uid</th>\n",
       "      <th>iid</th>\n",
       "      <th>r_ui</th>\n",
       "      <th>est</th>\n",
       "      <th>details</th>\n",
       "    </tr>\n",
       "  </thead>\n",
       "  <tbody>\n",
       "    <tr>\n",
       "      <td>0</td>\n",
       "      <td>ARBKYIVNYWK3C</td>\n",
       "      <td>B009A6CZYY</td>\n",
       "      <td>4.0</td>\n",
       "      <td>4.000000</td>\n",
       "      <td>{'actual_k': 0, 'was_impossible': False}</td>\n",
       "    </tr>\n",
       "    <tr>\n",
       "      <td>1</td>\n",
       "      <td>A11KZ906QD08C5</td>\n",
       "      <td>B003ASUEP0</td>\n",
       "      <td>5.0</td>\n",
       "      <td>4.303763</td>\n",
       "      <td>{'was_impossible': True, 'reason': 'User and/o...</td>\n",
       "    </tr>\n",
       "    <tr>\n",
       "      <td>2</td>\n",
       "      <td>A3NHUQ33CFH3VM</td>\n",
       "      <td>B00EHDTQQ0</td>\n",
       "      <td>5.0</td>\n",
       "      <td>4.303763</td>\n",
       "      <td>{'was_impossible': True, 'reason': 'User and/o...</td>\n",
       "    </tr>\n",
       "    <tr>\n",
       "      <td>3</td>\n",
       "      <td>A11KZ906QD08C5</td>\n",
       "      <td>B00HPM1FZ0</td>\n",
       "      <td>3.0</td>\n",
       "      <td>4.303763</td>\n",
       "      <td>{'was_impossible': True, 'reason': 'User and/o...</td>\n",
       "    </tr>\n",
       "    <tr>\n",
       "      <td>4</td>\n",
       "      <td>ALDAF4VVLFRHP</td>\n",
       "      <td>B000HEW0KW</td>\n",
       "      <td>5.0</td>\n",
       "      <td>4.303763</td>\n",
       "      <td>{'was_impossible': True, 'reason': 'User and/o...</td>\n",
       "    </tr>\n",
       "  </tbody>\n",
       "</table>\n",
       "</div>"
      ],
      "text/plain": [
       "              uid         iid  r_ui       est  \\\n",
       "0   ARBKYIVNYWK3C  B009A6CZYY   4.0  4.000000   \n",
       "1  A11KZ906QD08C5  B003ASUEP0   5.0  4.303763   \n",
       "2  A3NHUQ33CFH3VM  B00EHDTQQ0   5.0  4.303763   \n",
       "3  A11KZ906QD08C5  B00HPM1FZ0   3.0  4.303763   \n",
       "4   ALDAF4VVLFRHP  B000HEW0KW   5.0  4.303763   \n",
       "\n",
       "                                             details  \n",
       "0           {'actual_k': 0, 'was_impossible': False}  \n",
       "1  {'was_impossible': True, 'reason': 'User and/o...  \n",
       "2  {'was_impossible': True, 'reason': 'User and/o...  \n",
       "3  {'was_impossible': True, 'reason': 'User and/o...  \n",
       "4  {'was_impossible': True, 'reason': 'User and/o...  "
      ]
     },
     "execution_count": 69,
     "metadata": {},
     "output_type": "execute_result"
    }
   ],
   "source": [
    "#Convert the predictions into a DataFrame\n",
    "predictions = pd.DataFrame(test_pred)\n",
    "predictions.head()"
   ]
  },
  {
   "cell_type": "code",
   "execution_count": 70,
   "metadata": {},
   "outputs": [
    {
     "data": {
      "text/plain": [
       "(479, 5)"
      ]
     },
     "execution_count": 70,
     "metadata": {},
     "output_type": "execute_result"
    }
   ],
   "source": [
    "predictions.shape"
   ]
  },
  {
   "cell_type": "code",
   "execution_count": 71,
   "metadata": {},
   "outputs": [],
   "source": [
    "#was_impossible=false: are only calculated\n",
    "testset_new = train.build_anti_testset()\n"
   ]
  },
  {
   "cell_type": "code",
   "execution_count": 72,
   "metadata": {},
   "outputs": [
    {
     "data": {
      "text/plain": [
       "112608"
      ]
     },
     "execution_count": 72,
     "metadata": {},
     "output_type": "execute_result"
    }
   ],
   "source": [
    "len(testset_new)\n"
   ]
  },
  {
   "cell_type": "code",
   "execution_count": 73,
   "metadata": {},
   "outputs": [
    {
     "data": {
      "text/plain": [
       "[('A3NEAETOSXDBOM', 'B000779RZA', 4.303763440860215),\n",
       " ('A3NEAETOSXDBOM', 'B001F7AJKI', 4.303763440860215),\n",
       " ('A3NEAETOSXDBOM', 'B0002XZQ9U', 4.303763440860215),\n",
       " ('A3NEAETOSXDBOM', 'B00009MDBQ', 4.303763440860215),\n",
       " ('A3NEAETOSXDBOM', 'B00GLG2D4I', 4.303763440860215),\n",
       " ('A3NEAETOSXDBOM', 'B0000608R3', 4.303763440860215),\n",
       " ('A3NEAETOSXDBOM', 'B0002WPREU', 4.303763440860215)]"
      ]
     },
     "execution_count": 73,
     "metadata": {},
     "output_type": "execute_result"
    }
   ],
   "source": [
    "testset_new[0:7]"
   ]
  },
  {
   "cell_type": "code",
   "execution_count": 74,
   "metadata": {},
   "outputs": [],
   "source": [
    "predictions_new = algo.test(testset_new)\n"
   ]
  },
  {
   "cell_type": "code",
   "execution_count": 75,
   "metadata": {},
   "outputs": [],
   "source": [
    "predictions_new_df = pd.DataFrame([[x.uid,x.iid,x.est] for x in predictions_new])\n"
   ]
  },
  {
   "cell_type": "code",
   "execution_count": 76,
   "metadata": {},
   "outputs": [
    {
     "data": {
      "text/html": [
       "<div>\n",
       "<style scoped>\n",
       "    .dataframe tbody tr th:only-of-type {\n",
       "        vertical-align: middle;\n",
       "    }\n",
       "\n",
       "    .dataframe tbody tr th {\n",
       "        vertical-align: top;\n",
       "    }\n",
       "\n",
       "    .dataframe thead th {\n",
       "        text-align: right;\n",
       "    }\n",
       "</style>\n",
       "<table border=\"1\" class=\"dataframe\">\n",
       "  <thead>\n",
       "    <tr style=\"text-align: right;\">\n",
       "      <th></th>\n",
       "      <th>0</th>\n",
       "      <th>1</th>\n",
       "      <th>2</th>\n",
       "    </tr>\n",
       "  </thead>\n",
       "  <tbody>\n",
       "    <tr>\n",
       "      <td>0</td>\n",
       "      <td>A3NEAETOSXDBOM</td>\n",
       "      <td>B000779RZA</td>\n",
       "      <td>4.666667</td>\n",
       "    </tr>\n",
       "    <tr>\n",
       "      <td>1</td>\n",
       "      <td>A3NEAETOSXDBOM</td>\n",
       "      <td>B001F7AJKI</td>\n",
       "      <td>4.666667</td>\n",
       "    </tr>\n",
       "    <tr>\n",
       "      <td>2</td>\n",
       "      <td>A3NEAETOSXDBOM</td>\n",
       "      <td>B0002XZQ9U</td>\n",
       "      <td>4.666667</td>\n",
       "    </tr>\n",
       "    <tr>\n",
       "      <td>3</td>\n",
       "      <td>A3NEAETOSXDBOM</td>\n",
       "      <td>B00009MDBQ</td>\n",
       "      <td>4.666667</td>\n",
       "    </tr>\n",
       "    <tr>\n",
       "      <td>4</td>\n",
       "      <td>A3NEAETOSXDBOM</td>\n",
       "      <td>B00GLG2D4I</td>\n",
       "      <td>4.666667</td>\n",
       "    </tr>\n",
       "  </tbody>\n",
       "</table>\n",
       "</div>"
      ],
      "text/plain": [
       "                0           1         2\n",
       "0  A3NEAETOSXDBOM  B000779RZA  4.666667\n",
       "1  A3NEAETOSXDBOM  B001F7AJKI  4.666667\n",
       "2  A3NEAETOSXDBOM  B0002XZQ9U  4.666667\n",
       "3  A3NEAETOSXDBOM  B00009MDBQ  4.666667\n",
       "4  A3NEAETOSXDBOM  B00GLG2D4I  4.666667"
      ]
     },
     "execution_count": 76,
     "metadata": {},
     "output_type": "execute_result"
    }
   ],
   "source": [
    "predictions_new_df.head()\n"
   ]
  },
  {
   "cell_type": "code",
   "execution_count": 77,
   "metadata": {},
   "outputs": [
    {
     "data": {
      "text/plain": [
       "(112608, 3)"
      ]
     },
     "execution_count": 77,
     "metadata": {},
     "output_type": "execute_result"
    }
   ],
   "source": [
    "predictions_new_df.shape"
   ]
  },
  {
   "cell_type": "code",
   "execution_count": 78,
   "metadata": {},
   "outputs": [],
   "source": [
    "predictions_new_df.columns = [\"CustomerID\",\"ItemID\",\"Est_rating\"]\n",
    "predictions_new_df.sort_values(by = [\"CustomerID\",\"ItemID\", \"Est_rating\"],ascending=False,inplace=True)"
   ]
  },
  {
   "cell_type": "code",
   "execution_count": 79,
   "metadata": {},
   "outputs": [
    {
     "data": {
      "text/html": [
       "<div>\n",
       "<style scoped>\n",
       "    .dataframe tbody tr th:only-of-type {\n",
       "        vertical-align: middle;\n",
       "    }\n",
       "\n",
       "    .dataframe tbody tr th {\n",
       "        vertical-align: top;\n",
       "    }\n",
       "\n",
       "    .dataframe thead th {\n",
       "        text-align: right;\n",
       "    }\n",
       "</style>\n",
       "<table border=\"1\" class=\"dataframe\">\n",
       "  <thead>\n",
       "    <tr style=\"text-align: right;\">\n",
       "      <th></th>\n",
       "      <th>CustomerID</th>\n",
       "      <th>ItemID</th>\n",
       "      <th>Est_rating</th>\n",
       "    </tr>\n",
       "  </thead>\n",
       "  <tbody>\n",
       "    <tr>\n",
       "      <td>32822</td>\n",
       "      <td>AYB4ELCS5AM8P</td>\n",
       "      <td>B00L2442H0</td>\n",
       "      <td>4.875</td>\n",
       "    </tr>\n",
       "    <tr>\n",
       "      <td>32888</td>\n",
       "      <td>AYB4ELCS5AM8P</td>\n",
       "      <td>B00KYMCJF8</td>\n",
       "      <td>4.875</td>\n",
       "    </tr>\n",
       "    <tr>\n",
       "      <td>33264</td>\n",
       "      <td>AYB4ELCS5AM8P</td>\n",
       "      <td>B00KIMX4EY</td>\n",
       "      <td>4.875</td>\n",
       "    </tr>\n",
       "    <tr>\n",
       "      <td>33318</td>\n",
       "      <td>AYB4ELCS5AM8P</td>\n",
       "      <td>B00KH8PU6E</td>\n",
       "      <td>4.875</td>\n",
       "    </tr>\n",
       "    <tr>\n",
       "      <td>32869</td>\n",
       "      <td>AYB4ELCS5AM8P</td>\n",
       "      <td>B00JZC972Q</td>\n",
       "      <td>4.875</td>\n",
       "    </tr>\n",
       "  </tbody>\n",
       "</table>\n",
       "</div>"
      ],
      "text/plain": [
       "          CustomerID      ItemID  Est_rating\n",
       "32822  AYB4ELCS5AM8P  B00L2442H0       4.875\n",
       "32888  AYB4ELCS5AM8P  B00KYMCJF8       4.875\n",
       "33264  AYB4ELCS5AM8P  B00KIMX4EY       4.875\n",
       "33318  AYB4ELCS5AM8P  B00KH8PU6E       4.875\n",
       "32869  AYB4ELCS5AM8P  B00JZC972Q       4.875"
      ]
     },
     "execution_count": 79,
     "metadata": {},
     "output_type": "execute_result"
    }
   ],
   "source": [
    "predictions_new_df.head()\n"
   ]
  },
  {
   "cell_type": "code",
   "execution_count": 80,
   "metadata": {},
   "outputs": [
    {
     "data": {
      "text/html": [
       "<div>\n",
       "<style scoped>\n",
       "    .dataframe tbody tr th:only-of-type {\n",
       "        vertical-align: middle;\n",
       "    }\n",
       "\n",
       "    .dataframe tbody tr th {\n",
       "        vertical-align: top;\n",
       "    }\n",
       "\n",
       "    .dataframe thead th {\n",
       "        text-align: right;\n",
       "    }\n",
       "</style>\n",
       "<table border=\"1\" class=\"dataframe\">\n",
       "  <thead>\n",
       "    <tr style=\"text-align: right;\">\n",
       "      <th></th>\n",
       "      <th>CustomerID</th>\n",
       "      <th>ItemID</th>\n",
       "      <th>Est_rating</th>\n",
       "    </tr>\n",
       "  </thead>\n",
       "  <tbody>\n",
       "    <tr>\n",
       "      <td>0</td>\n",
       "      <td>AYB4ELCS5AM8P</td>\n",
       "      <td>B00L2442H0</td>\n",
       "      <td>4.875000</td>\n",
       "    </tr>\n",
       "    <tr>\n",
       "      <td>1</td>\n",
       "      <td>AYB4ELCS5AM8P</td>\n",
       "      <td>B00KYMCJF8</td>\n",
       "      <td>4.875000</td>\n",
       "    </tr>\n",
       "    <tr>\n",
       "      <td>2</td>\n",
       "      <td>AYB4ELCS5AM8P</td>\n",
       "      <td>B00KIMX4EY</td>\n",
       "      <td>4.875000</td>\n",
       "    </tr>\n",
       "    <tr>\n",
       "      <td>3</td>\n",
       "      <td>AYB4ELCS5AM8P</td>\n",
       "      <td>B00KH8PU6E</td>\n",
       "      <td>4.875000</td>\n",
       "    </tr>\n",
       "    <tr>\n",
       "      <td>4</td>\n",
       "      <td>AYB4ELCS5AM8P</td>\n",
       "      <td>B00JZC972Q</td>\n",
       "      <td>4.875000</td>\n",
       "    </tr>\n",
       "    <tr>\n",
       "      <td>...</td>\n",
       "      <td>...</td>\n",
       "      <td>...</td>\n",
       "      <td>...</td>\n",
       "    </tr>\n",
       "    <tr>\n",
       "      <td>535</td>\n",
       "      <td>A10Y058K7B96C6</td>\n",
       "      <td>B00L2442H0</td>\n",
       "      <td>4.363636</td>\n",
       "    </tr>\n",
       "    <tr>\n",
       "      <td>536</td>\n",
       "      <td>A10Y058K7B96C6</td>\n",
       "      <td>B00KYMCJF8</td>\n",
       "      <td>4.363636</td>\n",
       "    </tr>\n",
       "    <tr>\n",
       "      <td>537</td>\n",
       "      <td>A10Y058K7B96C6</td>\n",
       "      <td>B00KIMX4EY</td>\n",
       "      <td>4.363636</td>\n",
       "    </tr>\n",
       "    <tr>\n",
       "      <td>538</td>\n",
       "      <td>A10Y058K7B96C6</td>\n",
       "      <td>B00KH8PU6E</td>\n",
       "      <td>4.363636</td>\n",
       "    </tr>\n",
       "    <tr>\n",
       "      <td>539</td>\n",
       "      <td>A10Y058K7B96C6</td>\n",
       "      <td>B00JZC972Q</td>\n",
       "      <td>4.363636</td>\n",
       "    </tr>\n",
       "  </tbody>\n",
       "</table>\n",
       "<p>540 rows × 3 columns</p>\n",
       "</div>"
      ],
      "text/plain": [
       "         CustomerID      ItemID  Est_rating\n",
       "0     AYB4ELCS5AM8P  B00L2442H0    4.875000\n",
       "1     AYB4ELCS5AM8P  B00KYMCJF8    4.875000\n",
       "2     AYB4ELCS5AM8P  B00KIMX4EY    4.875000\n",
       "3     AYB4ELCS5AM8P  B00KH8PU6E    4.875000\n",
       "4     AYB4ELCS5AM8P  B00JZC972Q    4.875000\n",
       "..              ...         ...         ...\n",
       "535  A10Y058K7B96C6  B00L2442H0    4.363636\n",
       "536  A10Y058K7B96C6  B00KYMCJF8    4.363636\n",
       "537  A10Y058K7B96C6  B00KIMX4EY    4.363636\n",
       "538  A10Y058K7B96C6  B00KH8PU6E    4.363636\n",
       "539  A10Y058K7B96C6  B00JZC972Q    4.363636\n",
       "\n",
       "[540 rows x 3 columns]"
      ]
     },
     "execution_count": 80,
     "metadata": {},
     "output_type": "execute_result"
    }
   ],
   "source": [
    "#Representing top 5 Recommendations for each Customers\n",
    "top_5_rec = predictions_new_df.groupby(\"CustomerID\").head(5).reset_index(drop=True)\n",
    "top_5_rec"
   ]
  },
  {
   "cell_type": "markdown",
   "metadata": {},
   "source": [
    "# Insights "
   ]
  },
  {
   "cell_type": "markdown",
   "metadata": {},
   "source": [
    "- After initial data analysis identified Data is sparse, where count of rating '5' is high compared to the other ratings\n",
    "- Number of responses provided by each 'Customer' is also holding high variance\n",
    "- To avoid memory error and to avoid data sparse issue, taken data subset with users providing 10 or more responses\n",
    "- RMSE on the collabrative filtering model is at 1.07\n",
    "- The Popularity-based recommender system is a non-personalised recommender system and these are based on frequecy counts, which may be not suitable to the user.We can see the differance above \n",
    "- The Popularity based model has recommended the same set of 5 products to both but Collaborative Filtering based model has recommended entire different list based on the user past purchase history.\n",
    "- Model-based Collaborative Filtering is a personalised recommender system, the recommendations are based on the past behavior of the user and it is not dependent on any additional information. For this particular dataset we will prefer to go with Collabrative filtering model for generalizing"
   ]
  }
 ],
 "metadata": {
  "kernelspec": {
   "display_name": "Python 3",
   "language": "python",
   "name": "python3"
  },
  "language_info": {
   "codemirror_mode": {
    "name": "ipython",
    "version": 3
   },
   "file_extension": ".py",
   "mimetype": "text/x-python",
   "name": "python",
   "nbconvert_exporter": "python",
   "pygments_lexer": "ipython3",
   "version": "3.7.4"
  }
 },
 "nbformat": 4,
 "nbformat_minor": 2
}
