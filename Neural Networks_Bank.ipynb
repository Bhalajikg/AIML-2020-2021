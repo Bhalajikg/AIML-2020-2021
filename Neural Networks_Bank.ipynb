{
 "cells": [
  {
   "cell_type": "code",
   "execution_count": 107,
   "metadata": {},
   "outputs": [],
   "source": [
    "import pandas as pd\n",
    "import numpy as np\n",
    "import seaborn as sns\n",
    "import matplotlib.pyplot as plt"
   ]
  },
  {
   "cell_type": "code",
   "execution_count": 108,
   "metadata": {},
   "outputs": [],
   "source": [
    "from tensorflow.keras import Sequential\n",
    "from tensorflow.keras.layers import Dense,Dropout\n"
   ]
  },
  {
   "cell_type": "markdown",
   "metadata": {},
   "source": [
    "# Reading the dataset\n"
   ]
  },
  {
   "cell_type": "code",
   "execution_count": 109,
   "metadata": {},
   "outputs": [],
   "source": [
    "bank_df = pd.read_csv(\"Churn_Modelling.csv\")"
   ]
  },
  {
   "cell_type": "code",
   "execution_count": 110,
   "metadata": {},
   "outputs": [
    {
     "data": {
      "text/html": [
       "<div>\n",
       "<style scoped>\n",
       "    .dataframe tbody tr th:only-of-type {\n",
       "        vertical-align: middle;\n",
       "    }\n",
       "\n",
       "    .dataframe tbody tr th {\n",
       "        vertical-align: top;\n",
       "    }\n",
       "\n",
       "    .dataframe thead th {\n",
       "        text-align: right;\n",
       "    }\n",
       "</style>\n",
       "<table border=\"1\" class=\"dataframe\">\n",
       "  <thead>\n",
       "    <tr style=\"text-align: right;\">\n",
       "      <th></th>\n",
       "      <th>RowNumber</th>\n",
       "      <th>CustomerId</th>\n",
       "      <th>Surname</th>\n",
       "      <th>CreditScore</th>\n",
       "      <th>Geography</th>\n",
       "      <th>Gender</th>\n",
       "      <th>Age</th>\n",
       "      <th>Tenure</th>\n",
       "      <th>Balance</th>\n",
       "      <th>NumOfProducts</th>\n",
       "      <th>HasCrCard</th>\n",
       "      <th>IsActiveMember</th>\n",
       "      <th>EstimatedSalary</th>\n",
       "      <th>Exited</th>\n",
       "    </tr>\n",
       "  </thead>\n",
       "  <tbody>\n",
       "    <tr>\n",
       "      <td>0</td>\n",
       "      <td>1</td>\n",
       "      <td>15634602</td>\n",
       "      <td>Hargrave</td>\n",
       "      <td>619</td>\n",
       "      <td>France</td>\n",
       "      <td>Female</td>\n",
       "      <td>42</td>\n",
       "      <td>2</td>\n",
       "      <td>0.00</td>\n",
       "      <td>1</td>\n",
       "      <td>1</td>\n",
       "      <td>1</td>\n",
       "      <td>101348.88</td>\n",
       "      <td>1</td>\n",
       "    </tr>\n",
       "    <tr>\n",
       "      <td>1</td>\n",
       "      <td>2</td>\n",
       "      <td>15647311</td>\n",
       "      <td>Hill</td>\n",
       "      <td>608</td>\n",
       "      <td>Spain</td>\n",
       "      <td>Female</td>\n",
       "      <td>41</td>\n",
       "      <td>1</td>\n",
       "      <td>83807.86</td>\n",
       "      <td>1</td>\n",
       "      <td>0</td>\n",
       "      <td>1</td>\n",
       "      <td>112542.58</td>\n",
       "      <td>0</td>\n",
       "    </tr>\n",
       "    <tr>\n",
       "      <td>2</td>\n",
       "      <td>3</td>\n",
       "      <td>15619304</td>\n",
       "      <td>Onio</td>\n",
       "      <td>502</td>\n",
       "      <td>France</td>\n",
       "      <td>Female</td>\n",
       "      <td>42</td>\n",
       "      <td>8</td>\n",
       "      <td>159660.80</td>\n",
       "      <td>3</td>\n",
       "      <td>1</td>\n",
       "      <td>0</td>\n",
       "      <td>113931.57</td>\n",
       "      <td>1</td>\n",
       "    </tr>\n",
       "    <tr>\n",
       "      <td>3</td>\n",
       "      <td>4</td>\n",
       "      <td>15701354</td>\n",
       "      <td>Boni</td>\n",
       "      <td>699</td>\n",
       "      <td>France</td>\n",
       "      <td>Female</td>\n",
       "      <td>39</td>\n",
       "      <td>1</td>\n",
       "      <td>0.00</td>\n",
       "      <td>2</td>\n",
       "      <td>0</td>\n",
       "      <td>0</td>\n",
       "      <td>93826.63</td>\n",
       "      <td>0</td>\n",
       "    </tr>\n",
       "    <tr>\n",
       "      <td>4</td>\n",
       "      <td>5</td>\n",
       "      <td>15737888</td>\n",
       "      <td>Mitchell</td>\n",
       "      <td>850</td>\n",
       "      <td>Spain</td>\n",
       "      <td>Female</td>\n",
       "      <td>43</td>\n",
       "      <td>2</td>\n",
       "      <td>125510.82</td>\n",
       "      <td>1</td>\n",
       "      <td>1</td>\n",
       "      <td>1</td>\n",
       "      <td>79084.10</td>\n",
       "      <td>0</td>\n",
       "    </tr>\n",
       "  </tbody>\n",
       "</table>\n",
       "</div>"
      ],
      "text/plain": [
       "   RowNumber  CustomerId   Surname  CreditScore Geography  Gender  Age  \\\n",
       "0          1    15634602  Hargrave          619    France  Female   42   \n",
       "1          2    15647311      Hill          608     Spain  Female   41   \n",
       "2          3    15619304      Onio          502    France  Female   42   \n",
       "3          4    15701354      Boni          699    France  Female   39   \n",
       "4          5    15737888  Mitchell          850     Spain  Female   43   \n",
       "\n",
       "   Tenure    Balance  NumOfProducts  HasCrCard  IsActiveMember  \\\n",
       "0       2       0.00              1          1               1   \n",
       "1       1   83807.86              1          0               1   \n",
       "2       8  159660.80              3          1               0   \n",
       "3       1       0.00              2          0               0   \n",
       "4       2  125510.82              1          1               1   \n",
       "\n",
       "   EstimatedSalary  Exited  \n",
       "0        101348.88       1  \n",
       "1        112542.58       0  \n",
       "2        113931.57       1  \n",
       "3         93826.63       0  \n",
       "4         79084.10       0  "
      ]
     },
     "execution_count": 110,
     "metadata": {},
     "output_type": "execute_result"
    }
   ],
   "source": [
    "bank_df.head()"
   ]
  },
  {
   "cell_type": "code",
   "execution_count": 111,
   "metadata": {},
   "outputs": [
    {
     "name": "stdout",
     "output_type": "stream",
     "text": [
      "<class 'pandas.core.frame.DataFrame'>\n",
      "RangeIndex: 10000 entries, 0 to 9999\n",
      "Data columns (total 14 columns):\n",
      "RowNumber          10000 non-null int64\n",
      "CustomerId         10000 non-null int64\n",
      "Surname            10000 non-null object\n",
      "CreditScore        10000 non-null int64\n",
      "Geography          10000 non-null object\n",
      "Gender             10000 non-null object\n",
      "Age                10000 non-null int64\n",
      "Tenure             10000 non-null int64\n",
      "Balance            10000 non-null float64\n",
      "NumOfProducts      10000 non-null int64\n",
      "HasCrCard          10000 non-null int64\n",
      "IsActiveMember     10000 non-null int64\n",
      "EstimatedSalary    10000 non-null float64\n",
      "Exited             10000 non-null int64\n",
      "dtypes: float64(2), int64(9), object(3)\n",
      "memory usage: 1.1+ MB\n"
     ]
    }
   ],
   "source": [
    "bank_df.info()"
   ]
  },
  {
   "cell_type": "code",
   "execution_count": 112,
   "metadata": {},
   "outputs": [
    {
     "data": {
      "text/html": [
       "<div>\n",
       "<style scoped>\n",
       "    .dataframe tbody tr th:only-of-type {\n",
       "        vertical-align: middle;\n",
       "    }\n",
       "\n",
       "    .dataframe tbody tr th {\n",
       "        vertical-align: top;\n",
       "    }\n",
       "\n",
       "    .dataframe thead th {\n",
       "        text-align: right;\n",
       "    }\n",
       "</style>\n",
       "<table border=\"1\" class=\"dataframe\">\n",
       "  <thead>\n",
       "    <tr style=\"text-align: right;\">\n",
       "      <th></th>\n",
       "      <th>count</th>\n",
       "      <th>mean</th>\n",
       "      <th>std</th>\n",
       "      <th>min</th>\n",
       "      <th>25%</th>\n",
       "      <th>50%</th>\n",
       "      <th>75%</th>\n",
       "      <th>max</th>\n",
       "    </tr>\n",
       "  </thead>\n",
       "  <tbody>\n",
       "    <tr>\n",
       "      <td>RowNumber</td>\n",
       "      <td>10000.0</td>\n",
       "      <td>5.000500e+03</td>\n",
       "      <td>2886.895680</td>\n",
       "      <td>1.00</td>\n",
       "      <td>2500.75</td>\n",
       "      <td>5.000500e+03</td>\n",
       "      <td>7.500250e+03</td>\n",
       "      <td>10000.00</td>\n",
       "    </tr>\n",
       "    <tr>\n",
       "      <td>CustomerId</td>\n",
       "      <td>10000.0</td>\n",
       "      <td>1.569094e+07</td>\n",
       "      <td>71936.186123</td>\n",
       "      <td>15565701.00</td>\n",
       "      <td>15628528.25</td>\n",
       "      <td>1.569074e+07</td>\n",
       "      <td>1.575323e+07</td>\n",
       "      <td>15815690.00</td>\n",
       "    </tr>\n",
       "    <tr>\n",
       "      <td>CreditScore</td>\n",
       "      <td>10000.0</td>\n",
       "      <td>6.505288e+02</td>\n",
       "      <td>96.653299</td>\n",
       "      <td>350.00</td>\n",
       "      <td>584.00</td>\n",
       "      <td>6.520000e+02</td>\n",
       "      <td>7.180000e+02</td>\n",
       "      <td>850.00</td>\n",
       "    </tr>\n",
       "    <tr>\n",
       "      <td>Age</td>\n",
       "      <td>10000.0</td>\n",
       "      <td>3.892180e+01</td>\n",
       "      <td>10.487806</td>\n",
       "      <td>18.00</td>\n",
       "      <td>32.00</td>\n",
       "      <td>3.700000e+01</td>\n",
       "      <td>4.400000e+01</td>\n",
       "      <td>92.00</td>\n",
       "    </tr>\n",
       "    <tr>\n",
       "      <td>Tenure</td>\n",
       "      <td>10000.0</td>\n",
       "      <td>5.012800e+00</td>\n",
       "      <td>2.892174</td>\n",
       "      <td>0.00</td>\n",
       "      <td>3.00</td>\n",
       "      <td>5.000000e+00</td>\n",
       "      <td>7.000000e+00</td>\n",
       "      <td>10.00</td>\n",
       "    </tr>\n",
       "    <tr>\n",
       "      <td>Balance</td>\n",
       "      <td>10000.0</td>\n",
       "      <td>7.648589e+04</td>\n",
       "      <td>62397.405202</td>\n",
       "      <td>0.00</td>\n",
       "      <td>0.00</td>\n",
       "      <td>9.719854e+04</td>\n",
       "      <td>1.276442e+05</td>\n",
       "      <td>250898.09</td>\n",
       "    </tr>\n",
       "    <tr>\n",
       "      <td>NumOfProducts</td>\n",
       "      <td>10000.0</td>\n",
       "      <td>1.530200e+00</td>\n",
       "      <td>0.581654</td>\n",
       "      <td>1.00</td>\n",
       "      <td>1.00</td>\n",
       "      <td>1.000000e+00</td>\n",
       "      <td>2.000000e+00</td>\n",
       "      <td>4.00</td>\n",
       "    </tr>\n",
       "    <tr>\n",
       "      <td>HasCrCard</td>\n",
       "      <td>10000.0</td>\n",
       "      <td>7.055000e-01</td>\n",
       "      <td>0.455840</td>\n",
       "      <td>0.00</td>\n",
       "      <td>0.00</td>\n",
       "      <td>1.000000e+00</td>\n",
       "      <td>1.000000e+00</td>\n",
       "      <td>1.00</td>\n",
       "    </tr>\n",
       "    <tr>\n",
       "      <td>IsActiveMember</td>\n",
       "      <td>10000.0</td>\n",
       "      <td>5.151000e-01</td>\n",
       "      <td>0.499797</td>\n",
       "      <td>0.00</td>\n",
       "      <td>0.00</td>\n",
       "      <td>1.000000e+00</td>\n",
       "      <td>1.000000e+00</td>\n",
       "      <td>1.00</td>\n",
       "    </tr>\n",
       "    <tr>\n",
       "      <td>EstimatedSalary</td>\n",
       "      <td>10000.0</td>\n",
       "      <td>1.000902e+05</td>\n",
       "      <td>57510.492818</td>\n",
       "      <td>11.58</td>\n",
       "      <td>51002.11</td>\n",
       "      <td>1.001939e+05</td>\n",
       "      <td>1.493882e+05</td>\n",
       "      <td>199992.48</td>\n",
       "    </tr>\n",
       "    <tr>\n",
       "      <td>Exited</td>\n",
       "      <td>10000.0</td>\n",
       "      <td>2.037000e-01</td>\n",
       "      <td>0.402769</td>\n",
       "      <td>0.00</td>\n",
       "      <td>0.00</td>\n",
       "      <td>0.000000e+00</td>\n",
       "      <td>0.000000e+00</td>\n",
       "      <td>1.00</td>\n",
       "    </tr>\n",
       "  </tbody>\n",
       "</table>\n",
       "</div>"
      ],
      "text/plain": [
       "                   count          mean           std          min  \\\n",
       "RowNumber        10000.0  5.000500e+03   2886.895680         1.00   \n",
       "CustomerId       10000.0  1.569094e+07  71936.186123  15565701.00   \n",
       "CreditScore      10000.0  6.505288e+02     96.653299       350.00   \n",
       "Age              10000.0  3.892180e+01     10.487806        18.00   \n",
       "Tenure           10000.0  5.012800e+00      2.892174         0.00   \n",
       "Balance          10000.0  7.648589e+04  62397.405202         0.00   \n",
       "NumOfProducts    10000.0  1.530200e+00      0.581654         1.00   \n",
       "HasCrCard        10000.0  7.055000e-01      0.455840         0.00   \n",
       "IsActiveMember   10000.0  5.151000e-01      0.499797         0.00   \n",
       "EstimatedSalary  10000.0  1.000902e+05  57510.492818        11.58   \n",
       "Exited           10000.0  2.037000e-01      0.402769         0.00   \n",
       "\n",
       "                         25%           50%           75%          max  \n",
       "RowNumber            2500.75  5.000500e+03  7.500250e+03     10000.00  \n",
       "CustomerId       15628528.25  1.569074e+07  1.575323e+07  15815690.00  \n",
       "CreditScore           584.00  6.520000e+02  7.180000e+02       850.00  \n",
       "Age                    32.00  3.700000e+01  4.400000e+01        92.00  \n",
       "Tenure                  3.00  5.000000e+00  7.000000e+00        10.00  \n",
       "Balance                 0.00  9.719854e+04  1.276442e+05    250898.09  \n",
       "NumOfProducts           1.00  1.000000e+00  2.000000e+00         4.00  \n",
       "HasCrCard               0.00  1.000000e+00  1.000000e+00         1.00  \n",
       "IsActiveMember          0.00  1.000000e+00  1.000000e+00         1.00  \n",
       "EstimatedSalary     51002.11  1.001939e+05  1.493882e+05    199992.48  \n",
       "Exited                  0.00  0.000000e+00  0.000000e+00         1.00  "
      ]
     },
     "execution_count": 112,
     "metadata": {},
     "output_type": "execute_result"
    }
   ],
   "source": [
    "bank_df.describe().T"
   ]
  },
  {
   "cell_type": "code",
   "execution_count": 113,
   "metadata": {},
   "outputs": [
    {
     "data": {
      "text/plain": [
       "(10000, 14)"
      ]
     },
     "execution_count": 113,
     "metadata": {},
     "output_type": "execute_result"
    }
   ],
   "source": [
    "bank_df.shape"
   ]
  },
  {
   "cell_type": "code",
   "execution_count": 114,
   "metadata": {},
   "outputs": [
    {
     "data": {
      "text/plain": [
       "RowNumber            int64\n",
       "CustomerId           int64\n",
       "Surname             object\n",
       "CreditScore          int64\n",
       "Geography           object\n",
       "Gender              object\n",
       "Age                  int64\n",
       "Tenure               int64\n",
       "Balance            float64\n",
       "NumOfProducts        int64\n",
       "HasCrCard            int64\n",
       "IsActiveMember       int64\n",
       "EstimatedSalary    float64\n",
       "Exited               int64\n",
       "dtype: object"
      ]
     },
     "execution_count": 114,
     "metadata": {},
     "output_type": "execute_result"
    }
   ],
   "source": [
    "bank_df.dtypes"
   ]
  },
  {
   "cell_type": "code",
   "execution_count": 115,
   "metadata": {},
   "outputs": [
    {
     "data": {
      "text/plain": [
       "<matplotlib.axes._subplots.AxesSubplot at 0x1cd44aaf4c8>"
      ]
     },
     "execution_count": 115,
     "metadata": {},
     "output_type": "execute_result"
    },
    {
     "data": {
      "image/png": "[encoded data removed]",
      "text/plain": [
       "<Figure size 432x288 with 1 Axes>"
      ]
     },
     "metadata": {
      "needs_background": "light"
     },
     "output_type": "display_data"
    }
   ],
   "source": [
    "sns.barplot(x='Geography',y='Exited', hue='Gender',data=bank_df)"
   ]
  },
  {
   "cell_type": "code",
   "execution_count": 116,
   "metadata": {
    "scrolled": true
   },
   "outputs": [
    {
     "data": {
      "text/plain": [
       "<seaborn.axisgrid.FacetGrid at 0x1cd4483b348>"
      ]
     },
     "execution_count": 116,
     "metadata": {},
     "output_type": "execute_result"
    },
    {
     "data": {
      "image/png": "[encoded data removed]",
      "text/plain": [
       "<Figure size 1338.38x216 with 1 Axes>"
      ]
     },
     "metadata": {
      "needs_background": "light"
     },
     "output_type": "display_data"
    }
   ],
   "source": [
    "a=sns.FacetGrid(bank_df,hue='Exited',aspect=6)\n",
    "a.map(sns.kdeplot,'Age',shade=True)\n",
    "a.set(xlim=[0,bank_df['Age'].max()])\n",
    "a.add_legend()"
   ]
  },
  {
   "cell_type": "code",
   "execution_count": 20,
   "metadata": {},
   "outputs": [
    {
     "data": {
      "text/plain": [
       "<matplotlib.axes._subplots.AxesSubplot at 0x1581cecf208>"
      ]
     },
     "execution_count": 20,
     "metadata": {},
     "output_type": "execute_result"
    },
    {
     "data": {
      "image/png": "[encoded data removed]",
      "text/plain": [
       "<Figure size 432x288 with 1 Axes>"
      ]
     },
     "metadata": {
      "needs_background": "light"
     },
     "output_type": "display_data"
    }
   ],
   "source": [
    "sns.barplot(x = 'Gender',y='Exited',data=bank_df)\n"
   ]
  },
  {
   "cell_type": "code",
   "execution_count": null,
   "metadata": {},
   "outputs": [],
   "source": []
  },
  {
   "cell_type": "markdown",
   "metadata": {},
   "source": [
    "# Dropping the columns which are unique for all users like IDs\n"
   ]
  },
  {
   "cell_type": "code",
   "execution_count": 118,
   "metadata": {},
   "outputs": [],
   "source": [
    "bank_n_df = bank_df.drop([\"RowNumber\" , \"CustomerId\" , \"Surname\" ], axis = 1)"
   ]
  },
  {
   "cell_type": "code",
   "execution_count": 119,
   "metadata": {
    "scrolled": false
   },
   "outputs": [
    {
     "data": {
      "text/html": [
       "<div>\n",
       "<style scoped>\n",
       "    .dataframe tbody tr th:only-of-type {\n",
       "        vertical-align: middle;\n",
       "    }\n",
       "\n",
       "    .dataframe tbody tr th {\n",
       "        vertical-align: top;\n",
       "    }\n",
       "\n",
       "    .dataframe thead th {\n",
       "        text-align: right;\n",
       "    }\n",
       "</style>\n",
       "<table border=\"1\" class=\"dataframe\">\n",
       "  <thead>\n",
       "    <tr style=\"text-align: right;\">\n",
       "      <th></th>\n",
       "      <th>CreditScore</th>\n",
       "      <th>Geography</th>\n",
       "      <th>Gender</th>\n",
       "      <th>Age</th>\n",
       "      <th>Tenure</th>\n",
       "      <th>Balance</th>\n",
       "      <th>NumOfProducts</th>\n",
       "      <th>HasCrCard</th>\n",
       "      <th>IsActiveMember</th>\n",
       "      <th>EstimatedSalary</th>\n",
       "      <th>Exited</th>\n",
       "    </tr>\n",
       "  </thead>\n",
       "  <tbody>\n",
       "    <tr>\n",
       "      <td>0</td>\n",
       "      <td>619</td>\n",
       "      <td>France</td>\n",
       "      <td>Female</td>\n",
       "      <td>42</td>\n",
       "      <td>2</td>\n",
       "      <td>0.00</td>\n",
       "      <td>1</td>\n",
       "      <td>1</td>\n",
       "      <td>1</td>\n",
       "      <td>101348.88</td>\n",
       "      <td>1</td>\n",
       "    </tr>\n",
       "    <tr>\n",
       "      <td>1</td>\n",
       "      <td>608</td>\n",
       "      <td>Spain</td>\n",
       "      <td>Female</td>\n",
       "      <td>41</td>\n",
       "      <td>1</td>\n",
       "      <td>83807.86</td>\n",
       "      <td>1</td>\n",
       "      <td>0</td>\n",
       "      <td>1</td>\n",
       "      <td>112542.58</td>\n",
       "      <td>0</td>\n",
       "    </tr>\n",
       "    <tr>\n",
       "      <td>2</td>\n",
       "      <td>502</td>\n",
       "      <td>France</td>\n",
       "      <td>Female</td>\n",
       "      <td>42</td>\n",
       "      <td>8</td>\n",
       "      <td>159660.80</td>\n",
       "      <td>3</td>\n",
       "      <td>1</td>\n",
       "      <td>0</td>\n",
       "      <td>113931.57</td>\n",
       "      <td>1</td>\n",
       "    </tr>\n",
       "    <tr>\n",
       "      <td>3</td>\n",
       "      <td>699</td>\n",
       "      <td>France</td>\n",
       "      <td>Female</td>\n",
       "      <td>39</td>\n",
       "      <td>1</td>\n",
       "      <td>0.00</td>\n",
       "      <td>2</td>\n",
       "      <td>0</td>\n",
       "      <td>0</td>\n",
       "      <td>93826.63</td>\n",
       "      <td>0</td>\n",
       "    </tr>\n",
       "    <tr>\n",
       "      <td>4</td>\n",
       "      <td>850</td>\n",
       "      <td>Spain</td>\n",
       "      <td>Female</td>\n",
       "      <td>43</td>\n",
       "      <td>2</td>\n",
       "      <td>125510.82</td>\n",
       "      <td>1</td>\n",
       "      <td>1</td>\n",
       "      <td>1</td>\n",
       "      <td>79084.10</td>\n",
       "      <td>0</td>\n",
       "    </tr>\n",
       "  </tbody>\n",
       "</table>\n",
       "</div>"
      ],
      "text/plain": [
       "   CreditScore Geography  Gender  Age  Tenure    Balance  NumOfProducts  \\\n",
       "0          619    France  Female   42       2       0.00              1   \n",
       "1          608     Spain  Female   41       1   83807.86              1   \n",
       "2          502    France  Female   42       8  159660.80              3   \n",
       "3          699    France  Female   39       1       0.00              2   \n",
       "4          850     Spain  Female   43       2  125510.82              1   \n",
       "\n",
       "   HasCrCard  IsActiveMember  EstimatedSalary  Exited  \n",
       "0          1               1        101348.88       1  \n",
       "1          0               1        112542.58       0  \n",
       "2          1               0        113931.57       1  \n",
       "3          0               0         93826.63       0  \n",
       "4          1               1         79084.10       0  "
      ]
     },
     "execution_count": 119,
     "metadata": {},
     "output_type": "execute_result"
    }
   ],
   "source": [
    "bank_n_df.head()"
   ]
  },
  {
   "cell_type": "markdown",
   "metadata": {},
   "source": [
    "# Distinguish the feature and target set"
   ]
  },
  {
   "cell_type": "code",
   "execution_count": 120,
   "metadata": {},
   "outputs": [],
   "source": [
    "X = bank_n_df.drop('Exited',axis = 1)\n",
    "y = bank_n_df[['Exited']]"
   ]
  },
  {
   "cell_type": "code",
   "execution_count": 121,
   "metadata": {},
   "outputs": [
    {
     "data": {
      "text/html": [
       "<div>\n",
       "<style scoped>\n",
       "    .dataframe tbody tr th:only-of-type {\n",
       "        vertical-align: middle;\n",
       "    }\n",
       "\n",
       "    .dataframe tbody tr th {\n",
       "        vertical-align: top;\n",
       "    }\n",
       "\n",
       "    .dataframe thead th {\n",
       "        text-align: right;\n",
       "    }\n",
       "</style>\n",
       "<table border=\"1\" class=\"dataframe\">\n",
       "  <thead>\n",
       "    <tr style=\"text-align: right;\">\n",
       "      <th></th>\n",
       "      <th>CreditScore</th>\n",
       "      <th>Geography</th>\n",
       "      <th>Gender</th>\n",
       "      <th>Age</th>\n",
       "      <th>Tenure</th>\n",
       "      <th>Balance</th>\n",
       "      <th>NumOfProducts</th>\n",
       "      <th>HasCrCard</th>\n",
       "      <th>IsActiveMember</th>\n",
       "      <th>EstimatedSalary</th>\n",
       "    </tr>\n",
       "  </thead>\n",
       "  <tbody>\n",
       "    <tr>\n",
       "      <td>0</td>\n",
       "      <td>619</td>\n",
       "      <td>France</td>\n",
       "      <td>Female</td>\n",
       "      <td>42</td>\n",
       "      <td>2</td>\n",
       "      <td>0.00</td>\n",
       "      <td>1</td>\n",
       "      <td>1</td>\n",
       "      <td>1</td>\n",
       "      <td>101348.88</td>\n",
       "    </tr>\n",
       "    <tr>\n",
       "      <td>1</td>\n",
       "      <td>608</td>\n",
       "      <td>Spain</td>\n",
       "      <td>Female</td>\n",
       "      <td>41</td>\n",
       "      <td>1</td>\n",
       "      <td>83807.86</td>\n",
       "      <td>1</td>\n",
       "      <td>0</td>\n",
       "      <td>1</td>\n",
       "      <td>112542.58</td>\n",
       "    </tr>\n",
       "    <tr>\n",
       "      <td>2</td>\n",
       "      <td>502</td>\n",
       "      <td>France</td>\n",
       "      <td>Female</td>\n",
       "      <td>42</td>\n",
       "      <td>8</td>\n",
       "      <td>159660.80</td>\n",
       "      <td>3</td>\n",
       "      <td>1</td>\n",
       "      <td>0</td>\n",
       "      <td>113931.57</td>\n",
       "    </tr>\n",
       "    <tr>\n",
       "      <td>3</td>\n",
       "      <td>699</td>\n",
       "      <td>France</td>\n",
       "      <td>Female</td>\n",
       "      <td>39</td>\n",
       "      <td>1</td>\n",
       "      <td>0.00</td>\n",
       "      <td>2</td>\n",
       "      <td>0</td>\n",
       "      <td>0</td>\n",
       "      <td>93826.63</td>\n",
       "    </tr>\n",
       "    <tr>\n",
       "      <td>4</td>\n",
       "      <td>850</td>\n",
       "      <td>Spain</td>\n",
       "      <td>Female</td>\n",
       "      <td>43</td>\n",
       "      <td>2</td>\n",
       "      <td>125510.82</td>\n",
       "      <td>1</td>\n",
       "      <td>1</td>\n",
       "      <td>1</td>\n",
       "      <td>79084.10</td>\n",
       "    </tr>\n",
       "  </tbody>\n",
       "</table>\n",
       "</div>"
      ],
      "text/plain": [
       "   CreditScore Geography  Gender  Age  Tenure    Balance  NumOfProducts  \\\n",
       "0          619    France  Female   42       2       0.00              1   \n",
       "1          608     Spain  Female   41       1   83807.86              1   \n",
       "2          502    France  Female   42       8  159660.80              3   \n",
       "3          699    France  Female   39       1       0.00              2   \n",
       "4          850     Spain  Female   43       2  125510.82              1   \n",
       "\n",
       "   HasCrCard  IsActiveMember  EstimatedSalary  \n",
       "0          1               1        101348.88  \n",
       "1          0               1        112542.58  \n",
       "2          1               0        113931.57  \n",
       "3          0               0         93826.63  \n",
       "4          1               1         79084.10  "
      ]
     },
     "execution_count": 121,
     "metadata": {},
     "output_type": "execute_result"
    }
   ],
   "source": [
    "X.head()"
   ]
  },
  {
   "cell_type": "code",
   "execution_count": 122,
   "metadata": {},
   "outputs": [
    {
     "data": {
      "text/html": [
       "<div>\n",
       "<style scoped>\n",
       "    .dataframe tbody tr th:only-of-type {\n",
       "        vertical-align: middle;\n",
       "    }\n",
       "\n",
       "    .dataframe tbody tr th {\n",
       "        vertical-align: top;\n",
       "    }\n",
       "\n",
       "    .dataframe thead th {\n",
       "        text-align: right;\n",
       "    }\n",
       "</style>\n",
       "<table border=\"1\" class=\"dataframe\">\n",
       "  <thead>\n",
       "    <tr style=\"text-align: right;\">\n",
       "      <th></th>\n",
       "      <th>Exited</th>\n",
       "    </tr>\n",
       "  </thead>\n",
       "  <tbody>\n",
       "    <tr>\n",
       "      <td>0</td>\n",
       "      <td>1</td>\n",
       "    </tr>\n",
       "    <tr>\n",
       "      <td>1</td>\n",
       "      <td>0</td>\n",
       "    </tr>\n",
       "    <tr>\n",
       "      <td>2</td>\n",
       "      <td>1</td>\n",
       "    </tr>\n",
       "    <tr>\n",
       "      <td>3</td>\n",
       "      <td>0</td>\n",
       "    </tr>\n",
       "    <tr>\n",
       "      <td>4</td>\n",
       "      <td>0</td>\n",
       "    </tr>\n",
       "  </tbody>\n",
       "</table>\n",
       "</div>"
      ],
      "text/plain": [
       "   Exited\n",
       "0       1\n",
       "1       0\n",
       "2       1\n",
       "3       0\n",
       "4       0"
      ]
     },
     "execution_count": 122,
     "metadata": {},
     "output_type": "execute_result"
    }
   ],
   "source": [
    "y.head()"
   ]
  },
  {
   "cell_type": "markdown",
   "metadata": {},
   "source": [
    "# Data Preprocessing"
   ]
  },
  {
   "cell_type": "code",
   "execution_count": 123,
   "metadata": {},
   "outputs": [],
   "source": [
    "#Treating the Catagorical Columns i.e Geography, Gender"
   ]
  },
  {
   "cell_type": "code",
   "execution_count": 124,
   "metadata": {},
   "outputs": [],
   "source": [
    "bank_dum_df = pd.get_dummies(X,columns=['Geography', 'Gender'])"
   ]
  },
  {
   "cell_type": "code",
   "execution_count": 125,
   "metadata": {
    "scrolled": true
   },
   "outputs": [
    {
     "data": {
      "text/html": [
       "<div>\n",
       "<style scoped>\n",
       "    .dataframe tbody tr th:only-of-type {\n",
       "        vertical-align: middle;\n",
       "    }\n",
       "\n",
       "    .dataframe tbody tr th {\n",
       "        vertical-align: top;\n",
       "    }\n",
       "\n",
       "    .dataframe thead th {\n",
       "        text-align: right;\n",
       "    }\n",
       "</style>\n",
       "<table border=\"1\" class=\"dataframe\">\n",
       "  <thead>\n",
       "    <tr style=\"text-align: right;\">\n",
       "      <th></th>\n",
       "      <th>CreditScore</th>\n",
       "      <th>Age</th>\n",
       "      <th>Tenure</th>\n",
       "      <th>Balance</th>\n",
       "      <th>NumOfProducts</th>\n",
       "      <th>HasCrCard</th>\n",
       "      <th>IsActiveMember</th>\n",
       "      <th>EstimatedSalary</th>\n",
       "      <th>Geography_France</th>\n",
       "      <th>Geography_Germany</th>\n",
       "      <th>Geography_Spain</th>\n",
       "      <th>Gender_Female</th>\n",
       "      <th>Gender_Male</th>\n",
       "    </tr>\n",
       "  </thead>\n",
       "  <tbody>\n",
       "    <tr>\n",
       "      <td>0</td>\n",
       "      <td>619</td>\n",
       "      <td>42</td>\n",
       "      <td>2</td>\n",
       "      <td>0.00</td>\n",
       "      <td>1</td>\n",
       "      <td>1</td>\n",
       "      <td>1</td>\n",
       "      <td>101348.88</td>\n",
       "      <td>1</td>\n",
       "      <td>0</td>\n",
       "      <td>0</td>\n",
       "      <td>1</td>\n",
       "      <td>0</td>\n",
       "    </tr>\n",
       "    <tr>\n",
       "      <td>1</td>\n",
       "      <td>608</td>\n",
       "      <td>41</td>\n",
       "      <td>1</td>\n",
       "      <td>83807.86</td>\n",
       "      <td>1</td>\n",
       "      <td>0</td>\n",
       "      <td>1</td>\n",
       "      <td>112542.58</td>\n",
       "      <td>0</td>\n",
       "      <td>0</td>\n",
       "      <td>1</td>\n",
       "      <td>1</td>\n",
       "      <td>0</td>\n",
       "    </tr>\n",
       "    <tr>\n",
       "      <td>2</td>\n",
       "      <td>502</td>\n",
       "      <td>42</td>\n",
       "      <td>8</td>\n",
       "      <td>159660.80</td>\n",
       "      <td>3</td>\n",
       "      <td>1</td>\n",
       "      <td>0</td>\n",
       "      <td>113931.57</td>\n",
       "      <td>1</td>\n",
       "      <td>0</td>\n",
       "      <td>0</td>\n",
       "      <td>1</td>\n",
       "      <td>0</td>\n",
       "    </tr>\n",
       "    <tr>\n",
       "      <td>3</td>\n",
       "      <td>699</td>\n",
       "      <td>39</td>\n",
       "      <td>1</td>\n",
       "      <td>0.00</td>\n",
       "      <td>2</td>\n",
       "      <td>0</td>\n",
       "      <td>0</td>\n",
       "      <td>93826.63</td>\n",
       "      <td>1</td>\n",
       "      <td>0</td>\n",
       "      <td>0</td>\n",
       "      <td>1</td>\n",
       "      <td>0</td>\n",
       "    </tr>\n",
       "    <tr>\n",
       "      <td>4</td>\n",
       "      <td>850</td>\n",
       "      <td>43</td>\n",
       "      <td>2</td>\n",
       "      <td>125510.82</td>\n",
       "      <td>1</td>\n",
       "      <td>1</td>\n",
       "      <td>1</td>\n",
       "      <td>79084.10</td>\n",
       "      <td>0</td>\n",
       "      <td>0</td>\n",
       "      <td>1</td>\n",
       "      <td>1</td>\n",
       "      <td>0</td>\n",
       "    </tr>\n",
       "  </tbody>\n",
       "</table>\n",
       "</div>"
      ],
      "text/plain": [
       "   CreditScore  Age  Tenure    Balance  NumOfProducts  HasCrCard  \\\n",
       "0          619   42       2       0.00              1          1   \n",
       "1          608   41       1   83807.86              1          0   \n",
       "2          502   42       8  159660.80              3          1   \n",
       "3          699   39       1       0.00              2          0   \n",
       "4          850   43       2  125510.82              1          1   \n",
       "\n",
       "   IsActiveMember  EstimatedSalary  Geography_France  Geography_Germany  \\\n",
       "0               1        101348.88                 1                  0   \n",
       "1               1        112542.58                 0                  0   \n",
       "2               0        113931.57                 1                  0   \n",
       "3               0         93826.63                 1                  0   \n",
       "4               1         79084.10                 0                  0   \n",
       "\n",
       "   Geography_Spain  Gender_Female  Gender_Male  \n",
       "0                0              1            0  \n",
       "1                1              1            0  \n",
       "2                0              1            0  \n",
       "3                0              1            0  \n",
       "4                1              1            0  "
      ]
     },
     "execution_count": 125,
     "metadata": {},
     "output_type": "execute_result"
    }
   ],
   "source": [
    "bank_dum_df.head()"
   ]
  },
  {
   "cell_type": "code",
   "execution_count": 126,
   "metadata": {},
   "outputs": [],
   "source": [
    "#Normalising the data"
   ]
  },
  {
   "cell_type": "code",
   "execution_count": 127,
   "metadata": {},
   "outputs": [],
   "source": [
    "from scipy.stats import zscore"
   ]
  },
  {
   "cell_type": "code",
   "execution_count": 128,
   "metadata": {},
   "outputs": [],
   "source": [
    "bank_z_df = bank_dum_df.apply(zscore)"
   ]
  },
  {
   "cell_type": "code",
   "execution_count": 129,
   "metadata": {},
   "outputs": [
    {
     "data": {
      "text/html": [
       "<div>\n",
       "<style scoped>\n",
       "    .dataframe tbody tr th:only-of-type {\n",
       "        vertical-align: middle;\n",
       "    }\n",
       "\n",
       "    .dataframe tbody tr th {\n",
       "        vertical-align: top;\n",
       "    }\n",
       "\n",
       "    .dataframe thead th {\n",
       "        text-align: right;\n",
       "    }\n",
       "</style>\n",
       "<table border=\"1\" class=\"dataframe\">\n",
       "  <thead>\n",
       "    <tr style=\"text-align: right;\">\n",
       "      <th></th>\n",
       "      <th>CreditScore</th>\n",
       "      <th>Age</th>\n",
       "      <th>Tenure</th>\n",
       "      <th>Balance</th>\n",
       "      <th>NumOfProducts</th>\n",
       "      <th>HasCrCard</th>\n",
       "      <th>IsActiveMember</th>\n",
       "      <th>EstimatedSalary</th>\n",
       "      <th>Geography_France</th>\n",
       "      <th>Geography_Germany</th>\n",
       "      <th>Geography_Spain</th>\n",
       "      <th>Gender_Female</th>\n",
       "      <th>Gender_Male</th>\n",
       "    </tr>\n",
       "  </thead>\n",
       "  <tbody>\n",
       "    <tr>\n",
       "      <td>0</td>\n",
       "      <td>-0.326221</td>\n",
       "      <td>0.293517</td>\n",
       "      <td>-1.041760</td>\n",
       "      <td>-1.225848</td>\n",
       "      <td>-0.911583</td>\n",
       "      <td>0.646092</td>\n",
       "      <td>0.970243</td>\n",
       "      <td>0.021886</td>\n",
       "      <td>0.997204</td>\n",
       "      <td>-0.578736</td>\n",
       "      <td>-0.573809</td>\n",
       "      <td>1.095988</td>\n",
       "      <td>-1.095988</td>\n",
       "    </tr>\n",
       "    <tr>\n",
       "      <td>1</td>\n",
       "      <td>-0.440036</td>\n",
       "      <td>0.198164</td>\n",
       "      <td>-1.387538</td>\n",
       "      <td>0.117350</td>\n",
       "      <td>-0.911583</td>\n",
       "      <td>-1.547768</td>\n",
       "      <td>0.970243</td>\n",
       "      <td>0.216534</td>\n",
       "      <td>-1.002804</td>\n",
       "      <td>-0.578736</td>\n",
       "      <td>1.742740</td>\n",
       "      <td>1.095988</td>\n",
       "      <td>-1.095988</td>\n",
       "    </tr>\n",
       "    <tr>\n",
       "      <td>2</td>\n",
       "      <td>-1.536794</td>\n",
       "      <td>0.293517</td>\n",
       "      <td>1.032908</td>\n",
       "      <td>1.333053</td>\n",
       "      <td>2.527057</td>\n",
       "      <td>0.646092</td>\n",
       "      <td>-1.030670</td>\n",
       "      <td>0.240687</td>\n",
       "      <td>0.997204</td>\n",
       "      <td>-0.578736</td>\n",
       "      <td>-0.573809</td>\n",
       "      <td>1.095988</td>\n",
       "      <td>-1.095988</td>\n",
       "    </tr>\n",
       "    <tr>\n",
       "      <td>3</td>\n",
       "      <td>0.501521</td>\n",
       "      <td>0.007457</td>\n",
       "      <td>-1.387538</td>\n",
       "      <td>-1.225848</td>\n",
       "      <td>0.807737</td>\n",
       "      <td>-1.547768</td>\n",
       "      <td>-1.030670</td>\n",
       "      <td>-0.108918</td>\n",
       "      <td>0.997204</td>\n",
       "      <td>-0.578736</td>\n",
       "      <td>-0.573809</td>\n",
       "      <td>1.095988</td>\n",
       "      <td>-1.095988</td>\n",
       "    </tr>\n",
       "    <tr>\n",
       "      <td>4</td>\n",
       "      <td>2.063884</td>\n",
       "      <td>0.388871</td>\n",
       "      <td>-1.041760</td>\n",
       "      <td>0.785728</td>\n",
       "      <td>-0.911583</td>\n",
       "      <td>0.646092</td>\n",
       "      <td>0.970243</td>\n",
       "      <td>-0.365276</td>\n",
       "      <td>-1.002804</td>\n",
       "      <td>-0.578736</td>\n",
       "      <td>1.742740</td>\n",
       "      <td>1.095988</td>\n",
       "      <td>-1.095988</td>\n",
       "    </tr>\n",
       "  </tbody>\n",
       "</table>\n",
       "</div>"
      ],
      "text/plain": [
       "   CreditScore       Age    Tenure   Balance  NumOfProducts  HasCrCard  \\\n",
       "0    -0.326221  0.293517 -1.041760 -1.225848      -0.911583   0.646092   \n",
       "1    -0.440036  0.198164 -1.387538  0.117350      -0.911583  -1.547768   \n",
       "2    -1.536794  0.293517  1.032908  1.333053       2.527057   0.646092   \n",
       "3     0.501521  0.007457 -1.387538 -1.225848       0.807737  -1.547768   \n",
       "4     2.063884  0.388871 -1.041760  0.785728      -0.911583   0.646092   \n",
       "\n",
       "   IsActiveMember  EstimatedSalary  Geography_France  Geography_Germany  \\\n",
       "0        0.970243         0.021886          0.997204          -0.578736   \n",
       "1        0.970243         0.216534         -1.002804          -0.578736   \n",
       "2       -1.030670         0.240687          0.997204          -0.578736   \n",
       "3       -1.030670        -0.108918          0.997204          -0.578736   \n",
       "4        0.970243        -0.365276         -1.002804          -0.578736   \n",
       "\n",
       "   Geography_Spain  Gender_Female  Gender_Male  \n",
       "0        -0.573809       1.095988    -1.095988  \n",
       "1         1.742740       1.095988    -1.095988  \n",
       "2        -0.573809       1.095988    -1.095988  \n",
       "3        -0.573809       1.095988    -1.095988  \n",
       "4         1.742740       1.095988    -1.095988  "
      ]
     },
     "execution_count": 129,
     "metadata": {},
     "output_type": "execute_result"
    }
   ],
   "source": [
    "bank_z_df.head()"
   ]
  },
  {
   "cell_type": "code",
   "execution_count": 130,
   "metadata": {},
   "outputs": [],
   "source": [
    "X = bank_z_df"
   ]
  },
  {
   "cell_type": "markdown",
   "metadata": {},
   "source": [
    "#  Dividing the data set into Train and test sets\n"
   ]
  },
  {
   "cell_type": "code",
   "execution_count": 131,
   "metadata": {},
   "outputs": [],
   "source": [
    "from sklearn.model_selection import train_test_split"
   ]
  },
  {
   "cell_type": "code",
   "execution_count": 132,
   "metadata": {},
   "outputs": [],
   "source": [
    "X_train,X_test,y_train,y_test = train_test_split(X,y,test_size = 0.3,random_state = 1)"
   ]
  },
  {
   "cell_type": "code",
   "execution_count": 133,
   "metadata": {},
   "outputs": [
    {
     "name": "stdout",
     "output_type": "stream",
     "text": [
      "training shapes: (7000, 13), (7000, 1)\n",
      "testing shapes: (3000, 13), (3000, 1)\n"
     ]
    }
   ],
   "source": [
    "print(f'training shapes: {X_train.shape}, {y_train.shape}')\n",
    "print(f'testing shapes: {X_test.shape}, {y_test.shape}')"
   ]
  },
  {
   "cell_type": "code",
   "execution_count": null,
   "metadata": {},
   "outputs": [],
   "source": []
  },
  {
   "cell_type": "markdown",
   "metadata": {},
   "source": [
    " # Initializing & building the model\n"
   ]
  },
  {
   "cell_type": "code",
   "execution_count": 134,
   "metadata": {},
   "outputs": [],
   "source": [
    "model = Sequential()\n"
   ]
  },
  {
   "cell_type": "code",
   "execution_count": 135,
   "metadata": {},
   "outputs": [],
   "source": [
    "model.add(Dense(activation = 'relu', input_dim = 13 , units=6, kernel_initializer='uniform'))\n",
    "model.add(Dense(activation = 'relu', units=6, kernel_initializer='uniform')) \n",
    "model.add(Dense(activation = 'sigmoid', units=1, kernel_initializer='uniform')) \n",
    "\n"
   ]
  },
  {
   "cell_type": "code",
   "execution_count": 136,
   "metadata": {},
   "outputs": [
    {
     "name": "stdout",
     "output_type": "stream",
     "text": [
      "Model: \"sequential_1\"\n",
      "_________________________________________________________________\n",
      "Layer (type)                 Output Shape              Param #   \n",
      "=================================================================\n",
      "dense_3 (Dense)              (None, 6)                 84        \n",
      "_________________________________________________________________\n",
      "dense_4 (Dense)              (None, 6)                 42        \n",
      "_________________________________________________________________\n",
      "dense_5 (Dense)              (None, 1)                 7         \n",
      "=================================================================\n",
      "Total params: 133\n",
      "Trainable params: 133\n",
      "Non-trainable params: 0\n",
      "_________________________________________________________________\n"
     ]
    }
   ],
   "source": [
    " model.summary()"
   ]
  },
  {
   "cell_type": "code",
   "execution_count": 137,
   "metadata": {},
   "outputs": [],
   "source": [
    "#Compiling the Neural Network"
   ]
  },
  {
   "cell_type": "code",
   "execution_count": 138,
   "metadata": {},
   "outputs": [],
   "source": [
    "from tensorflow.keras import optimizers\n",
    "\n"
   ]
  },
  {
   "cell_type": "code",
   "execution_count": 139,
   "metadata": {},
   "outputs": [],
   "source": [
    "sgd = optimizers.SGD(lr=0.03)\n",
    "#Compile the model\n",
    "model.compile(optimizer=sgd, loss='binary_crossentropy', metrics=['accuracy'])"
   ]
  },
  {
   "cell_type": "code",
   "execution_count": 140,
   "metadata": {},
   "outputs": [],
   "source": [
    "#Executing the Model"
   ]
  },
  {
   "cell_type": "code",
   "execution_count": 141,
   "metadata": {},
   "outputs": [
    {
     "name": "stdout",
     "output_type": "stream",
     "text": [
      "WARNING:tensorflow:Falling back from v2 loop because of error: Failed to find data adapter that can handle input: <class 'pandas.core.frame.DataFrame'>, <class 'NoneType'>\n",
      "Train on 6300 samples, validate on 700 samples\n",
      "Epoch 1/200\n",
      "6300/6300 - 0s - loss: 0.5683 - accuracy: 0.7992 - val_loss: 0.5352 - val_accuracy: 0.7800\n",
      "Epoch 2/200\n",
      "6300/6300 - 0s - loss: 0.5061 - accuracy: 0.8006 - val_loss: 0.5269 - val_accuracy: 0.7800\n",
      "Epoch 3/200\n",
      "6300/6300 - 0s - loss: 0.5003 - accuracy: 0.8006 - val_loss: 0.5272 - val_accuracy: 0.7800\n",
      "Epoch 4/200\n",
      "6300/6300 - 0s - loss: 0.4996 - accuracy: 0.8006 - val_loss: 0.5278 - val_accuracy: 0.7800\n",
      "Epoch 5/200\n",
      "6300/6300 - 0s - loss: 0.4995 - accuracy: 0.8006 - val_loss: 0.5280 - val_accuracy: 0.7800\n",
      "Epoch 6/200\n",
      "6300/6300 - 0s - loss: 0.4994 - accuracy: 0.8006 - val_loss: 0.5280 - val_accuracy: 0.7800\n",
      "Epoch 7/200\n",
      "6300/6300 - 0s - loss: 0.4993 - accuracy: 0.8006 - val_loss: 0.5279 - val_accuracy: 0.7800\n",
      "Epoch 8/200\n",
      "6300/6300 - 0s - loss: 0.4993 - accuracy: 0.8006 - val_loss: 0.5281 - val_accuracy: 0.7800\n",
      "Epoch 9/200\n",
      "6300/6300 - 0s - loss: 0.4992 - accuracy: 0.8006 - val_loss: 0.5278 - val_accuracy: 0.7800\n",
      "Epoch 10/200\n",
      "6300/6300 - 0s - loss: 0.4990 - accuracy: 0.8006 - val_loss: 0.5277 - val_accuracy: 0.7800\n",
      "Epoch 11/200\n",
      "6300/6300 - 0s - loss: 0.4987 - accuracy: 0.8006 - val_loss: 0.5272 - val_accuracy: 0.7800\n",
      "Epoch 12/200\n",
      "6300/6300 - 0s - loss: 0.4983 - accuracy: 0.8006 - val_loss: 0.5267 - val_accuracy: 0.7800\n",
      "Epoch 13/200\n",
      "6300/6300 - 0s - loss: 0.4977 - accuracy: 0.8006 - val_loss: 0.5263 - val_accuracy: 0.7800\n",
      "Epoch 14/200\n",
      "6300/6300 - 0s - loss: 0.4967 - accuracy: 0.8006 - val_loss: 0.5249 - val_accuracy: 0.7800\n",
      "Epoch 15/200\n",
      "6300/6300 - 0s - loss: 0.4949 - accuracy: 0.8006 - val_loss: 0.5234 - val_accuracy: 0.7800\n",
      "Epoch 16/200\n",
      "6300/6300 - 0s - loss: 0.4919 - accuracy: 0.8006 - val_loss: 0.5196 - val_accuracy: 0.7800\n",
      "Epoch 17/200\n",
      "6300/6300 - 0s - loss: 0.4861 - accuracy: 0.8006 - val_loss: 0.5129 - val_accuracy: 0.7800\n",
      "Epoch 18/200\n",
      "6300/6300 - 0s - loss: 0.4760 - accuracy: 0.8006 - val_loss: 0.5022 - val_accuracy: 0.7800\n",
      "Epoch 19/200\n",
      "6300/6300 - 0s - loss: 0.4614 - accuracy: 0.8006 - val_loss: 0.4897 - val_accuracy: 0.7800\n",
      "Epoch 20/200\n",
      "6300/6300 - 0s - loss: 0.4465 - accuracy: 0.8006 - val_loss: 0.4787 - val_accuracy: 0.7800\n",
      "Epoch 21/200\n",
      "6300/6300 - 0s - loss: 0.4348 - accuracy: 0.8006 - val_loss: 0.4689 - val_accuracy: 0.7800\n",
      "Epoch 22/200\n",
      "6300/6300 - 0s - loss: 0.4268 - accuracy: 0.8006 - val_loss: 0.4634 - val_accuracy: 0.7800\n",
      "Epoch 23/200\n",
      "6300/6300 - 0s - loss: 0.4211 - accuracy: 0.8006 - val_loss: 0.4571 - val_accuracy: 0.7800\n",
      "Epoch 24/200\n",
      "6300/6300 - 0s - loss: 0.4164 - accuracy: 0.8005 - val_loss: 0.4506 - val_accuracy: 0.7800\n",
      "Epoch 25/200\n",
      "6300/6300 - 0s - loss: 0.4108 - accuracy: 0.8019 - val_loss: 0.4405 - val_accuracy: 0.7929\n",
      "Epoch 26/200\n",
      "6300/6300 - 0s - loss: 0.4036 - accuracy: 0.8168 - val_loss: 0.4277 - val_accuracy: 0.8086\n",
      "Epoch 27/200\n",
      "6300/6300 - 0s - loss: 0.3945 - accuracy: 0.8346 - val_loss: 0.4157 - val_accuracy: 0.8200\n",
      "Epoch 28/200\n",
      "6300/6300 - 0s - loss: 0.3831 - accuracy: 0.8402 - val_loss: 0.4032 - val_accuracy: 0.8329\n",
      "Epoch 29/200\n",
      "6300/6300 - 0s - loss: 0.3734 - accuracy: 0.8451 - val_loss: 0.3856 - val_accuracy: 0.8429\n",
      "Epoch 30/200\n",
      "6300/6300 - 0s - loss: 0.3642 - accuracy: 0.8498 - val_loss: 0.3739 - val_accuracy: 0.8443\n",
      "Epoch 31/200\n",
      "6300/6300 - 0s - loss: 0.3580 - accuracy: 0.8557 - val_loss: 0.3685 - val_accuracy: 0.8429\n",
      "Epoch 32/200\n",
      "6300/6300 - 0s - loss: 0.3536 - accuracy: 0.8552 - val_loss: 0.3656 - val_accuracy: 0.8429\n",
      "Epoch 33/200\n",
      "6300/6300 - 0s - loss: 0.3490 - accuracy: 0.8575 - val_loss: 0.3639 - val_accuracy: 0.8486\n",
      "Epoch 34/200\n",
      "6300/6300 - 0s - loss: 0.3461 - accuracy: 0.8586 - val_loss: 0.3643 - val_accuracy: 0.8414\n",
      "Epoch 35/200\n",
      "6300/6300 - 0s - loss: 0.3452 - accuracy: 0.8589 - val_loss: 0.3582 - val_accuracy: 0.8386\n",
      "Epoch 36/200\n",
      "6300/6300 - 0s - loss: 0.3443 - accuracy: 0.8595 - val_loss: 0.3592 - val_accuracy: 0.8429\n",
      "Epoch 37/200\n",
      "6300/6300 - 0s - loss: 0.3434 - accuracy: 0.8581 - val_loss: 0.3586 - val_accuracy: 0.8457\n",
      "Epoch 38/200\n",
      "6300/6300 - 0s - loss: 0.3426 - accuracy: 0.8589 - val_loss: 0.3555 - val_accuracy: 0.8400\n",
      "Epoch 39/200\n",
      "6300/6300 - 0s - loss: 0.3419 - accuracy: 0.8606 - val_loss: 0.3560 - val_accuracy: 0.8457\n",
      "Epoch 40/200\n",
      "6300/6300 - 0s - loss: 0.3411 - accuracy: 0.8590 - val_loss: 0.3590 - val_accuracy: 0.8443\n",
      "Epoch 41/200\n",
      "6300/6300 - 0s - loss: 0.3413 - accuracy: 0.8605 - val_loss: 0.3585 - val_accuracy: 0.8443\n",
      "Epoch 42/200\n",
      "6300/6300 - 0s - loss: 0.3407 - accuracy: 0.8611 - val_loss: 0.3526 - val_accuracy: 0.8429\n",
      "Epoch 43/200\n",
      "6300/6300 - 0s - loss: 0.3398 - accuracy: 0.8606 - val_loss: 0.3552 - val_accuracy: 0.8471\n",
      "Epoch 44/200\n",
      "6300/6300 - 0s - loss: 0.3409 - accuracy: 0.8584 - val_loss: 0.3551 - val_accuracy: 0.8471\n",
      "Epoch 45/200\n",
      "6300/6300 - 0s - loss: 0.3402 - accuracy: 0.8598 - val_loss: 0.3687 - val_accuracy: 0.8443\n",
      "Epoch 46/200\n",
      "6300/6300 - 0s - loss: 0.3401 - accuracy: 0.8603 - val_loss: 0.3514 - val_accuracy: 0.8529\n",
      "Epoch 47/200\n",
      "6300/6300 - 0s - loss: 0.3393 - accuracy: 0.8630 - val_loss: 0.3537 - val_accuracy: 0.8486\n",
      "Epoch 48/200\n",
      "6300/6300 - 0s - loss: 0.3401 - accuracy: 0.8597 - val_loss: 0.3513 - val_accuracy: 0.8443\n",
      "Epoch 49/200\n",
      "6300/6300 - 0s - loss: 0.3400 - accuracy: 0.8602 - val_loss: 0.3550 - val_accuracy: 0.8443\n",
      "Epoch 50/200\n",
      "6300/6300 - 0s - loss: 0.3398 - accuracy: 0.8587 - val_loss: 0.3590 - val_accuracy: 0.8371\n",
      "Epoch 51/200\n",
      "6300/6300 - 0s - loss: 0.3391 - accuracy: 0.8637 - val_loss: 0.3528 - val_accuracy: 0.8514\n",
      "Epoch 52/200\n",
      "6300/6300 - 0s - loss: 0.3395 - accuracy: 0.8603 - val_loss: 0.3469 - val_accuracy: 0.8529\n",
      "Epoch 53/200\n",
      "6300/6300 - 0s - loss: 0.3393 - accuracy: 0.8606 - val_loss: 0.3581 - val_accuracy: 0.8414\n",
      "Epoch 54/200\n",
      "6300/6300 - 0s - loss: 0.3392 - accuracy: 0.8605 - val_loss: 0.3523 - val_accuracy: 0.8429\n",
      "Epoch 55/200\n",
      "6300/6300 - 0s - loss: 0.3396 - accuracy: 0.8595 - val_loss: 0.3594 - val_accuracy: 0.8400\n",
      "Epoch 56/200\n",
      "6300/6300 - 0s - loss: 0.3393 - accuracy: 0.8595 - val_loss: 0.3539 - val_accuracy: 0.8443\n",
      "Epoch 57/200\n",
      "6300/6300 - 1s - loss: 0.3387 - accuracy: 0.8589 - val_loss: 0.3679 - val_accuracy: 0.8414\n",
      "Epoch 58/200\n",
      "6300/6300 - 0s - loss: 0.3386 - accuracy: 0.8622 - val_loss: 0.3548 - val_accuracy: 0.8443\n",
      "Epoch 59/200\n",
      "6300/6300 - 0s - loss: 0.3391 - accuracy: 0.8608 - val_loss: 0.3495 - val_accuracy: 0.8500\n",
      "Epoch 60/200\n",
      "6300/6300 - 0s - loss: 0.3377 - accuracy: 0.8608 - val_loss: 0.3568 - val_accuracy: 0.8514\n",
      "Epoch 61/200\n",
      "6300/6300 - 0s - loss: 0.3376 - accuracy: 0.8619 - val_loss: 0.3487 - val_accuracy: 0.8500\n",
      "Epoch 62/200\n",
      "6300/6300 - 0s - loss: 0.3372 - accuracy: 0.8610 - val_loss: 0.3497 - val_accuracy: 0.8486\n",
      "Epoch 63/200\n",
      "6300/6300 - 0s - loss: 0.3384 - accuracy: 0.8589 - val_loss: 0.3523 - val_accuracy: 0.8457\n",
      "Epoch 64/200\n",
      "6300/6300 - 0s - loss: 0.3387 - accuracy: 0.8597 - val_loss: 0.3579 - val_accuracy: 0.8400\n",
      "Epoch 65/200\n",
      "6300/6300 - 0s - loss: 0.3374 - accuracy: 0.8617 - val_loss: 0.3616 - val_accuracy: 0.8443\n",
      "Epoch 66/200\n",
      "6300/6300 - 0s - loss: 0.3366 - accuracy: 0.8619 - val_loss: 0.3540 - val_accuracy: 0.8529\n",
      "Epoch 67/200\n",
      "6300/6300 - 0s - loss: 0.3371 - accuracy: 0.8616 - val_loss: 0.3583 - val_accuracy: 0.8400\n",
      "Epoch 68/200\n",
      "6300/6300 - 0s - loss: 0.3380 - accuracy: 0.8616 - val_loss: 0.3525 - val_accuracy: 0.8500\n",
      "Epoch 69/200\n",
      "6300/6300 - 0s - loss: 0.3382 - accuracy: 0.8619 - val_loss: 0.3514 - val_accuracy: 0.8386\n",
      "Epoch 70/200\n",
      "6300/6300 - 0s - loss: 0.3370 - accuracy: 0.8617 - val_loss: 0.3521 - val_accuracy: 0.8529\n",
      "Epoch 71/200\n",
      "6300/6300 - 0s - loss: 0.3384 - accuracy: 0.8603 - val_loss: 0.3532 - val_accuracy: 0.8400\n",
      "Epoch 72/200\n",
      "6300/6300 - 0s - loss: 0.3381 - accuracy: 0.8610 - val_loss: 0.3606 - val_accuracy: 0.8414\n",
      "Epoch 73/200\n",
      "6300/6300 - 0s - loss: 0.3373 - accuracy: 0.8619 - val_loss: 0.3620 - val_accuracy: 0.8400\n",
      "Epoch 74/200\n",
      "6300/6300 - 0s - loss: 0.3381 - accuracy: 0.8602 - val_loss: 0.3616 - val_accuracy: 0.8400\n",
      "Epoch 75/200\n",
      "6300/6300 - 0s - loss: 0.3376 - accuracy: 0.8616 - val_loss: 0.3542 - val_accuracy: 0.8457\n",
      "Epoch 76/200\n",
      "6300/6300 - 0s - loss: 0.3376 - accuracy: 0.8621 - val_loss: 0.3546 - val_accuracy: 0.8400\n",
      "Epoch 77/200\n",
      "6300/6300 - 0s - loss: 0.3366 - accuracy: 0.8638 - val_loss: 0.3560 - val_accuracy: 0.8429\n"
     ]
    },
    {
     "name": "stdout",
     "output_type": "stream",
     "text": [
      "Epoch 78/200\n",
      "6300/6300 - 0s - loss: 0.3368 - accuracy: 0.8617 - val_loss: 0.3519 - val_accuracy: 0.8514\n",
      "Epoch 79/200\n",
      "6300/6300 - 0s - loss: 0.3377 - accuracy: 0.8611 - val_loss: 0.3511 - val_accuracy: 0.8400\n",
      "Epoch 80/200\n",
      "6300/6300 - 0s - loss: 0.3376 - accuracy: 0.8627 - val_loss: 0.3532 - val_accuracy: 0.8429\n",
      "Epoch 81/200\n",
      "6300/6300 - 0s - loss: 0.3365 - accuracy: 0.8611 - val_loss: 0.3492 - val_accuracy: 0.8486\n",
      "Epoch 82/200\n",
      "6300/6300 - 0s - loss: 0.3375 - accuracy: 0.8614 - val_loss: 0.3555 - val_accuracy: 0.8400\n",
      "Epoch 83/200\n",
      "6300/6300 - 0s - loss: 0.3364 - accuracy: 0.8635 - val_loss: 0.3523 - val_accuracy: 0.8386\n",
      "Epoch 84/200\n",
      "6300/6300 - 0s - loss: 0.3363 - accuracy: 0.8627 - val_loss: 0.3519 - val_accuracy: 0.8443\n",
      "Epoch 85/200\n",
      "6300/6300 - 0s - loss: 0.3369 - accuracy: 0.8614 - val_loss: 0.3590 - val_accuracy: 0.8414\n",
      "Epoch 86/200\n",
      "6300/6300 - 0s - loss: 0.3364 - accuracy: 0.8616 - val_loss: 0.3598 - val_accuracy: 0.8429\n",
      "Epoch 87/200\n",
      "6300/6300 - 0s - loss: 0.3361 - accuracy: 0.8632 - val_loss: 0.3573 - val_accuracy: 0.8429\n",
      "Epoch 88/200\n",
      "6300/6300 - 0s - loss: 0.3366 - accuracy: 0.8606 - val_loss: 0.3549 - val_accuracy: 0.8443\n",
      "Epoch 89/200\n",
      "6300/6300 - 0s - loss: 0.3367 - accuracy: 0.8610 - val_loss: 0.3558 - val_accuracy: 0.8429\n",
      "Epoch 90/200\n",
      "6300/6300 - 0s - loss: 0.3372 - accuracy: 0.8602 - val_loss: 0.3542 - val_accuracy: 0.8414\n",
      "Epoch 91/200\n",
      "6300/6300 - 0s - loss: 0.3370 - accuracy: 0.8600 - val_loss: 0.3524 - val_accuracy: 0.8486\n",
      "Epoch 92/200\n",
      "6300/6300 - 0s - loss: 0.3357 - accuracy: 0.8629 - val_loss: 0.3529 - val_accuracy: 0.8471\n",
      "Epoch 93/200\n",
      "6300/6300 - 0s - loss: 0.3367 - accuracy: 0.8605 - val_loss: 0.3528 - val_accuracy: 0.8400\n",
      "Epoch 94/200\n",
      "6300/6300 - 0s - loss: 0.3372 - accuracy: 0.8617 - val_loss: 0.3523 - val_accuracy: 0.8457\n",
      "Epoch 95/200\n",
      "6300/6300 - 0s - loss: 0.3365 - accuracy: 0.8598 - val_loss: 0.3651 - val_accuracy: 0.8429\n",
      "Epoch 96/200\n",
      "6300/6300 - 0s - loss: 0.3366 - accuracy: 0.8624 - val_loss: 0.3505 - val_accuracy: 0.8443\n",
      "Epoch 97/200\n",
      "6300/6300 - 0s - loss: 0.3368 - accuracy: 0.8610 - val_loss: 0.3523 - val_accuracy: 0.8514\n",
      "Epoch 98/200\n",
      "6300/6300 - 0s - loss: 0.3365 - accuracy: 0.8640 - val_loss: 0.3560 - val_accuracy: 0.8429\n",
      "Epoch 99/200\n",
      "6300/6300 - 0s - loss: 0.3366 - accuracy: 0.8611 - val_loss: 0.3600 - val_accuracy: 0.8400\n",
      "Epoch 100/200\n",
      "6300/6300 - 0s - loss: 0.3370 - accuracy: 0.8600 - val_loss: 0.3518 - val_accuracy: 0.8471\n",
      "Epoch 101/200\n",
      "6300/6300 - 0s - loss: 0.3366 - accuracy: 0.8621 - val_loss: 0.3540 - val_accuracy: 0.8486\n",
      "Epoch 102/200\n",
      "6300/6300 - 0s - loss: 0.3351 - accuracy: 0.8630 - val_loss: 0.3512 - val_accuracy: 0.8514\n",
      "Epoch 103/200\n",
      "6300/6300 - 0s - loss: 0.3364 - accuracy: 0.8629 - val_loss: 0.3547 - val_accuracy: 0.8443\n",
      "Epoch 104/200\n",
      "6300/6300 - 0s - loss: 0.3369 - accuracy: 0.8597 - val_loss: 0.3586 - val_accuracy: 0.8371\n",
      "Epoch 105/200\n",
      "6300/6300 - 0s - loss: 0.3357 - accuracy: 0.8603 - val_loss: 0.3513 - val_accuracy: 0.8529\n",
      "Epoch 106/200\n",
      "6300/6300 - 0s - loss: 0.3360 - accuracy: 0.8614 - val_loss: 0.3552 - val_accuracy: 0.8500\n",
      "Epoch 107/200\n",
      "6300/6300 - 0s - loss: 0.3360 - accuracy: 0.8619 - val_loss: 0.3597 - val_accuracy: 0.8429\n",
      "Epoch 108/200\n",
      "6300/6300 - 0s - loss: 0.3363 - accuracy: 0.8619 - val_loss: 0.3542 - val_accuracy: 0.8457\n",
      "Epoch 109/200\n",
      "6300/6300 - 0s - loss: 0.3362 - accuracy: 0.8600 - val_loss: 0.3552 - val_accuracy: 0.8400\n",
      "Epoch 110/200\n",
      "6300/6300 - 0s - loss: 0.3362 - accuracy: 0.8608 - val_loss: 0.3526 - val_accuracy: 0.8486\n",
      "Epoch 111/200\n",
      "6300/6300 - 0s - loss: 0.3362 - accuracy: 0.8649 - val_loss: 0.3539 - val_accuracy: 0.8443\n",
      "Epoch 112/200\n",
      "6300/6300 - 0s - loss: 0.3358 - accuracy: 0.8613 - val_loss: 0.3603 - val_accuracy: 0.8400\n",
      "Epoch 113/200\n",
      "6300/6300 - 0s - loss: 0.3360 - accuracy: 0.8627 - val_loss: 0.3514 - val_accuracy: 0.8500\n",
      "Epoch 114/200\n",
      "6300/6300 - 0s - loss: 0.3362 - accuracy: 0.8602 - val_loss: 0.3526 - val_accuracy: 0.8471\n",
      "Epoch 115/200\n",
      "6300/6300 - 0s - loss: 0.3344 - accuracy: 0.8592 - val_loss: 0.3585 - val_accuracy: 0.8429\n",
      "Epoch 116/200\n",
      "6300/6300 - 0s - loss: 0.3363 - accuracy: 0.8595 - val_loss: 0.3559 - val_accuracy: 0.8414\n",
      "Epoch 117/200\n",
      "6300/6300 - 0s - loss: 0.3359 - accuracy: 0.8611 - val_loss: 0.3611 - val_accuracy: 0.8414\n",
      "Epoch 118/200\n",
      "6300/6300 - 0s - loss: 0.3358 - accuracy: 0.8613 - val_loss: 0.3507 - val_accuracy: 0.8457\n",
      "Epoch 119/200\n",
      "6300/6300 - 0s - loss: 0.3363 - accuracy: 0.8622 - val_loss: 0.3524 - val_accuracy: 0.8500\n",
      "Epoch 120/200\n",
      "6300/6300 - 0s - loss: 0.3360 - accuracy: 0.8608 - val_loss: 0.3537 - val_accuracy: 0.8386\n",
      "Epoch 121/200\n",
      "6300/6300 - 0s - loss: 0.3356 - accuracy: 0.8627 - val_loss: 0.3499 - val_accuracy: 0.8500\n",
      "Epoch 122/200\n",
      "6300/6300 - 0s - loss: 0.3359 - accuracy: 0.8629 - val_loss: 0.3542 - val_accuracy: 0.8414\n",
      "Epoch 123/200\n",
      "6300/6300 - 0s - loss: 0.3350 - accuracy: 0.8622 - val_loss: 0.3573 - val_accuracy: 0.8386\n",
      "Epoch 124/200\n",
      "6300/6300 - 0s - loss: 0.3361 - accuracy: 0.8595 - val_loss: 0.3571 - val_accuracy: 0.8386\n",
      "Epoch 125/200\n",
      "6300/6300 - 0s - loss: 0.3360 - accuracy: 0.8603 - val_loss: 0.3643 - val_accuracy: 0.8357\n",
      "Epoch 126/200\n",
      "6300/6300 - 0s - loss: 0.3360 - accuracy: 0.8622 - val_loss: 0.3497 - val_accuracy: 0.8457\n",
      "Epoch 127/200\n",
      "6300/6300 - 0s - loss: 0.3357 - accuracy: 0.8600 - val_loss: 0.3525 - val_accuracy: 0.8443\n",
      "Epoch 128/200\n",
      "6300/6300 - 0s - loss: 0.3360 - accuracy: 0.8617 - val_loss: 0.3579 - val_accuracy: 0.8443\n",
      "Epoch 129/200\n",
      "6300/6300 - 0s - loss: 0.3359 - accuracy: 0.8576 - val_loss: 0.3581 - val_accuracy: 0.8457\n",
      "Epoch 130/200\n",
      "6300/6300 - 0s - loss: 0.3354 - accuracy: 0.8603 - val_loss: 0.3559 - val_accuracy: 0.8457\n",
      "Epoch 131/200\n",
      "6300/6300 - 0s - loss: 0.3359 - accuracy: 0.8610 - val_loss: 0.3590 - val_accuracy: 0.8371\n",
      "Epoch 132/200\n",
      "6300/6300 - 0s - loss: 0.3349 - accuracy: 0.8587 - val_loss: 0.3535 - val_accuracy: 0.8429\n",
      "Epoch 133/200\n",
      "6300/6300 - 0s - loss: 0.3356 - accuracy: 0.8640 - val_loss: 0.3521 - val_accuracy: 0.8500\n",
      "Epoch 134/200\n",
      "6300/6300 - 0s - loss: 0.3354 - accuracy: 0.8624 - val_loss: 0.3500 - val_accuracy: 0.8514\n",
      "Epoch 135/200\n",
      "6300/6300 - 0s - loss: 0.3358 - accuracy: 0.8594 - val_loss: 0.3502 - val_accuracy: 0.8486\n",
      "Epoch 136/200\n",
      "6300/6300 - 0s - loss: 0.3347 - accuracy: 0.8617 - val_loss: 0.3529 - val_accuracy: 0.8457\n",
      "Epoch 137/200\n",
      "6300/6300 - 0s - loss: 0.3358 - accuracy: 0.8614 - val_loss: 0.3576 - val_accuracy: 0.8443\n",
      "Epoch 138/200\n",
      "6300/6300 - 0s - loss: 0.3345 - accuracy: 0.8611 - val_loss: 0.3539 - val_accuracy: 0.8414\n",
      "Epoch 139/200\n",
      "6300/6300 - 0s - loss: 0.3355 - accuracy: 0.8578 - val_loss: 0.3626 - val_accuracy: 0.8400\n",
      "Epoch 140/200\n",
      "6300/6300 - 0s - loss: 0.3352 - accuracy: 0.8603 - val_loss: 0.3536 - val_accuracy: 0.8457\n",
      "Epoch 141/200\n",
      "6300/6300 - 0s - loss: 0.3345 - accuracy: 0.8603 - val_loss: 0.3543 - val_accuracy: 0.8429\n",
      "Epoch 142/200\n",
      "6300/6300 - 0s - loss: 0.3355 - accuracy: 0.8605 - val_loss: 0.3555 - val_accuracy: 0.8486\n",
      "Epoch 143/200\n",
      "6300/6300 - 0s - loss: 0.3349 - accuracy: 0.8624 - val_loss: 0.3523 - val_accuracy: 0.8457\n",
      "Epoch 144/200\n",
      "6300/6300 - 0s - loss: 0.3357 - accuracy: 0.8605 - val_loss: 0.3567 - val_accuracy: 0.8429\n",
      "Epoch 145/200\n",
      "6300/6300 - 0s - loss: 0.3351 - accuracy: 0.8616 - val_loss: 0.3515 - val_accuracy: 0.8486\n",
      "Epoch 146/200\n",
      "6300/6300 - 0s - loss: 0.3348 - accuracy: 0.8594 - val_loss: 0.3546 - val_accuracy: 0.8471\n",
      "Epoch 147/200\n",
      "6300/6300 - 0s - loss: 0.3357 - accuracy: 0.8598 - val_loss: 0.3616 - val_accuracy: 0.8371\n",
      "Epoch 148/200\n",
      "6300/6300 - 0s - loss: 0.3351 - accuracy: 0.8613 - val_loss: 0.3555 - val_accuracy: 0.8400\n",
      "Epoch 149/200\n",
      "6300/6300 - 0s - loss: 0.3346 - accuracy: 0.8621 - val_loss: 0.3545 - val_accuracy: 0.8414\n",
      "Epoch 150/200\n",
      "6300/6300 - 0s - loss: 0.3350 - accuracy: 0.8603 - val_loss: 0.3580 - val_accuracy: 0.8471\n",
      "Epoch 151/200\n",
      "6300/6300 - 0s - loss: 0.3347 - accuracy: 0.8625 - val_loss: 0.3622 - val_accuracy: 0.8443\n",
      "Epoch 152/200\n",
      "6300/6300 - 0s - loss: 0.3351 - accuracy: 0.8590 - val_loss: 0.3546 - val_accuracy: 0.8443\n",
      "Epoch 153/200\n",
      "6300/6300 - 0s - loss: 0.3345 - accuracy: 0.8592 - val_loss: 0.3546 - val_accuracy: 0.8400\n",
      "Epoch 154/200\n",
      "6300/6300 - 0s - loss: 0.3347 - accuracy: 0.8614 - val_loss: 0.3536 - val_accuracy: 0.8514\n",
      "Epoch 155/200\n",
      "6300/6300 - 0s - loss: 0.3342 - accuracy: 0.8616 - val_loss: 0.3529 - val_accuracy: 0.8443\n",
      "Epoch 156/200\n",
      "6300/6300 - 0s - loss: 0.3351 - accuracy: 0.8598 - val_loss: 0.3527 - val_accuracy: 0.8557\n"
     ]
    },
    {
     "name": "stdout",
     "output_type": "stream",
     "text": [
      "Epoch 157/200\n",
      "6300/6300 - 0s - loss: 0.3355 - accuracy: 0.8611 - val_loss: 0.3548 - val_accuracy: 0.8500\n",
      "Epoch 158/200\n",
      "6300/6300 - 0s - loss: 0.3345 - accuracy: 0.8621 - val_loss: 0.3576 - val_accuracy: 0.8414\n",
      "Epoch 159/200\n",
      "6300/6300 - 0s - loss: 0.3348 - accuracy: 0.8611 - val_loss: 0.3520 - val_accuracy: 0.8543\n",
      "Epoch 160/200\n",
      "6300/6300 - 0s - loss: 0.3351 - accuracy: 0.8606 - val_loss: 0.3503 - val_accuracy: 0.8514\n",
      "Epoch 161/200\n",
      "6300/6300 - 0s - loss: 0.3343 - accuracy: 0.8613 - val_loss: 0.3543 - val_accuracy: 0.8457\n",
      "Epoch 162/200\n",
      "6300/6300 - 0s - loss: 0.3343 - accuracy: 0.8619 - val_loss: 0.3721 - val_accuracy: 0.8371\n",
      "Epoch 163/200\n",
      "6300/6300 - 0s - loss: 0.3351 - accuracy: 0.8600 - val_loss: 0.3536 - val_accuracy: 0.8414\n",
      "Epoch 164/200\n",
      "6300/6300 - 0s - loss: 0.3340 - accuracy: 0.8595 - val_loss: 0.3546 - val_accuracy: 0.8500\n",
      "Epoch 165/200\n",
      "6300/6300 - 0s - loss: 0.3350 - accuracy: 0.8606 - val_loss: 0.3498 - val_accuracy: 0.8571\n",
      "Epoch 166/200\n",
      "6300/6300 - 0s - loss: 0.3352 - accuracy: 0.8622 - val_loss: 0.3545 - val_accuracy: 0.8443\n",
      "Epoch 167/200\n",
      "6300/6300 - 0s - loss: 0.3348 - accuracy: 0.8590 - val_loss: 0.3548 - val_accuracy: 0.8400\n",
      "Epoch 168/200\n",
      "6300/6300 - 0s - loss: 0.3347 - accuracy: 0.8635 - val_loss: 0.3549 - val_accuracy: 0.8471\n",
      "Epoch 169/200\n",
      "6300/6300 - 0s - loss: 0.3345 - accuracy: 0.8600 - val_loss: 0.3548 - val_accuracy: 0.8457\n",
      "Epoch 170/200\n",
      "6300/6300 - 0s - loss: 0.3345 - accuracy: 0.8624 - val_loss: 0.3533 - val_accuracy: 0.8571\n",
      "Epoch 171/200\n",
      "6300/6300 - 0s - loss: 0.3346 - accuracy: 0.8606 - val_loss: 0.3514 - val_accuracy: 0.8571\n",
      "Epoch 172/200\n",
      "6300/6300 - 0s - loss: 0.3334 - accuracy: 0.8598 - val_loss: 0.3559 - val_accuracy: 0.8471\n",
      "Epoch 173/200\n",
      "6300/6300 - 0s - loss: 0.3343 - accuracy: 0.8595 - val_loss: 0.3524 - val_accuracy: 0.8486\n",
      "Epoch 174/200\n",
      "6300/6300 - 0s - loss: 0.3348 - accuracy: 0.8619 - val_loss: 0.3501 - val_accuracy: 0.8486\n",
      "Epoch 175/200\n",
      "6300/6300 - 0s - loss: 0.3353 - accuracy: 0.8616 - val_loss: 0.3533 - val_accuracy: 0.8486\n",
      "Epoch 176/200\n",
      "6300/6300 - 0s - loss: 0.3347 - accuracy: 0.8606 - val_loss: 0.3538 - val_accuracy: 0.8500\n",
      "Epoch 177/200\n",
      "6300/6300 - 0s - loss: 0.3347 - accuracy: 0.8619 - val_loss: 0.3610 - val_accuracy: 0.8386\n",
      "Epoch 178/200\n",
      "6300/6300 - 0s - loss: 0.3342 - accuracy: 0.8635 - val_loss: 0.3534 - val_accuracy: 0.8571\n",
      "Epoch 179/200\n",
      "6300/6300 - 0s - loss: 0.3340 - accuracy: 0.8627 - val_loss: 0.3480 - val_accuracy: 0.8471\n",
      "Epoch 180/200\n",
      "6300/6300 - 0s - loss: 0.3338 - accuracy: 0.8594 - val_loss: 0.3556 - val_accuracy: 0.8500\n",
      "Epoch 181/200\n",
      "6300/6300 - 0s - loss: 0.3340 - accuracy: 0.8611 - val_loss: 0.3510 - val_accuracy: 0.8471\n",
      "Epoch 182/200\n",
      "6300/6300 - 0s - loss: 0.3339 - accuracy: 0.8608 - val_loss: 0.3573 - val_accuracy: 0.8414\n",
      "Epoch 183/200\n",
      "6300/6300 - 0s - loss: 0.3343 - accuracy: 0.8616 - val_loss: 0.3573 - val_accuracy: 0.8429\n",
      "Epoch 184/200\n",
      "6300/6300 - 0s - loss: 0.3350 - accuracy: 0.8603 - val_loss: 0.3531 - val_accuracy: 0.8457\n",
      "Epoch 185/200\n",
      "6300/6300 - 0s - loss: 0.3350 - accuracy: 0.8625 - val_loss: 0.3536 - val_accuracy: 0.8486\n",
      "Epoch 186/200\n",
      "6300/6300 - 0s - loss: 0.3344 - accuracy: 0.8602 - val_loss: 0.3808 - val_accuracy: 0.8429\n",
      "Epoch 187/200\n",
      "6300/6300 - 0s - loss: 0.3352 - accuracy: 0.8616 - val_loss: 0.3509 - val_accuracy: 0.8514\n",
      "Epoch 188/200\n",
      "6300/6300 - 0s - loss: 0.3335 - accuracy: 0.8637 - val_loss: 0.3629 - val_accuracy: 0.8457\n",
      "Epoch 189/200\n",
      "6300/6300 - 0s - loss: 0.3340 - accuracy: 0.8603 - val_loss: 0.3644 - val_accuracy: 0.8386\n",
      "Epoch 190/200\n",
      "6300/6300 - 0s - loss: 0.3332 - accuracy: 0.8619 - val_loss: 0.3622 - val_accuracy: 0.8486\n",
      "Epoch 191/200\n",
      "6300/6300 - 0s - loss: 0.3344 - accuracy: 0.8584 - val_loss: 0.3477 - val_accuracy: 0.8471\n",
      "Epoch 192/200\n",
      "6300/6300 - 0s - loss: 0.3339 - accuracy: 0.8614 - val_loss: 0.3538 - val_accuracy: 0.8486\n",
      "Epoch 193/200\n",
      "6300/6300 - 0s - loss: 0.3347 - accuracy: 0.8611 - val_loss: 0.3513 - val_accuracy: 0.8471\n",
      "Epoch 194/200\n",
      "6300/6300 - 0s - loss: 0.3342 - accuracy: 0.8622 - val_loss: 0.3604 - val_accuracy: 0.8457\n",
      "Epoch 195/200\n",
      "6300/6300 - 0s - loss: 0.3335 - accuracy: 0.8595 - val_loss: 0.3542 - val_accuracy: 0.8486\n",
      "Epoch 196/200\n",
      "6300/6300 - 0s - loss: 0.3337 - accuracy: 0.8630 - val_loss: 0.3554 - val_accuracy: 0.8429\n",
      "Epoch 197/200\n",
      "6300/6300 - 0s - loss: 0.3341 - accuracy: 0.8602 - val_loss: 0.3553 - val_accuracy: 0.8443\n",
      "Epoch 198/200\n",
      "6300/6300 - 0s - loss: 0.3345 - accuracy: 0.8605 - val_loss: 0.3537 - val_accuracy: 0.8443\n",
      "Epoch 199/200\n",
      "6300/6300 - 0s - loss: 0.3342 - accuracy: 0.8624 - val_loss: 0.3609 - val_accuracy: 0.8429\n",
      "Epoch 200/200\n",
      "6300/6300 - 0s - loss: 0.3339 - accuracy: 0.8605 - val_loss: 0.3539 - val_accuracy: 0.8500\n"
     ]
    }
   ],
   "source": [
    "history = model.fit(X_train, y_train, batch_size=32, epochs=200, validation_split=0.1, verbose=2)"
   ]
  },
  {
   "cell_type": "markdown",
   "metadata": {},
   "source": [
    "# Predicting the Test set results¶\n"
   ]
  },
  {
   "cell_type": "code",
   "execution_count": 142,
   "metadata": {},
   "outputs": [
    {
     "data": {
      "image/png": "[encoded data removed]",
      "text/plain": [
       "<Figure size 432x288 with 1 Axes>"
      ]
     },
     "metadata": {
      "needs_background": "light"
     },
     "output_type": "display_data"
    }
   ],
   "source": [
    "plt.plot(np.array(history.history['accuracy']) * 100)\n",
    "plt.plot(np.array(history.history['val_accuracy']) * 100)\n",
    "plt.ylabel('accuracy')\n",
    "plt.xlabel('epochs')\n",
    "plt.legend(['train', 'validation'])\n",
    "plt.title('Accuracy over epochs')\n",
    "plt.show()"
   ]
  },
  {
   "cell_type": "code",
   "execution_count": 143,
   "metadata": {},
   "outputs": [
    {
     "name": "stdout",
     "output_type": "stream",
     "text": [
      "WARNING:tensorflow:Falling back from v2 loop because of error: Failed to find data adapter that can handle input: <class 'pandas.core.frame.DataFrame'>, <class 'NoneType'>\n"
     ]
    },
    {
     "data": {
      "text/plain": [
       "array([[0.03801921],\n",
       "       [0.13127756],\n",
       "       [0.05975845],\n",
       "       ...,\n",
       "       [0.09621888],\n",
       "       [0.14292094],\n",
       "       [0.12424681]], dtype=float32)"
      ]
     },
     "execution_count": 143,
     "metadata": {},
     "output_type": "execute_result"
    }
   ],
   "source": [
    "y_pred = model.predict(X_test)\n",
    "y_pred"
   ]
  },
  {
   "cell_type": "code",
   "execution_count": 144,
   "metadata": {},
   "outputs": [
    {
     "name": "stderr",
     "output_type": "stream",
     "text": [
      "C:\\Users\\Bala\\Anaconda3\\lib\\site-packages\\ipykernel_launcher.py:1: FutureWarning: Using a non-tuple sequence for multidimensional indexing is deprecated; use `arr[tuple(seq)]` instead of `arr[seq]`. In the future this will be interpreted as an array index, `arr[np.array(seq)]`, which will result either in an error or a different result.\n",
      "  \"\"\"Entry point for launching an IPython kernel.\n"
     ]
    },
    {
     "data": {
      "text/plain": [
       "(378,)"
      ]
     },
     "execution_count": 144,
     "metadata": {},
     "output_type": "execute_result"
    }
   ],
   "source": [
    "y_pred[[y_pred > 0.5]].shape"
   ]
  },
  {
   "cell_type": "markdown",
   "metadata": {},
   "source": [
    "# Predicting the score with threshold 0.5"
   ]
  },
  {
   "cell_type": "code",
   "execution_count": 145,
   "metadata": {},
   "outputs": [],
   "source": [
    "y_pred = (y_pred > 0.5).astype(int)"
   ]
  },
  {
   "cell_type": "code",
   "execution_count": 146,
   "metadata": {},
   "outputs": [
    {
     "name": "stderr",
     "output_type": "stream",
     "text": [
      "C:\\Users\\Bala\\Anaconda3\\lib\\site-packages\\ipykernel_launcher.py:1: FutureWarning: Using a non-tuple sequence for multidimensional indexing is deprecated; use `arr[tuple(seq)]` instead of `arr[seq]`. In the future this will be interpreted as an array index, `arr[np.array(seq)]`, which will result either in an error or a different result.\n",
      "  \"\"\"Entry point for launching an IPython kernel.\n"
     ]
    },
    {
     "data": {
      "text/plain": [
       "(378,)"
      ]
     },
     "execution_count": 146,
     "metadata": {},
     "output_type": "execute_result"
    }
   ],
   "source": [
    "y_pred[[y_pred > 0.5]].shape"
   ]
  },
  {
   "cell_type": "code",
   "execution_count": 147,
   "metadata": {},
   "outputs": [
    {
     "name": "stdout",
     "output_type": "stream",
     "text": [
      "WARNING:tensorflow:Falling back from v2 loop because of error: Failed to find data adapter that can handle input: <class 'pandas.core.frame.DataFrame'>, <class 'NoneType'>\n"
     ]
    }
   ],
   "source": [
    "probabs = model.predict_proba(X_test)"
   ]
  },
  {
   "cell_type": "code",
   "execution_count": 148,
   "metadata": {},
   "outputs": [
    {
     "data": {
      "text/plain": [
       "array([[0.03801921],\n",
       "       [0.13127756],\n",
       "       [0.05975845],\n",
       "       ...,\n",
       "       [0.09621888],\n",
       "       [0.14292094],\n",
       "       [0.12424681]], dtype=float32)"
      ]
     },
     "execution_count": 148,
     "metadata": {},
     "output_type": "execute_result"
    }
   ],
   "source": [
    "probabs"
   ]
  },
  {
   "cell_type": "code",
   "execution_count": null,
   "metadata": {},
   "outputs": [],
   "source": []
  },
  {
   "cell_type": "markdown",
   "metadata": {},
   "source": [
    "# Making the Confusion Matrix\n"
   ]
  },
  {
   "cell_type": "code",
   "execution_count": 149,
   "metadata": {},
   "outputs": [
    {
     "name": "stdout",
     "output_type": "stream",
     "text": [
      "[[2292   81]\n",
      " [ 330  297]]\n"
     ]
    }
   ],
   "source": [
    "from sklearn.metrics import confusion_matrix,fbeta_score\n",
    "cm = confusion_matrix(y_test, y_pred)\n",
    "print(cm)\n"
   ]
  },
  {
   "cell_type": "code",
   "execution_count": 150,
   "metadata": {},
   "outputs": [
    {
     "name": "stdout",
     "output_type": "stream",
     "text": [
      "86.3 % of testing data was classified correctly\n"
     ]
    }
   ],
   "source": [
    "print (((cm[0][0]+cm[1][1])*100)/(len(y_test)), '% of testing data was classified correctly')\n"
   ]
  },
  {
   "cell_type": "code",
   "execution_count": 151,
   "metadata": {},
   "outputs": [
    {
     "data": {
      "image/png": "[encoded data removed]",
      "text/plain": [
       "<Figure size 432x288 with 2 Axes>"
      ]
     },
     "metadata": {
      "needs_background": "light"
     },
     "output_type": "display_data"
    }
   ],
   "source": [
    "labels = ['Class 0', 'Class 1']\n",
    "fig = plt.figure()\n",
    "ax = fig.add_subplot(111)\n",
    "cax = ax.matshow(cm, cmap=plt.cm.Blues)\n",
    "fig.colorbar(cax)\n",
    "ax.set_xticklabels([''] + labels)\n",
    "ax.set_yticklabels([''] + labels)\n",
    "plt.xlabel('y_pred')\n",
    "plt.ylabel('y_test')\n",
    "plt.show()"
   ]
  },
  {
   "cell_type": "code",
   "execution_count": null,
   "metadata": {},
   "outputs": [],
   "source": []
  }
 ],
 "metadata": {
  "kernelspec": {
   "display_name": "Python 3",
   "language": "python",
   "name": "python3"
  },
  "language_info": {
   "codemirror_mode": {
    "name": "ipython",
    "version": 3
   },
   "file_extension": ".py",
   "mimetype": "text/x-python",
   "name": "python",
   "nbconvert_exporter": "python",
   "pygments_lexer": "ipython3",
   "version": "3.7.4"
  }
 },
 "nbformat": 4,
 "nbformat_minor": 2
}
